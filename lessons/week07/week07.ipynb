{
  "nbformat": 4,
  "nbformat_minor": 0,
  "metadata": {
    "colab": {
      "provenance": [],
      "toc_visible": true
    },
    "kernelspec": {
      "name": "python3",
      "display_name": "Python 3"
    },
    "language_info": {
      "name": "python"
    },
    "widgets": {
      "application/vnd.jupyter.widget-state+json": {
        "711a732747eb49dc9d23e80db1ae8308": {
          "model_module": "@jupyter-widgets/controls",
          "model_name": "HBoxModel",
          "model_module_version": "1.5.0",
          "state": {
            "_dom_classes": [],
            "_model_module": "@jupyter-widgets/controls",
            "_model_module_version": "1.5.0",
            "_model_name": "HBoxModel",
            "_view_count": null,
            "_view_module": "@jupyter-widgets/controls",
            "_view_module_version": "1.5.0",
            "_view_name": "HBoxView",
            "box_style": "",
            "children": [
              "IPY_MODEL_3b642511aa3245b294cc644211058746",
              "IPY_MODEL_c0d91ff493d8461f86a44d160bc88094",
              "IPY_MODEL_5e64d4a1ebd6418bbaca755891e18449"
            ],
            "layout": "IPY_MODEL_d95e8ece10cd4d0d8301f1ec837fe820"
          }
        },
        "3b642511aa3245b294cc644211058746": {
          "model_module": "@jupyter-widgets/controls",
          "model_name": "HTMLModel",
          "model_module_version": "1.5.0",
          "state": {
            "_dom_classes": [],
            "_model_module": "@jupyter-widgets/controls",
            "_model_module_version": "1.5.0",
            "_model_name": "HTMLModel",
            "_view_count": null,
            "_view_module": "@jupyter-widgets/controls",
            "_view_module_version": "1.5.0",
            "_view_name": "HTMLView",
            "description": "",
            "description_tooltip": null,
            "layout": "IPY_MODEL_42cbad0df67b438c95d5a036aca6b98b",
            "placeholder": "​",
            "style": "IPY_MODEL_b37fa5a494a14e66b8fa978d4da0b2cc",
            "value": "100%"
          }
        },
        "c0d91ff493d8461f86a44d160bc88094": {
          "model_module": "@jupyter-widgets/controls",
          "model_name": "FloatProgressModel",
          "model_module_version": "1.5.0",
          "state": {
            "_dom_classes": [],
            "_model_module": "@jupyter-widgets/controls",
            "_model_module_version": "1.5.0",
            "_model_name": "FloatProgressModel",
            "_view_count": null,
            "_view_module": "@jupyter-widgets/controls",
            "_view_module_version": "1.5.0",
            "_view_name": "ProgressView",
            "bar_style": "success",
            "description": "",
            "description_tooltip": null,
            "layout": "IPY_MODEL_3f3cdc25623344118a786982f16732ee",
            "max": 100,
            "min": 0,
            "orientation": "horizontal",
            "style": "IPY_MODEL_5d33c26a32e248ce86da7a6a025854c9",
            "value": 100
          }
        },
        "5e64d4a1ebd6418bbaca755891e18449": {
          "model_module": "@jupyter-widgets/controls",
          "model_name": "HTMLModel",
          "model_module_version": "1.5.0",
          "state": {
            "_dom_classes": [],
            "_model_module": "@jupyter-widgets/controls",
            "_model_module_version": "1.5.0",
            "_model_name": "HTMLModel",
            "_view_count": null,
            "_view_module": "@jupyter-widgets/controls",
            "_view_module_version": "1.5.0",
            "_view_name": "HTMLView",
            "description": "",
            "description_tooltip": null,
            "layout": "IPY_MODEL_aa0551107bd2446e87362bf08662d874",
            "placeholder": "​",
            "style": "IPY_MODEL_dfe1f241c52947b4bad803ab9004a162",
            "value": " 100/100 [00:11&lt;00:00, 10.38it/s]"
          }
        },
        "d95e8ece10cd4d0d8301f1ec837fe820": {
          "model_module": "@jupyter-widgets/base",
          "model_name": "LayoutModel",
          "model_module_version": "1.2.0",
          "state": {
            "_model_module": "@jupyter-widgets/base",
            "_model_module_version": "1.2.0",
            "_model_name": "LayoutModel",
            "_view_count": null,
            "_view_module": "@jupyter-widgets/base",
            "_view_module_version": "1.2.0",
            "_view_name": "LayoutView",
            "align_content": null,
            "align_items": null,
            "align_self": null,
            "border": null,
            "bottom": null,
            "display": null,
            "flex": null,
            "flex_flow": null,
            "grid_area": null,
            "grid_auto_columns": null,
            "grid_auto_flow": null,
            "grid_auto_rows": null,
            "grid_column": null,
            "grid_gap": null,
            "grid_row": null,
            "grid_template_areas": null,
            "grid_template_columns": null,
            "grid_template_rows": null,
            "height": null,
            "justify_content": null,
            "justify_items": null,
            "left": null,
            "margin": null,
            "max_height": null,
            "max_width": null,
            "min_height": null,
            "min_width": null,
            "object_fit": null,
            "object_position": null,
            "order": null,
            "overflow": null,
            "overflow_x": null,
            "overflow_y": null,
            "padding": null,
            "right": null,
            "top": null,
            "visibility": null,
            "width": null
          }
        },
        "42cbad0df67b438c95d5a036aca6b98b": {
          "model_module": "@jupyter-widgets/base",
          "model_name": "LayoutModel",
          "model_module_version": "1.2.0",
          "state": {
            "_model_module": "@jupyter-widgets/base",
            "_model_module_version": "1.2.0",
            "_model_name": "LayoutModel",
            "_view_count": null,
            "_view_module": "@jupyter-widgets/base",
            "_view_module_version": "1.2.0",
            "_view_name": "LayoutView",
            "align_content": null,
            "align_items": null,
            "align_self": null,
            "border": null,
            "bottom": null,
            "display": null,
            "flex": null,
            "flex_flow": null,
            "grid_area": null,
            "grid_auto_columns": null,
            "grid_auto_flow": null,
            "grid_auto_rows": null,
            "grid_column": null,
            "grid_gap": null,
            "grid_row": null,
            "grid_template_areas": null,
            "grid_template_columns": null,
            "grid_template_rows": null,
            "height": null,
            "justify_content": null,
            "justify_items": null,
            "left": null,
            "margin": null,
            "max_height": null,
            "max_width": null,
            "min_height": null,
            "min_width": null,
            "object_fit": null,
            "object_position": null,
            "order": null,
            "overflow": null,
            "overflow_x": null,
            "overflow_y": null,
            "padding": null,
            "right": null,
            "top": null,
            "visibility": null,
            "width": null
          }
        },
        "b37fa5a494a14e66b8fa978d4da0b2cc": {
          "model_module": "@jupyter-widgets/controls",
          "model_name": "DescriptionStyleModel",
          "model_module_version": "1.5.0",
          "state": {
            "_model_module": "@jupyter-widgets/controls",
            "_model_module_version": "1.5.0",
            "_model_name": "DescriptionStyleModel",
            "_view_count": null,
            "_view_module": "@jupyter-widgets/base",
            "_view_module_version": "1.2.0",
            "_view_name": "StyleView",
            "description_width": ""
          }
        },
        "3f3cdc25623344118a786982f16732ee": {
          "model_module": "@jupyter-widgets/base",
          "model_name": "LayoutModel",
          "model_module_version": "1.2.0",
          "state": {
            "_model_module": "@jupyter-widgets/base",
            "_model_module_version": "1.2.0",
            "_model_name": "LayoutModel",
            "_view_count": null,
            "_view_module": "@jupyter-widgets/base",
            "_view_module_version": "1.2.0",
            "_view_name": "LayoutView",
            "align_content": null,
            "align_items": null,
            "align_self": null,
            "border": null,
            "bottom": null,
            "display": null,
            "flex": null,
            "flex_flow": null,
            "grid_area": null,
            "grid_auto_columns": null,
            "grid_auto_flow": null,
            "grid_auto_rows": null,
            "grid_column": null,
            "grid_gap": null,
            "grid_row": null,
            "grid_template_areas": null,
            "grid_template_columns": null,
            "grid_template_rows": null,
            "height": null,
            "justify_content": null,
            "justify_items": null,
            "left": null,
            "margin": null,
            "max_height": null,
            "max_width": null,
            "min_height": null,
            "min_width": null,
            "object_fit": null,
            "object_position": null,
            "order": null,
            "overflow": null,
            "overflow_x": null,
            "overflow_y": null,
            "padding": null,
            "right": null,
            "top": null,
            "visibility": null,
            "width": null
          }
        },
        "5d33c26a32e248ce86da7a6a025854c9": {
          "model_module": "@jupyter-widgets/controls",
          "model_name": "ProgressStyleModel",
          "model_module_version": "1.5.0",
          "state": {
            "_model_module": "@jupyter-widgets/controls",
            "_model_module_version": "1.5.0",
            "_model_name": "ProgressStyleModel",
            "_view_count": null,
            "_view_module": "@jupyter-widgets/base",
            "_view_module_version": "1.2.0",
            "_view_name": "StyleView",
            "bar_color": null,
            "description_width": ""
          }
        },
        "aa0551107bd2446e87362bf08662d874": {
          "model_module": "@jupyter-widgets/base",
          "model_name": "LayoutModel",
          "model_module_version": "1.2.0",
          "state": {
            "_model_module": "@jupyter-widgets/base",
            "_model_module_version": "1.2.0",
            "_model_name": "LayoutModel",
            "_view_count": null,
            "_view_module": "@jupyter-widgets/base",
            "_view_module_version": "1.2.0",
            "_view_name": "LayoutView",
            "align_content": null,
            "align_items": null,
            "align_self": null,
            "border": null,
            "bottom": null,
            "display": null,
            "flex": null,
            "flex_flow": null,
            "grid_area": null,
            "grid_auto_columns": null,
            "grid_auto_flow": null,
            "grid_auto_rows": null,
            "grid_column": null,
            "grid_gap": null,
            "grid_row": null,
            "grid_template_areas": null,
            "grid_template_columns": null,
            "grid_template_rows": null,
            "height": null,
            "justify_content": null,
            "justify_items": null,
            "left": null,
            "margin": null,
            "max_height": null,
            "max_width": null,
            "min_height": null,
            "min_width": null,
            "object_fit": null,
            "object_position": null,
            "order": null,
            "overflow": null,
            "overflow_x": null,
            "overflow_y": null,
            "padding": null,
            "right": null,
            "top": null,
            "visibility": null,
            "width": null
          }
        },
        "dfe1f241c52947b4bad803ab9004a162": {
          "model_module": "@jupyter-widgets/controls",
          "model_name": "DescriptionStyleModel",
          "model_module_version": "1.5.0",
          "state": {
            "_model_module": "@jupyter-widgets/controls",
            "_model_module_version": "1.5.0",
            "_model_name": "DescriptionStyleModel",
            "_view_count": null,
            "_view_module": "@jupyter-widgets/base",
            "_view_module_version": "1.2.0",
            "_view_name": "StyleView",
            "description_width": ""
          }
        }
      }
    }
  },
  "cells": [
    {
      "cell_type": "code",
      "execution_count": 107,
      "metadata": {
        "id": "VXR2nP5VgXN8"
      },
      "outputs": [],
      "source": [
        "import random\n",
        "import numpy as np\n",
        "from PIL import Image\n",
        "from copy import deepcopy\n",
        "\n",
        "import torch\n",
        "import torch.optim as optim\n",
        "import torch.nn as nn\n",
        "import torch.nn.functional as F\n",
        "\n",
        "from torch.utils.data import DataLoader, Dataset\n",
        "from torchvision.transforms import Compose, ToTensor, Normalize, ToPILImage, Resize\n",
        "from torch.utils.data import random_split, WeightedRandomSampler\n",
        "\n",
        "\n",
        "from torchvision.datasets import ImageFolder\n",
        "from torch.optim.lr_scheduler import StepLR, ReduceLROnPlateau, MultiStepLR, CyclicLR, LambdaLR\n",
        "\n",
        "import matplotlib.pyplot as plt\n",
        "plt.style.use('fivethirtyeight')\n",
        "\n",
        "# for download rps\n",
        "import requests\n",
        "import zipfile\n",
        "import os\n",
        "import errno"
      ]
    },
    {
      "cell_type": "markdown",
      "source": [
        "## Architecture class"
      ],
      "metadata": {
        "id": "h38OikK_-d4M"
      }
    },
    {
      "cell_type": "code",
      "source": [
        "class Architecture(object):\n",
        "    def __init__(self, model, loss_fn, optimizer):\n",
        "        # Here we define the attributes of our class\n",
        "\n",
        "        # We start by storing the arguments as attributes\n",
        "        # to use them later\n",
        "        self.model = model\n",
        "        self.loss_fn = loss_fn\n",
        "        self.optimizer = optimizer\n",
        "        self.device = 'cuda' if torch.cuda.is_available() else 'cpu'\n",
        "        # Let's send the model to the specified device right away\n",
        "        self.model.to(self.device)\n",
        "\n",
        "        # These attributes are defined here, but since they are\n",
        "        # not informed at the moment of creation, we keep them None\n",
        "        self.train_loader = None\n",
        "        self.val_loader = None\n",
        "\n",
        "        # These attributes are going to be computed internally\n",
        "        self.losses = []\n",
        "        self.val_losses = []\n",
        "        self.total_epochs = 0\n",
        "\n",
        "        # Creates the train_step function for our model,\n",
        "        # loss function and optimizer\n",
        "        # Note: there are NO ARGS there! It makes use of the class\n",
        "        # attributes directly\n",
        "        self.train_step_fn = self._make_train_step_fn()\n",
        "        # Creates the val_step function for our model and loss\n",
        "        self.val_step_fn = self._make_val_step_fn()\n",
        "\n",
        "        # for hook purposes\n",
        "        self.handles = {}\n",
        "        self.visualization = {}\n",
        "\n",
        "    def to(self, device):\n",
        "        # This method allows the user to specify a different device\n",
        "        # It sets the corresponding attribute (to be used later in\n",
        "        # the mini-batches) and sends the model to the device\n",
        "        try:\n",
        "            self.device = device\n",
        "            self.model.to(self.device)\n",
        "        except RuntimeError:\n",
        "            self.device = 'cuda' if torch.cuda.is_available() else 'cpu'\n",
        "            print(f\"Couldn't send it to {device}, sending it to {self.device} instead.\")\n",
        "            self.model.to(self.device)\n",
        "\n",
        "    def set_loaders(self, train_loader, val_loader=None):\n",
        "        # This method allows the user to define which train_loader (and val_loader, optionally) to use\n",
        "        # Both loaders are then assigned to attributes of the class\n",
        "        # So they can be referred to later\n",
        "        self.train_loader = train_loader\n",
        "        self.val_loader = val_loader\n",
        "\n",
        "    def _make_train_step_fn(self):\n",
        "        # This method does not need ARGS... it can refer to\n",
        "        # the attributes: self.model, self.loss_fn and self.optimizer\n",
        "\n",
        "        # Builds function that performs a step in the train loop\n",
        "        def perform_train_step_fn(x, y):\n",
        "            # Sets model to TRAIN mode\n",
        "            self.model.train()\n",
        "\n",
        "            # Step 1 - Computes our model's predicted output - forward pass\n",
        "            yhat = self.model(x)\n",
        "            # Step 2 - Computes the loss\n",
        "            loss = self.loss_fn(yhat, y)\n",
        "            # Step 3 - Computes gradients for both \"a\" and \"b\" parameters\n",
        "            loss.backward()\n",
        "            # Step 4 - Updates parameters using gradients and the learning rate\n",
        "            self.optimizer.step()\n",
        "            self.optimizer.zero_grad()\n",
        "\n",
        "            # Returns the loss\n",
        "            return loss.item()\n",
        "\n",
        "        # Returns the function that will be called inside the train loop\n",
        "        return perform_train_step_fn\n",
        "\n",
        "    def _make_val_step_fn(self):\n",
        "        # Builds function that performs a step in the validation loop\n",
        "        def perform_val_step_fn(x, y):\n",
        "            # Sets model to EVAL mode\n",
        "            self.model.eval()\n",
        "\n",
        "            # Step 1 - Computes our model's predicted output - forward pass\n",
        "            yhat = self.model(x)\n",
        "            # Step 2 - Computes the loss\n",
        "            loss = self.loss_fn(yhat, y)\n",
        "            # There is no need to compute Steps 3 and 4, since we don't update parameters during evaluation\n",
        "            return loss.item()\n",
        "\n",
        "        return perform_val_step_fn\n",
        "\n",
        "    def _mini_batch(self, validation=False):\n",
        "        # The mini-batch can be used with both loaders\n",
        "        # The argument `validation`defines which loader and\n",
        "        # corresponding step function is going to be used\n",
        "        if validation:\n",
        "            data_loader = self.val_loader\n",
        "            step_fn = self.val_step_fn\n",
        "        else:\n",
        "            data_loader = self.train_loader\n",
        "            step_fn = self.train_step_fn\n",
        "\n",
        "        if data_loader is None:\n",
        "            return None\n",
        "\n",
        "        # Once the data loader and step function, this is the same\n",
        "        # mini-batch loop we had before\n",
        "        mini_batch_losses = []\n",
        "        for x_batch, y_batch in data_loader:\n",
        "            x_batch = x_batch.to(self.device)\n",
        "            y_batch = y_batch.to(self.device)\n",
        "\n",
        "            mini_batch_loss = step_fn(x_batch, y_batch)\n",
        "            mini_batch_losses.append(mini_batch_loss)\n",
        "\n",
        "        loss = np.mean(mini_batch_losses)\n",
        "        return loss\n",
        "\n",
        "    # this function was updated in this class\n",
        "    def set_seed(self, seed=42):\n",
        "        torch.backends.cudnn.deterministic = True\n",
        "        torch.backends.cudnn.benchmark = False\n",
        "        torch.manual_seed(seed)\n",
        "        np.random.seed(seed)\n",
        "        random.seed(seed)\n",
        "        try:\n",
        "            self.train_loader.sampler.generator.manual_seed(seed)\n",
        "        except AttributeError:\n",
        "            pass\n",
        "\n",
        "    def train(self, n_epochs, seed=42):\n",
        "        # To ensure reproducibility of the training process\n",
        "        self.set_seed(seed)\n",
        "\n",
        "        for epoch in range(n_epochs):\n",
        "            # Keeps track of the numbers of epochs\n",
        "            # by updating the corresponding attribute\n",
        "            self.total_epochs += 1\n",
        "\n",
        "            # inner loop\n",
        "            # Performs training using mini-batches\n",
        "            loss = self._mini_batch(validation=False)\n",
        "            self.losses.append(loss)\n",
        "\n",
        "            # VALIDATION\n",
        "            # no gradients in validation!\n",
        "            with torch.no_grad():\n",
        "                # Performs evaluation using mini-batches\n",
        "                val_loss = self._mini_batch(validation=True)\n",
        "                self.val_losses.append(val_loss)\n",
        "\n",
        "    def save_checkpoint(self, filename):\n",
        "        # Builds dictionary with all elements for resuming training\n",
        "        checkpoint = {'epoch': self.total_epochs,\n",
        "                      'model_state_dict': self.model.state_dict(),\n",
        "                      'optimizer_state_dict': self.optimizer.state_dict(),\n",
        "                      'loss': self.losses,\n",
        "                      'val_loss': self.val_losses}\n",
        "\n",
        "        torch.save(checkpoint, filename)\n",
        "\n",
        "    def load_checkpoint(self, filename):\n",
        "        # Loads dictionary\n",
        "        checkpoint = torch.load(filename)\n",
        "\n",
        "        # Restore state for model and optimizer\n",
        "        self.model.load_state_dict(checkpoint['model_state_dict'])\n",
        "        self.optimizer.load_state_dict(checkpoint['optimizer_state_dict'])\n",
        "\n",
        "        self.total_epochs = checkpoint['epoch']\n",
        "        self.losses = checkpoint['loss']\n",
        "        self.val_losses = checkpoint['val_loss']\n",
        "\n",
        "        self.model.train() # always use TRAIN for resuming training\n",
        "\n",
        "    def predict(self, x):\n",
        "        # Set is to evaluation mode for predictions\n",
        "        self.model.eval()\n",
        "        # Takes aNumpy input and make it a float tensor\n",
        "        x_tensor = torch.as_tensor(x).float()\n",
        "        # Send input to device and uses model for prediction\n",
        "        y_hat_tensor = self.model(x_tensor.to(self.device))\n",
        "        # Set it back to train mode\n",
        "        self.model.train()\n",
        "        # Detaches it, brings it to CPU and back to Numpy\n",
        "        return y_hat_tensor.detach().cpu().numpy()\n",
        "\n",
        "    def count_parameters(self):\n",
        "      return sum(p.numel() for p in self.model.parameters() if p.requires_grad)\n",
        "\n",
        "    def plot_losses(self):\n",
        "        fig = plt.figure(figsize=(10, 4))\n",
        "        plt.plot(self.losses, label='Training Loss', c='b')\n",
        "        plt.plot(self.val_losses, label='Validation Loss', c='r')\n",
        "        plt.yscale('log')\n",
        "        plt.xlabel('Epochs')\n",
        "        plt.ylabel('Loss')\n",
        "        plt.legend()\n",
        "        plt.tight_layout()\n",
        "        return fig\n",
        "\n",
        "    @staticmethod\n",
        "    def _visualize_tensors(axs, x, y=None, yhat=None, layer_name='', title=None):\n",
        "        # The number of images is the number of subplots in a row\n",
        "        n_images = len(axs)\n",
        "        # Gets max and min values for scaling the grayscale\n",
        "        minv, maxv = np.min(x[:n_images]), np.max(x[:n_images])\n",
        "        # For each image\n",
        "        for j, image in enumerate(x[:n_images]):\n",
        "            ax = axs[j]\n",
        "            # Sets title, labels, and removes ticks\n",
        "            if title is not None:\n",
        "                ax.set_title(f'{title} #{j}', fontsize=12)\n",
        "            shp = np.atleast_2d(image).shape\n",
        "            ax.set_ylabel(\n",
        "                f'{layer_name}\\n{shp[0]}x{shp[1]}',\n",
        "                rotation=0, labelpad=40\n",
        "            )\n",
        "            xlabel1 = '' if y is None else f'\\nLabel: {y[j]}'\n",
        "            xlabel2 = '' if yhat is None else f'\\nPredicted: {yhat[j]}'\n",
        "            xlabel = f'{xlabel1}{xlabel2}'\n",
        "            if len(xlabel):\n",
        "                ax.set_xlabel(xlabel, fontsize=12)\n",
        "            ax.set_xticks([])\n",
        "            ax.set_yticks([])\n",
        "\n",
        "            # Plots weight as an image\n",
        "            ax.imshow(\n",
        "                np.atleast_2d(image.squeeze()),\n",
        "                cmap='gray',\n",
        "                vmin=minv,\n",
        "                vmax=maxv\n",
        "            )\n",
        "        return\n",
        "\n",
        "    def visualize_filters(self, layer_name, **kwargs):\n",
        "        try:\n",
        "            # Gets the layer object from the model\n",
        "            layer = self.model\n",
        "            for name in layer_name.split('.'):\n",
        "                layer = getattr(layer, name)\n",
        "            # We are only looking at filters for 2D convolutions\n",
        "            if isinstance(layer, nn.Conv2d):\n",
        "                # Takes the weight information\n",
        "                weights = layer.weight.data.cpu().numpy()\n",
        "                # weights -> (channels_out (filter), channels_in, H, W)\n",
        "                n_filters, n_channels, _, _ = weights.shape\n",
        "\n",
        "                # Builds a figure\n",
        "                size = (2 * n_channels + 2, 2 * n_filters)\n",
        "                fig, axes = plt.subplots(n_filters, n_channels,\n",
        "                                        figsize=size)\n",
        "                axes = np.atleast_2d(axes)\n",
        "                axes = axes.reshape(n_filters, n_channels)\n",
        "                # For each channel_out (filter)\n",
        "                for i in range(n_filters):\n",
        "                    Architecture._visualize_tensors(\n",
        "                        axes[i, :],\n",
        "                        weights[i],\n",
        "                        layer_name=f'Filter #{i}',\n",
        "                        title='Channel'\n",
        "                    )\n",
        "\n",
        "                for ax in axes.flat:\n",
        "                    ax.label_outer()\n",
        "\n",
        "                fig.tight_layout()\n",
        "                return fig\n",
        "        except AttributeError:\n",
        "            return\n",
        "\n",
        "    def attach_hooks(self, layers_to_hook, hook_fn=None):\n",
        "        # Clear any previous values\n",
        "        self.visualization = {}\n",
        "        # Creates the dictionary to map layer objects to their names\n",
        "        modules = list(self.model.named_modules())\n",
        "        layer_names = {layer: name for name, layer in modules[1:]}\n",
        "\n",
        "        if hook_fn is None:\n",
        "            # Hook function to be attached to the forward pass\n",
        "            def hook_fn(layer, inputs, outputs):\n",
        "                # Gets the layer name\n",
        "                name = layer_names[layer]\n",
        "                # Detaches outputs\n",
        "                values = outputs.detach().cpu().numpy()\n",
        "                # Since the hook function may be called multiple times\n",
        "                # for example, if we make predictions for multiple mini-batches\n",
        "                # it concatenates the results\n",
        "                if self.visualization[name] is None:\n",
        "                    self.visualization[name] = values\n",
        "                else:\n",
        "                    self.visualization[name] = np.concatenate([self.visualization[name], values])\n",
        "\n",
        "        for name, layer in modules:\n",
        "            # If the layer is in our list\n",
        "            if name in layers_to_hook:\n",
        "                # Initializes the corresponding key in the dictionary\n",
        "                self.visualization[name] = None\n",
        "                # Register the forward hook and keep the handle in another dict\n",
        "                self.handles[name] = layer.register_forward_hook(hook_fn)\n",
        "\n",
        "    def remove_hooks(self):\n",
        "        # Loops through all hooks and removes them\n",
        "        for handle in self.handles.values():\n",
        "            handle.remove()\n",
        "        # Clear the dict, as all hooks have been removed\n",
        "        self.handles = {}\n",
        "\n",
        "    def visualize_outputs(self, layers, n_images=10, y=None, yhat=None):\n",
        "        layers = filter(lambda l: l in self.visualization.keys(), layers)\n",
        "        layers = list(layers)\n",
        "        shapes = [self.visualization[layer].shape for layer in layers]\n",
        "        n_rows = [shape[1] if len(shape) == 4 else 1\n",
        "                  for shape in shapes]\n",
        "        total_rows = np.sum(n_rows)\n",
        "\n",
        "        fig, axes = plt.subplots(total_rows, n_images,\n",
        "                                figsize=(1.5*n_images, 1.5*total_rows))\n",
        "        axes = np.atleast_2d(axes).reshape(total_rows, n_images)\n",
        "\n",
        "        # Loops through the layers, one layer per row of subplots\n",
        "        row = 0\n",
        "        for i, layer in enumerate(layers):\n",
        "            start_row = row\n",
        "            # Takes the produced feature maps for that layer\n",
        "            output = self.visualization[layer]\n",
        "\n",
        "            is_vector = len(output.shape) == 2\n",
        "\n",
        "            for j in range(n_rows[i]):\n",
        "                Architecture._visualize_tensors(\n",
        "                    axes[row, :],\n",
        "                    output if is_vector else output[:, j].squeeze(),\n",
        "                    y,\n",
        "                    yhat,\n",
        "                    layer_name=layers[i] \\\n",
        "                              if is_vector \\\n",
        "                              else f'{layers[i]}\\nfil#{row-start_row}',\n",
        "                    title='Image' if (row == 0) else None\n",
        "                )\n",
        "                row += 1\n",
        "\n",
        "        for ax in axes.flat:\n",
        "            ax.label_outer()\n",
        "\n",
        "        plt.tight_layout()\n",
        "        return fig\n",
        "\n",
        "    def correct(self, x, y, threshold=.5):\n",
        "        self.model.eval()\n",
        "        yhat = self.model(x.to(self.device))\n",
        "        y = y.to(self.device)\n",
        "        self.model.train()\n",
        "\n",
        "        # We get the size of the batch and the number of classes\n",
        "        # (only 1, if it is binary)\n",
        "        n_samples, n_dims = yhat.shape\n",
        "        if n_dims > 1:\n",
        "            # In a multiclass classification, the biggest logit\n",
        "            # always wins, so we don't bother getting probabilities\n",
        "\n",
        "            # This is PyTorch's version of argmax,\n",
        "            # but it returns a tuple: (max value, index of max value)\n",
        "            _, predicted = torch.max(yhat, 1)\n",
        "        else:\n",
        "            n_dims += 1\n",
        "            # In binary classification, we NEED to check if the\n",
        "            # last layer is a sigmoid (and then it produces probs)\n",
        "            if isinstance(self.model, nn.Sequential) and \\\n",
        "              isinstance(self.model[-1], nn.Sigmoid):\n",
        "                predicted = (yhat > threshold).long()\n",
        "            # or something else (logits), which we need to convert\n",
        "            # using a sigmoid\n",
        "            else:\n",
        "                predicted = (F.sigmoid(yhat) > threshold).long()\n",
        "\n",
        "        # How many samples got classified correctly for each class\n",
        "        result = []\n",
        "        for c in range(n_dims):\n",
        "            n_class = (y == c).sum().item()\n",
        "            n_correct = (predicted[y == c] == c).sum().item()\n",
        "            result.append((n_correct, n_class))\n",
        "        return torch.tensor(result)\n",
        "\n",
        "\n",
        "    @staticmethod\n",
        "    def loader_apply(loader, func, reduce='sum'):\n",
        "        results = [func(x, y) for i, (x, y) in enumerate(loader)]\n",
        "        results = torch.stack(results, axis=0)\n",
        "\n",
        "        if reduce == 'sum':\n",
        "            results = results.sum(axis=0)\n",
        "        elif reduce == 'mean':\n",
        "            results = results.float().mean(axis=0)\n",
        "\n",
        "        return results\n",
        "\n",
        "    @staticmethod\n",
        "    def statistics_per_channel(images, labels):\n",
        "        # NCHW\n",
        "        n_samples, n_channels, n_height, n_weight = images.size()\n",
        "        # Flatten HW into a single dimension\n",
        "        flatten_per_channel = images.reshape(n_samples, n_channels, -1)\n",
        "\n",
        "        # Computes statistics of each image per channel\n",
        "        # Average pixel value per channel\n",
        "        # (n_samples, n_channels)\n",
        "        means = flatten_per_channel.mean(axis=2)\n",
        "        # Standard deviation of pixel values per channel\n",
        "        # (n_samples, n_channels)\n",
        "        stds = flatten_per_channel.std(axis=2)\n",
        "\n",
        "        # Adds up statistics of all images in a mini-batch\n",
        "        # (1, n_channels)\n",
        "        sum_means = means.sum(axis=0)\n",
        "        sum_stds = stds.sum(axis=0)\n",
        "        # Makes a tensor of shape (1, n_channels)\n",
        "        # with the number of samples in the mini-batch\n",
        "        n_samples = torch.tensor([n_samples]*n_channels).float()\n",
        "\n",
        "        # Stack the three tensors on top of one another\n",
        "        # (3, n_channels)\n",
        "        return torch.stack([n_samples, sum_means, sum_stds], axis=0)\n",
        "\n",
        "    @staticmethod\n",
        "    def make_normalizer(loader):\n",
        "        total_samples, total_means, total_stds = Architecture.loader_apply(loader, Architecture.statistics_per_channel)\n",
        "        norm_mean = total_means / total_samples\n",
        "        norm_std = total_stds / total_samples\n",
        "        return Normalize(mean=norm_mean, std=norm_std)\n",
        "\n",
        "    def lr_range_test(self, data_loader, end_lr, num_iter=100, step_mode='exp', alpha=0.05, ax=None):\n",
        "        # Since the test updates both model and optimizer we need to store\n",
        "        # their initial states to restore them in the end\n",
        "        previous_states = {'model': deepcopy(self.model.state_dict()),\n",
        "                          'optimizer': deepcopy(self.optimizer.state_dict())}\n",
        "        # Retrieves the learning rate set in the optimizer\n",
        "        start_lr = self.optimizer.state_dict()['param_groups'][0]['lr']\n",
        "\n",
        "        # Builds a custom function and corresponding scheduler\n",
        "        lr_fn = make_lr_fn(start_lr, end_lr, num_iter)\n",
        "        scheduler = LambdaLR(self.optimizer, lr_lambda=lr_fn)\n",
        "\n",
        "        # Variables for tracking results and iterations\n",
        "        tracking = {'loss': [], 'lr': []}\n",
        "        iteration = 0\n",
        "\n",
        "        # If there are more iterations than mini-batches in the data loader,\n",
        "        # it will have to loop over it more than once\n",
        "        while (iteration < num_iter):\n",
        "            # That's the typical mini-batch inner loop\n",
        "            for x_batch, y_batch in data_loader:\n",
        "                x_batch = x_batch.to(self.device)\n",
        "                y_batch = y_batch.to(self.device)\n",
        "                # Step 1\n",
        "                yhat = self.model(x_batch)\n",
        "                # Step 2\n",
        "                loss = self.loss_fn(yhat, y_batch)\n",
        "                # Step 3\n",
        "                loss.backward()\n",
        "\n",
        "                # Here we keep track of the losses (smoothed)\n",
        "                # and the learning rates\n",
        "                tracking['lr'].append(scheduler.get_last_lr()[0])\n",
        "                if iteration == 0:\n",
        "                    tracking['loss'].append(loss.item())\n",
        "                else:\n",
        "                    prev_loss = tracking['loss'][-1]\n",
        "                    smoothed_loss = alpha * loss.item() + (1-alpha) * prev_loss\n",
        "                    tracking['loss'].append(smoothed_loss)\n",
        "\n",
        "                iteration += 1\n",
        "                # Number of iterations reached\n",
        "                if iteration == num_iter:\n",
        "                    break\n",
        "\n",
        "                # Step 4\n",
        "                self.optimizer.step()\n",
        "                scheduler.step()\n",
        "                self.optimizer.zero_grad()\n",
        "\n",
        "        # Restores the original states\n",
        "        self.optimizer.load_state_dict(previous_states['optimizer'])\n",
        "        self.model.load_state_dict(previous_states['model'])\n",
        "\n",
        "        if ax is None:\n",
        "            fig, ax = plt.subplots(1, 1, figsize=(6, 4))\n",
        "        else:\n",
        "            fig = ax.get_figure()\n",
        "        ax.plot(tracking['lr'], tracking['loss'])\n",
        "        if step_mode == 'exp':\n",
        "            ax.set_xscale('log')\n",
        "        ax.set_xlabel('Learning Rate')\n",
        "        ax.set_ylabel('Loss')\n",
        "        fig.tight_layout()\n",
        "        return tracking, fig\n",
        "\n",
        "    def set_optimizer(self, optimizer):\n",
        "        self.optimizer = optimizer"
      ],
      "metadata": {
        "id": "tYxCEnws8T7L"
      },
      "execution_count": 113,
      "outputs": []
    },
    {
      "cell_type": "markdown",
      "source": [
        "# Data Generation"
      ],
      "metadata": {
        "id": "_Ht9VCubz7DU"
      }
    },
    {
      "cell_type": "markdown",
      "source": [
        ">This dataset was created by Laurence Moroney (lmoroney@gmail.com / [laurencemoroney.com](http://www.laurencemoroney.com)) and can be found in his site: [Rock Paper Scissors Dataset](https://laurencemoroney.com/datasets.html#rock-paper-scissors-dataset).\n",
        "\n",
        ">The dataset is licensed as Creative Commons (CC BY 2.0). No changes were made to the dataset."
      ],
      "metadata": {
        "id": "14goKgXj0CwA"
      }
    },
    {
      "cell_type": "code",
      "source": [
        "def download_rps(localfolder=''):\n",
        "    filenames = ['rps.zip', 'rps-test-set.zip']\n",
        "    for filename in filenames:\n",
        "        try:\n",
        "            os.mkdir(f'{localfolder}{filename[:-4]}')\n",
        "\n",
        "            localfile = f'{localfolder}{filename}'\n",
        "            # url = 'https://storage.googleapis.com/laurencemoroney-blog.appspot.com/{}'\n",
        "            # Updated from TFDS URL at\n",
        "            # https://github.com/tensorflow/datasets/blob/master/tensorflow_datasets/datasets/rock_paper_scissors/rock_paper_scissors_dataset_builder.py\n",
        "            url = 'https://storage.googleapis.com/download.tensorflow.org/data/{}'\n",
        "            r = requests.get(url.format(filename), allow_redirects=True)\n",
        "            open(localfile, 'wb').write(r.content)\n",
        "            with zipfile.ZipFile(localfile, 'r') as zip_ref:\n",
        "                zip_ref.extractall(localfolder)\n",
        "        except OSError as e:\n",
        "            if e.errno != errno.EEXIST:\n",
        "                raise\n",
        "            else:\n",
        "                print(f'{filename[:-4]} folder already exists!')"
      ],
      "metadata": {
        "id": "UmK15XIdz8m6"
      },
      "execution_count": 8,
      "outputs": []
    },
    {
      "cell_type": "code",
      "source": [
        "download_rps()"
      ],
      "metadata": {
        "id": "UNtjcdYV0b44"
      },
      "execution_count": 9,
      "outputs": []
    },
    {
      "cell_type": "markdown",
      "metadata": {
        "id": "R9wh98Ryx7Pd"
      },
      "source": [
        "# Data Preparation"
      ]
    },
    {
      "cell_type": "markdown",
      "metadata": {
        "id": "JPpGYgTYx7Pe"
      },
      "source": [
        "## ImageFolder"
      ]
    },
    {
      "cell_type": "code",
      "execution_count": 10,
      "metadata": {
        "id": "usfX4Pymx7Pe"
      },
      "outputs": [],
      "source": [
        "# images are resized to 28x28 pixels\n",
        "# automatically transformed to the RGB color model by the PIL loader,\n",
        "# thus losing the alpha channel\n",
        "temp_transform = Compose([Resize(28), ToTensor()])\n",
        "temp_dataset = ImageFolder(root='rps', transform=temp_transform)"
      ]
    },
    {
      "cell_type": "code",
      "execution_count": 11,
      "metadata": {
        "id": "QKTSUQSSx7Pe",
        "outputId": "0245905c-cdb5-468d-f5fd-f512ef135304",
        "colab": {
          "base_uri": "https://localhost:8080/"
        }
      },
      "outputs": [
        {
          "output_type": "execute_result",
          "data": {
            "text/plain": [
              "(torch.Size([3, 28, 28]), 0)"
            ]
          },
          "metadata": {},
          "execution_count": 11
        }
      ],
      "source": [
        "# the second element of this tuple is the label\n",
        "temp_dataset[0][0].shape, temp_dataset[0][1]"
      ]
    },
    {
      "cell_type": "code",
      "source": [
        "# you have 2520 images\n",
        "temp_dataset[2519][0].shape"
      ],
      "metadata": {
        "colab": {
          "base_uri": "https://localhost:8080/"
        },
        "id": "RGK-y5KAKymI",
        "outputId": "adba492d-ea33-4ba7-c09f-785ec0e96dfe"
      },
      "execution_count": 12,
      "outputs": [
        {
          "output_type": "execute_result",
          "data": {
            "text/plain": [
              "torch.Size([3, 28, 28])"
            ]
          },
          "metadata": {},
          "execution_count": 12
        }
      ]
    },
    {
      "cell_type": "markdown",
      "metadata": {
        "id": "DnqFv6gyx7Pe"
      },
      "source": [
        "## Standardization"
      ]
    },
    {
      "cell_type": "code",
      "execution_count": 13,
      "metadata": {
        "id": "UgMwU7Spx7Pe"
      },
      "outputs": [],
      "source": [
        "temp_loader = DataLoader(temp_dataset, batch_size=16)"
      ]
    },
    {
      "cell_type": "code",
      "execution_count": 14,
      "metadata": {
        "id": "t-Eav2U_x7Pe",
        "outputId": "6ab5f018-2d2f-4889-b1f9-a402af9c7fa4",
        "colab": {
          "base_uri": "https://localhost:8080/"
        }
      },
      "outputs": [
        {
          "output_type": "execute_result",
          "data": {
            "text/plain": [
              "tensor([[16.0000, 16.0000, 16.0000],\n",
              "        [13.8748, 13.3048, 13.1962],\n",
              "        [ 3.0507,  3.8268,  3.9754]])"
            ]
          },
          "metadata": {},
          "execution_count": 14
        }
      ],
      "source": [
        "# Each column represents a channel\n",
        "# first row is the number of data points\n",
        "# second row is the the sum of mean values\n",
        "# third row is the sum of standard deviations\n",
        "first_images, first_labels = next(iter(temp_loader))\n",
        "Architecture.statistics_per_channel(first_images, first_labels)"
      ]
    },
    {
      "cell_type": "code",
      "execution_count": 15,
      "metadata": {
        "id": "XXu6vXn8x7Pf",
        "outputId": "a6ef9d16-0d43-451e-9362-d7bf13abbb71",
        "colab": {
          "base_uri": "https://localhost:8080/"
        }
      },
      "outputs": [
        {
          "output_type": "execute_result",
          "data": {
            "text/plain": [
              "tensor([[2520.0000, 2520.0000, 2520.0000],\n",
              "        [2142.5356, 2070.0806, 2045.1444],\n",
              "        [ 526.3025,  633.0677,  669.9556]])"
            ]
          },
          "metadata": {},
          "execution_count": 15
        }
      ],
      "source": [
        "# We can leverage the loader_apply() method to get the sums for the whole dataset:\n",
        "results = Architecture.loader_apply(temp_loader, Architecture.statistics_per_channel)\n",
        "results"
      ]
    },
    {
      "cell_type": "code",
      "source": [
        "2142.5356/2520"
      ],
      "metadata": {
        "colab": {
          "base_uri": "https://localhost:8080/"
        },
        "id": "JK786LlevjjO",
        "outputId": "b59ef033-b044-4b50-ca3b-286e743d614b"
      },
      "execution_count": 16,
      "outputs": [
        {
          "output_type": "execute_result",
          "data": {
            "text/plain": [
              "0.8502125396825397"
            ]
          },
          "metadata": {},
          "execution_count": 16
        }
      ]
    },
    {
      "cell_type": "code",
      "source": [
        "526.3025/2520"
      ],
      "metadata": {
        "colab": {
          "base_uri": "https://localhost:8080/"
        },
        "id": "yulsHh6Fvtff",
        "outputId": "fdca9ae0-c683-4135-e754-12a7d0a28a84"
      },
      "execution_count": 17,
      "outputs": [
        {
          "output_type": "execute_result",
          "data": {
            "text/plain": [
              "0.20885019841269842"
            ]
          },
          "metadata": {},
          "execution_count": 17
        }
      ]
    },
    {
      "cell_type": "code",
      "execution_count": 18,
      "metadata": {
        "id": "eWfYfTQZx7Pf",
        "outputId": "7e641ab0-b4f2-4082-cc74-b2cb0c5640a0",
        "colab": {
          "base_uri": "https://localhost:8080/"
        }
      },
      "outputs": [
        {
          "output_type": "execute_result",
          "data": {
            "text/plain": [
              "Normalize(mean=tensor([0.8502, 0.8215, 0.8116]), std=tensor([0.2089, 0.2512, 0.2659]))"
            ]
          },
          "metadata": {},
          "execution_count": 18
        }
      ],
      "source": [
        "# we can compute the average mean value and the average standard deviation, per channel.\n",
        "# Better yet, let’s make it a method that takes a data loader and\n",
        "# returns an instance of the Normalize() transform\n",
        "normalizer = Architecture.make_normalizer(temp_loader)\n",
        "normalizer"
      ]
    },
    {
      "cell_type": "markdown",
      "source": [
        "> Remember that PyTorch converts the pixel values into the [0, 1] range. The average mean value of a pixel for the red (first) channel is 0.8502, while its average standard deviation is 0.2089."
      ],
      "metadata": {
        "id": "SVk-FutYwt00"
      }
    },
    {
      "cell_type": "markdown",
      "source": [
        ">> **IMPORTANT**: Always use the training set to compute statistics\n",
        "for standardization! This avoid data leakage!!!"
      ],
      "metadata": {
        "id": "pxBYRaX4xOfl"
      }
    },
    {
      "cell_type": "markdown",
      "metadata": {
        "id": "OewfD2eLx7Pf"
      },
      "source": [
        "## The Real Datasets"
      ]
    },
    {
      "cell_type": "code",
      "execution_count": 19,
      "metadata": {
        "id": "hy5Gz8sgx7Pf"
      },
      "outputs": [],
      "source": [
        "composer = Compose([Resize(28),\n",
        "                    ToTensor(),\n",
        "                    normalizer])\n",
        "\n",
        "train_data = ImageFolder(root='rps', transform=composer)\n",
        "val_data = ImageFolder(root='rps-test-set', transform=composer)\n",
        "\n",
        "# Builds a loader of each set\n",
        "train_loader = DataLoader(train_data, batch_size=16, shuffle=True)\n",
        "val_loader = DataLoader(val_data, batch_size=16)"
      ]
    },
    {
      "cell_type": "code",
      "source": [
        "def figure2(first_images, first_labels):\n",
        "    fig, axs = plt.subplots(1, 6, figsize=(12, 4))\n",
        "    titles = ['Paper', 'Rock', 'Scissors']\n",
        "    for i in range(6):\n",
        "        image, label = ToPILImage()(first_images[i]), first_labels[i]\n",
        "        axs[i].imshow(image)\n",
        "        axs[i].set_xticks([])\n",
        "        axs[i].set_yticks([])\n",
        "        axs[i].set_title(titles[label], fontsize=12)\n",
        "    fig.tight_layout()\n",
        "    return fig"
      ],
      "metadata": {
        "id": "CMKSojnWycbe"
      },
      "execution_count": 20,
      "outputs": []
    },
    {
      "cell_type": "code",
      "execution_count": 21,
      "metadata": {
        "id": "W9RgYxnAx7Pf",
        "outputId": "2e9063ab-878d-48cd-a464-16dc94f4949c",
        "colab": {
          "base_uri": "https://localhost:8080/",
          "height": 234
        }
      },
      "outputs": [
        {
          "output_type": "display_data",
          "data": {
            "text/plain": [
              "<Figure size 1200x400 with 6 Axes>"
            ],
            "image/png": "[encoded data removed]"
          },
          "metadata": {}
        }
      ],
      "source": [
        "torch.manual_seed(88)\n",
        "first_images, first_labels = next(iter(train_loader))\n",
        "\n",
        "fig = figure2(first_images, first_labels)"
      ]
    },
    {
      "cell_type": "markdown",
      "source": [
        "There is nothing wrong with the colors, it is just the effect of the standardization\n",
        "of the pixel values."
      ],
      "metadata": {
        "id": "Tl0_Fj1mzXSr"
      }
    },
    {
      "cell_type": "markdown",
      "metadata": {
        "id": "hD_x04VMx7Pg"
      },
      "source": [
        "# Dropout"
      ]
    },
    {
      "cell_type": "code",
      "execution_count": 22,
      "metadata": {
        "id": "XXh3noA5x7Pg"
      },
      "outputs": [],
      "source": [
        "dropping_model = nn.Sequential(nn.Dropout(p=0.5))"
      ]
    },
    {
      "cell_type": "code",
      "execution_count": 23,
      "metadata": {
        "id": "wdcWGZVSx7Pg",
        "outputId": "8aa8967e-c491-47af-f22d-2299303e766e",
        "colab": {
          "base_uri": "https://localhost:8080/"
        }
      },
      "outputs": [
        {
          "output_type": "execute_result",
          "data": {
            "text/plain": [
              "tensor([0.1000, 0.2000, 0.3000, 0.4000, 0.5000, 0.6000, 0.7000, 0.8000, 0.9000,\n",
              "        1.0000, 1.1000])"
            ]
          },
          "metadata": {},
          "execution_count": 23
        }
      ],
      "source": [
        "spaced_points = torch.linspace(.1, 1.1, 11)\n",
        "spaced_points"
      ]
    },
    {
      "cell_type": "code",
      "execution_count": 24,
      "metadata": {
        "id": "va4VDD9kx7Pg",
        "outputId": "1404f46d-c489-4202-8cd7-f27d725979d7",
        "colab": {
          "base_uri": "https://localhost:8080/"
        }
      },
      "outputs": [
        {
          "output_type": "execute_result",
          "data": {
            "text/plain": [
              "tensor([0.0000, 0.4000, 0.0000, 0.8000, 0.0000, 1.2000, 1.4000, 1.6000, 1.8000,\n",
              "        0.0000, 2.2000])"
            ]
          },
          "metadata": {},
          "execution_count": 24
        }
      ],
      "source": [
        "torch.manual_seed(44)\n",
        "\n",
        "dropping_model.train()\n",
        "output_train = dropping_model(spaced_points)\n",
        "output_train"
      ]
    },
    {
      "cell_type": "markdown",
      "metadata": {
        "id": "km9-weJAx7Pg"
      },
      "source": [
        "![](images/dropout_paper.png)"
      ]
    },
    {
      "cell_type": "code",
      "execution_count": 25,
      "metadata": {
        "id": "J9hlMdxIx7Pg",
        "outputId": "5d76aa2e-2d6e-4268-ca7b-4ee7f95235fe",
        "colab": {
          "base_uri": "https://localhost:8080/"
        }
      },
      "outputs": [
        {
          "output_type": "execute_result",
          "data": {
            "text/plain": [
              "tensor([0., 2., 0., 2., 0., 2., 2., 2., 2., 0., 2.])"
            ]
          },
          "metadata": {},
          "execution_count": 25
        }
      ],
      "source": [
        "output_train / spaced_points"
      ]
    },
    {
      "cell_type": "code",
      "execution_count": 26,
      "metadata": {
        "id": "1oIRNcxUx7Pg",
        "outputId": "e91e521f-08bf-4735-ed4a-df58ed09eb6e",
        "colab": {
          "base_uri": "https://localhost:8080/"
        }
      },
      "outputs": [
        {
          "output_type": "execute_result",
          "data": {
            "text/plain": [
              "tensor(9.4000)"
            ]
          },
          "metadata": {},
          "execution_count": 26
        }
      ],
      "source": [
        "F.linear(output_train, weight=torch.ones(11), bias=torch.tensor(0))"
      ]
    },
    {
      "cell_type": "code",
      "execution_count": 27,
      "metadata": {
        "id": "wGlYi6f4x7Pl",
        "outputId": "9873e5ae-a3b1-4afc-e7b7-ff2639f98b8d",
        "colab": {
          "base_uri": "https://localhost:8080/"
        }
      },
      "outputs": [
        {
          "output_type": "execute_result",
          "data": {
            "text/plain": [
              "tensor([0.1000, 0.2000, 0.3000, 0.4000, 0.5000, 0.6000, 0.7000, 0.8000, 0.9000,\n",
              "        1.0000, 1.1000])"
            ]
          },
          "metadata": {},
          "execution_count": 27
        }
      ],
      "source": [
        "dropping_model.eval()\n",
        "output_eval = dropping_model(spaced_points)\n",
        "output_eval"
      ]
    },
    {
      "cell_type": "code",
      "execution_count": 28,
      "metadata": {
        "id": "OETSw5eex7Pl",
        "outputId": "850432d1-c0e8-4889-fd46-8bd8b3ea2042",
        "colab": {
          "base_uri": "https://localhost:8080/"
        }
      },
      "outputs": [
        {
          "output_type": "execute_result",
          "data": {
            "text/plain": [
              "tensor(6.6000)"
            ]
          },
          "metadata": {},
          "execution_count": 28
        }
      ],
      "source": [
        "F.linear(output_eval, weight=torch.ones(11), bias=torch.tensor(0))"
      ]
    },
    {
      "cell_type": "code",
      "execution_count": 29,
      "metadata": {
        "id": "Fc0p5QRYx7Pl"
      },
      "outputs": [],
      "source": [
        "torch.manual_seed(17)\n",
        "p = 0.5\n",
        "distrib_outputs = torch.tensor([F.linear(F.dropout(spaced_points, p=p),\n",
        "                                         weight=torch.ones(11), bias=torch.tensor(0))\n",
        "                                for _ in range(1000)])"
      ]
    },
    {
      "cell_type": "code",
      "source": [
        "def plot_dist(ax, distrib_outputs, p):\n",
        "    ax.hist(distrib_outputs, bins=np.linspace(0, 20, 21))\n",
        "    ax.set_xlabel('Sum of Adjusted Outputs')\n",
        "    ax.set_ylabel('# of Scenarios')\n",
        "    ax.set_title('p = {:.2f}'.format(p))\n",
        "    ax.set_ylim([0, 500])\n",
        "    mean_value = distrib_outputs.mean()\n",
        "    ax.plot([mean_value, mean_value], [0, 500], c='r', linestyle='--', label='Mean = {:.2f}'.format(mean_value))\n",
        "    ax.legend()"
      ],
      "metadata": {
        "id": "lA4M1GJ-nrc0"
      },
      "execution_count": 30,
      "outputs": []
    },
    {
      "cell_type": "code",
      "source": [
        "def figure7(p, distrib_outputs):\n",
        "    fig, ax = plt.subplots(1, 1, figsize=(6, 4))\n",
        "    plot_dist(ax, distrib_outputs, p)\n",
        "    fig.tight_layout()\n",
        "    return fig"
      ],
      "metadata": {
        "id": "4PdaeVRMnhiI"
      },
      "execution_count": 31,
      "outputs": []
    },
    {
      "cell_type": "code",
      "execution_count": 32,
      "metadata": {
        "scrolled": false,
        "id": "sR84E6Axx7Pl",
        "outputId": "6cd3e833-fcd0-4a22-c179-578cd8717eef",
        "colab": {
          "base_uri": "https://localhost:8080/",
          "height": 395
        }
      },
      "outputs": [
        {
          "output_type": "display_data",
          "data": {
            "text/plain": [
              "<Figure size 600x400 with 1 Axes>"
            ],
            "image/png": "[encoded data removed]"
          },
          "metadata": {}
        }
      ],
      "source": [
        "fig = figure7(p, distrib_outputs)"
      ]
    },
    {
      "cell_type": "code",
      "source": [
        "def figure8(ps=(0.1, 0.3, 0.5, 0.9)):\n",
        "    spaced_points = torch.linspace(.1, 1.1, 11)\n",
        "    fig, axs = plt.subplots(1, 4, figsize=(15, 4))\n",
        "    for ax, p in zip(axs.flat, ps):\n",
        "        torch.manual_seed(17)\n",
        "        distrib_outputs = torch.tensor([F.linear(F.dropout(spaced_points, p=p),\n",
        "                                                 weight=torch.ones(11), bias=torch.tensor(0))\n",
        "                                        for _ in range(1000)])\n",
        "        plot_dist(ax, distrib_outputs, p)\n",
        "        ax.label_outer()\n",
        "    fig.tight_layout()\n",
        "    return fig"
      ],
      "metadata": {
        "id": "8cCEhlrwn69w"
      },
      "execution_count": 33,
      "outputs": []
    },
    {
      "cell_type": "markdown",
      "source": [
        "On the left, if there is barely any dropout (p=0.10), the sum of adjusted outputs is\n",
        "tightly distributed around the mean value. For more typical dropout probabilities\n",
        "(like 30% or 50%), the distribution may take some more extreme values.\n",
        "\n",
        "\n",
        "If we go to extremes, like a dropout probability of 90%, the distribution gets a bit\n",
        "degenerated, I would say—it is pretty much all over the place (and it has a lot of\n",
        "scenarios where everything gets dropped, hence the tall bar at zero)."
      ],
      "metadata": {
        "id": "zZbPZwW66Oi5"
      }
    },
    {
      "cell_type": "code",
      "execution_count": 34,
      "metadata": {
        "id": "3D87xmNRx7Pl",
        "outputId": "5d5125d7-fa7b-4f10-8fcc-ecc7a4c7716a",
        "colab": {
          "base_uri": "https://localhost:8080/",
          "height": 321
        }
      },
      "outputs": [
        {
          "output_type": "display_data",
          "data": {
            "text/plain": [
              "<Figure size 1500x400 with 4 Axes>"
            ],
            "image/png": "[encoded data removed]"
          },
          "metadata": {}
        }
      ],
      "source": [
        "fig = figure8()"
      ]
    },
    {
      "cell_type": "markdown",
      "source": [
        "The variance of the distribution of outputs grows with the\n",
        "dropout probability.\n",
        "\n",
        "\n",
        "A higher dropout probability makes it harder for your model to\n",
        "learn—that’s what regularization does."
      ],
      "metadata": {
        "id": "dSfdkNqV6pk1"
      }
    },
    {
      "cell_type": "markdown",
      "metadata": {
        "id": "WpeoEL1qx7Pl"
      },
      "source": [
        "### Two-Dimensional Dropout"
      ]
    },
    {
      "cell_type": "code",
      "source": [
        "def figure9(first_images, seed=17, p=.33):\n",
        "    torch.manual_seed(seed)\n",
        "    fig, axs = plt.subplots(1, 3, figsize=(12, 4))\n",
        "    axs[0].imshow(ToPILImage()(first_images[0]))\n",
        "    axs[0].set_title('Original Image')\n",
        "    axs[0].grid(False)\n",
        "    axs[0].set_xticks([])\n",
        "    axs[0].set_yticks([])\n",
        "    axs[1].imshow(ToPILImage()(F.dropout(first_images[:1], p=p)[0]))\n",
        "    axs[1].set_title('Regular Dropout')\n",
        "    axs[1].grid(False)\n",
        "    axs[1].set_xticks([])\n",
        "    axs[1].set_yticks([])\n",
        "    axs[2].imshow(ToPILImage()(F.dropout2d(first_images[:1], p=p)[0]))\n",
        "    axs[2].set_title('Two-Dimensional Dropout')\n",
        "    axs[2].grid(False)\n",
        "    axs[2].set_xticks([])\n",
        "    axs[2].set_yticks([])\n",
        "    fig.tight_layout()\n",
        "    return fig"
      ],
      "metadata": {
        "id": "795rXpRUIuUq"
      },
      "execution_count": 35,
      "outputs": []
    },
    {
      "cell_type": "code",
      "execution_count": 36,
      "metadata": {
        "id": "nP2fR4Q4x7Pl",
        "outputId": "7b7cb46d-9786-4fcb-dfcb-3675734860c1",
        "colab": {
          "base_uri": "https://localhost:8080/",
          "height": 403
        }
      },
      "outputs": [
        {
          "output_type": "display_data",
          "data": {
            "text/plain": [
              "<Figure size 1200x400 with 3 Axes>"
            ],
            "image/png": "[encoded data removed]"
          },
          "metadata": {}
        }
      ],
      "source": [
        "fig = figure9(first_images)"
      ]
    },
    {
      "cell_type": "markdown",
      "metadata": {
        "id": "Zp9hamqkx7Pg"
      },
      "source": [
        "# Fancier Model"
      ]
    },
    {
      "cell_type": "markdown",
      "source": [
        "Let’s leave the Sequential model aside for now and build a model class again. This\n",
        "time, our constructor method will take two arguments: ``n_filters`` and ``p``. We’ll use\n",
        "``n_filters`` as the number of output channels for both convolutional blocks of our\n",
        "model (yes, there are two now!). And, as you can see from the code below, we’ll use\n",
        "``p`` as the probability of **dropout**."
      ],
      "metadata": {
        "id": "kj9Az9zIgs8l"
      }
    },
    {
      "cell_type": "code",
      "execution_count": 37,
      "metadata": {
        "id": "-8w4MPnpx7Pg"
      },
      "outputs": [],
      "source": [
        "class CNN2(nn.Module):\n",
        "    def __init__(self, n_feature, p=0.0):\n",
        "        super(CNN2, self).__init__()\n",
        "        self.n_feature = n_feature\n",
        "        self.p = p\n",
        "        # Creates the convolution layers\n",
        "        self.conv1 = nn.Conv2d(in_channels=3,\n",
        "                               out_channels=n_feature,\n",
        "                               kernel_size=3)\n",
        "        self.conv2 = nn.Conv2d(in_channels=n_feature,\n",
        "                               out_channels=n_feature,\n",
        "                               kernel_size=3)\n",
        "        # Creates the linear layers\n",
        "        # Where do this 5 * 5 come from?! Check it below\n",
        "        self.fc1 = nn.Linear(n_feature * 5 * 5, 50)\n",
        "        self.fc2 = nn.Linear(50, 3)\n",
        "        # Creates dropout layers\n",
        "        self.drop = nn.Dropout(self.p)\n",
        "\n",
        "    def featurizer(self, x):\n",
        "        # Featurizer\n",
        "        # First convolutional block\n",
        "        # 3@28x28 -> n_feature@26x26 -> n_feature@13x13\n",
        "        x = self.conv1(x)\n",
        "        x = F.relu(x)\n",
        "        x = F.max_pool2d(x, kernel_size=2)\n",
        "        # Second convolutional block\n",
        "        # n_feature * @13x13 -> n_feature@11x11 -> n_feature@5x5\n",
        "        x = self.conv2(x)\n",
        "        x = F.relu(x)\n",
        "        x = F.max_pool2d(x, kernel_size=2)\n",
        "        # Input dimension (n_feature@5x5)\n",
        "        # Output dimension (n_feature * 5 * 5)\n",
        "        x = nn.Flatten()(x)\n",
        "        return x\n",
        "\n",
        "    def classifier(self, x):\n",
        "        # Classifier\n",
        "        # Hidden Layer\n",
        "        # Input dimension (n_feature * 5 * 5)\n",
        "        # Output dimension (50)\n",
        "        if self.p > 0:\n",
        "            x = self.drop(x)\n",
        "        x = self.fc1(x)\n",
        "        x = F.relu(x)\n",
        "        # Output Layer\n",
        "        # Input dimension (50)\n",
        "        # Output dimension (3)\n",
        "        if self.p > 0:\n",
        "            x = self.drop(x)\n",
        "        x = self.fc2(x)\n",
        "        return x\n",
        "\n",
        "    def forward(self, x):\n",
        "        x = self.featurizer(x)\n",
        "        x = self.classifier(x)\n",
        "        return x"
      ]
    },
    {
      "cell_type": "markdown",
      "source": [
        "# Case Study"
      ],
      "metadata": {
        "id": "yU9Sv3_rW_Uz"
      }
    },
    {
      "cell_type": "markdown",
      "metadata": {
        "id": "JjwBhjA1x7Pl"
      },
      "source": [
        "## Model Configuration"
      ]
    },
    {
      "cell_type": "markdown",
      "source": [
        "The configuration part is short and straightforward:\n",
        "- We create a model,\n",
        "-  a loss function,\n",
        "- and an optimizer.\n",
        "\n",
        "The model will be an instance of our CNN2 class with five filters and a dropout\n",
        "probability of 30%.\n",
        "\n",
        "Our dataset has three classes, so we’re using\n",
        "``nn.CrossEntropyLoss()`` (which will take the three logits produced by our model)."
      ],
      "metadata": {
        "id": "H8AnsR9RGCaN"
      }
    },
    {
      "cell_type": "code",
      "execution_count": 38,
      "metadata": {
        "id": "BkrMKNDex7Pl"
      },
      "outputs": [],
      "source": [
        "torch.manual_seed(13)\n",
        "\n",
        "# Model/Architecture\n",
        "model_cnn2 = CNN2(n_feature=5, p=0.3)\n",
        "\n",
        "# Loss function\n",
        "multi_loss_fn = nn.CrossEntropyLoss(reduction='mean')\n",
        "\n",
        "# Optimizer\n",
        "optimizer_cnn2 = optim.Adam(model_cnn2.parameters(), lr=3e-4)"
      ]
    },
    {
      "cell_type": "markdown",
      "source": [
        "> Adaptive moment estimation (Adam) uses adaptive learning\n",
        "rates, computing a learning rate for each parameter. Yes, you\n",
        "read it right: Each parameter has a learning rate to call its own!\n",
        "\n",
        "\n",
        "> If you dig into the state_dict() of an Adam optimizer, you’ll find\n",
        "tensors shaped like the parameters of every layer in your model\n",
        "that Adam will use to compute the corresponding learning rates.\n",
        "True story!"
      ],
      "metadata": {
        "id": "h67IlmE6Gg1E"
      }
    },
    {
      "cell_type": "code",
      "source": [
        "optimizer_cnn2.state_dict()"
      ],
      "metadata": {
        "colab": {
          "base_uri": "https://localhost:8080/"
        },
        "id": "WCcNFhatLlF7",
        "outputId": "4178051f-c145-4cf5-d611-89cdd131777e"
      },
      "execution_count": 39,
      "outputs": [
        {
          "output_type": "execute_result",
          "data": {
            "text/plain": [
              "{'state': {},\n",
              " 'param_groups': [{'lr': 0.0003,\n",
              "   'betas': (0.9, 0.999),\n",
              "   'eps': 1e-08,\n",
              "   'weight_decay': 0,\n",
              "   'amsgrad': False,\n",
              "   'maximize': False,\n",
              "   'foreach': None,\n",
              "   'capturable': False,\n",
              "   'differentiable': False,\n",
              "   'fused': None,\n",
              "   'params': [0, 1, 2, 3, 4, 5, 6, 7]}]}"
            ]
          },
          "metadata": {},
          "execution_count": 39
        }
      ]
    },
    {
      "cell_type": "markdown",
      "metadata": {
        "id": "J_2-_imRx7Pl"
      },
      "source": [
        "## Model Training"
      ]
    },
    {
      "cell_type": "code",
      "execution_count": 40,
      "metadata": {
        "id": "v23rWHLTx7Pl"
      },
      "outputs": [],
      "source": [
        "arch_cnn2 = Architecture(model_cnn2,\n",
        "                        multi_loss_fn,\n",
        "                        optimizer_cnn2)\n",
        "arch_cnn2.set_loaders(train_loader, val_loader)\n",
        "arch_cnn2.train(10)"
      ]
    },
    {
      "cell_type": "code",
      "source": [
        "arch_cnn2.count_parameters()"
      ],
      "metadata": {
        "colab": {
          "base_uri": "https://localhost:8080/"
        },
        "id": "uz3dTBTkKfpJ",
        "outputId": "ed0d9a05-b9a9-4fa3-bf97-84bf2fdbc81d"
      },
      "execution_count": 41,
      "outputs": [
        {
          "output_type": "execute_result",
          "data": {
            "text/plain": [
              "6823"
            ]
          },
          "metadata": {},
          "execution_count": 41
        }
      ]
    },
    {
      "cell_type": "code",
      "execution_count": 42,
      "metadata": {
        "id": "dDSyJu6Rx7Pm",
        "outputId": "8fdc9489-4187-44cc-cdd5-0a429cfb0fa7",
        "colab": {
          "base_uri": "https://localhost:8080/",
          "height": 395
        }
      },
      "outputs": [
        {
          "output_type": "display_data",
          "data": {
            "text/plain": [
              "<Figure size 1000x400 with 1 Axes>"
            ],
            "image/png": "[encoded data removed]"
          },
          "metadata": {}
        }
      ],
      "source": [
        "fig = arch_cnn2.plot_losses()"
      ]
    },
    {
      "cell_type": "markdown",
      "metadata": {
        "id": "ot0FT1aAx7Pm"
      },
      "source": [
        "### Accuracy"
      ]
    },
    {
      "cell_type": "code",
      "execution_count": 43,
      "metadata": {
        "id": "LRWhimcwx7Pm",
        "outputId": "c196facd-93f5-4525-adb7-22a72f26b781",
        "colab": {
          "base_uri": "https://localhost:8080/"
        }
      },
      "outputs": [
        {
          "output_type": "execute_result",
          "data": {
            "text/plain": [
              "tensor([[ 89, 124],\n",
              "        [118, 124],\n",
              "        [117, 124]])"
            ]
          },
          "metadata": {},
          "execution_count": 43
        }
      ],
      "source": [
        "Architecture.loader_apply(val_loader,\n",
        "                          arch_cnn2.correct)"
      ]
    },
    {
      "cell_type": "code",
      "source": [
        "Architecture.loader_apply(val_loader,\n",
        "                          arch_cnn2.correct).sum(axis=0)"
      ],
      "metadata": {
        "colab": {
          "base_uri": "https://localhost:8080/"
        },
        "id": "RN1LrRNuknlw",
        "outputId": "9b811e77-12b0-4efa-fa1b-65cd20c3fb10"
      },
      "execution_count": 44,
      "outputs": [
        {
          "output_type": "execute_result",
          "data": {
            "text/plain": [
              "tensor([324, 372])"
            ]
          },
          "metadata": {},
          "execution_count": 44
        }
      ]
    },
    {
      "cell_type": "code",
      "source": [
        "(lambda x: x[0].item() / x[1].item())(Architecture.loader_apply(val_loader,\n",
        "                                                                arch_cnn2.correct).sum(axis=0))"
      ],
      "metadata": {
        "colab": {
          "base_uri": "https://localhost:8080/"
        },
        "id": "jkiRae49lBQf",
        "outputId": "dfafd838-5e1d-42c6-af95-654503db05e1"
      },
      "execution_count": 45,
      "outputs": [
        {
          "output_type": "execute_result",
          "data": {
            "text/plain": [
              "0.8709677419354839"
            ]
          },
          "metadata": {},
          "execution_count": 45
        }
      ]
    },
    {
      "cell_type": "markdown",
      "metadata": {
        "id": "B2ZUMxTjx7Pm"
      },
      "source": [
        "### Regularizing Effect"
      ]
    },
    {
      "cell_type": "code",
      "execution_count": 46,
      "metadata": {
        "id": "IYzWhT5Ex7Pm"
      },
      "outputs": [],
      "source": [
        "torch.manual_seed(13)\n",
        "# Model Configuration\n",
        "model_cnn2_nodrop = CNN2(n_feature=5, p=0.0)\n",
        "multi_loss_fn = nn.CrossEntropyLoss(reduction='mean')\n",
        "optimizer_cnn2_nodrop = optim.Adam(model_cnn2_nodrop.parameters(), lr=3e-4)\n",
        "# Model Training\n",
        "arch_cnn2_nodrop = Architecture(model_cnn2_nodrop, multi_loss_fn, optimizer_cnn2_nodrop)\n",
        "arch_cnn2_nodrop.set_loaders(train_loader, val_loader)\n",
        "arch_cnn2_nodrop.train(10)"
      ]
    },
    {
      "cell_type": "code",
      "source": [
        "def figure11(losses, val_losses, losses_nodrop, val_losses_nodrop):\n",
        "    fig, axs = plt.subplots(1, 1, figsize=(10, 5))\n",
        "    axs.plot(losses, 'b', label='Training Losses - Dropout')\n",
        "    axs.plot(val_losses, 'r', label='Validation Losses - Dropout')\n",
        "    axs.plot(losses_nodrop, 'b--', label='Training Losses - No Dropout')\n",
        "    axs.plot(val_losses_nodrop, 'r--', label='Validation Losses - No Dropout')\n",
        "    plt.yscale('log')\n",
        "    plt.xlabel('Epochs')\n",
        "    plt.ylabel('Loss')\n",
        "    plt.title('Regularizing Effect')\n",
        "    fig.legend(loc='lower left')\n",
        "    fig.tight_layout()\n",
        "    return fig"
      ],
      "metadata": {
        "id": "7VM30IJOjK6e"
      },
      "execution_count": 47,
      "outputs": []
    },
    {
      "cell_type": "code",
      "execution_count": 48,
      "metadata": {
        "id": "4bpE2wmLx7Pm",
        "outputId": "e1c2fe94-4056-41f9-8158-5440df0d4b7f",
        "colab": {
          "base_uri": "https://localhost:8080/",
          "height": 506
        }
      },
      "outputs": [
        {
          "output_type": "display_data",
          "data": {
            "text/plain": [
              "<Figure size 1000x500 with 1 Axes>"
            ],
            "image/png": "[encoded data removed]"
          },
          "metadata": {}
        }
      ],
      "source": [
        "fig = figure11(arch_cnn2.losses, arch_cnn2.val_losses, arch_cnn2_nodrop.losses, arch_cnn2_nodrop.val_losses)"
      ]
    },
    {
      "cell_type": "code",
      "execution_count": 49,
      "metadata": {
        "id": "HQwHu31_x7Pm",
        "outputId": "8cc3b3b3-500f-4567-e97f-d2bb619a72da",
        "colab": {
          "base_uri": "https://localhost:8080/"
        }
      },
      "outputs": [
        {
          "output_type": "stream",
          "name": "stdout",
          "text": [
            "tensor([2520, 2520]) tensor([292, 372])\n"
          ]
        }
      ],
      "source": [
        "print(\n",
        "    Architecture.loader_apply(train_loader, arch_cnn2_nodrop.correct).sum(axis=0),\n",
        "    Architecture.loader_apply(val_loader, arch_cnn2_nodrop.correct).sum(axis=0)\n",
        ")"
      ]
    },
    {
      "cell_type": "code",
      "source": [
        "print(\n",
        "    (lambda x: x[0].item() / x[1].item())(Architecture.loader_apply(train_loader, arch_cnn2_nodrop.correct).sum(axis=0)),\n",
        "    (lambda x: x[0].item() / x[1].item())(Architecture.loader_apply(val_loader, arch_cnn2_nodrop.correct).sum(axis=0))\n",
        ")"
      ],
      "metadata": {
        "colab": {
          "base_uri": "https://localhost:8080/"
        },
        "id": "ZZ_qXhn7mCen",
        "outputId": "308412f0-a2eb-46d3-c318-59e81430ead0"
      },
      "execution_count": 50,
      "outputs": [
        {
          "output_type": "stream",
          "name": "stdout",
          "text": [
            "1.0 0.7849462365591398\n"
          ]
        }
      ]
    },
    {
      "cell_type": "code",
      "execution_count": 51,
      "metadata": {
        "id": "C4OmbK88x7Pm",
        "outputId": "94efac8a-6a85-4f59-f1bc-f3701665d839",
        "colab": {
          "base_uri": "https://localhost:8080/"
        }
      },
      "outputs": [
        {
          "output_type": "stream",
          "name": "stdout",
          "text": [
            "tensor([2503, 2520]) tensor([324, 372])\n"
          ]
        }
      ],
      "source": [
        "print(\n",
        "    Architecture.loader_apply(train_loader, arch_cnn2.correct).sum(axis=0),\n",
        "    Architecture.loader_apply(val_loader, arch_cnn2.correct).sum(axis=0)\n",
        ")"
      ]
    },
    {
      "cell_type": "code",
      "source": [
        "print(\n",
        "    (lambda x: x[0].item() / x[1].item())(Architecture.loader_apply(train_loader, arch_cnn2.correct).sum(axis=0)),\n",
        "    (lambda x: x[0].item() / x[1].item())(Architecture.loader_apply(val_loader, arch_cnn2.correct).sum(axis=0))\n",
        ")"
      ],
      "metadata": {
        "colab": {
          "base_uri": "https://localhost:8080/"
        },
        "id": "kjCSH3bymW5w",
        "outputId": "5ec5f13a-c4cd-4dfc-aac4-54ea7b6d5237"
      },
      "execution_count": 52,
      "outputs": [
        {
          "output_type": "stream",
          "name": "stdout",
          "text": [
            "0.9932539682539683 0.8709677419354839\n"
          ]
        }
      ]
    },
    {
      "cell_type": "markdown",
      "metadata": {
        "id": "_9tCbHGDx7Pm"
      },
      "source": [
        "### Visualizing Filters"
      ]
    },
    {
      "cell_type": "code",
      "execution_count": 53,
      "metadata": {
        "id": "vH6OlkjKx7Pm",
        "outputId": "43caf132-ffd3-46f8-b0f8-3f4454213ba1",
        "colab": {
          "base_uri": "https://localhost:8080/"
        }
      },
      "outputs": [
        {
          "output_type": "execute_result",
          "data": {
            "text/plain": [
              "torch.Size([5, 3, 3, 3])"
            ]
          },
          "metadata": {},
          "execution_count": 53
        }
      ],
      "source": [
        "model_cnn2.conv1.weight.shape"
      ]
    },
    {
      "cell_type": "code",
      "execution_count": 54,
      "metadata": {
        "id": "npjMerDKx7Pm",
        "outputId": "e55e1c82-ae5f-4b31-9b12-e7b668d49d38",
        "colab": {
          "base_uri": "https://localhost:8080/",
          "height": 994
        }
      },
      "outputs": [
        {
          "output_type": "display_data",
          "data": {
            "text/plain": [
              "<Figure size 800x1000 with 15 Axes>"
            ],
            "image/png": "[encoded data removed]"
          },
          "metadata": {}
        }
      ],
      "source": [
        "fig = arch_cnn2.visualize_filters('conv1')"
      ]
    },
    {
      "cell_type": "code",
      "execution_count": 55,
      "metadata": {
        "id": "t4wTDLadx7Pm",
        "outputId": "243d8c98-e7db-42e1-c954-fe5f7b5eee3c",
        "colab": {
          "base_uri": "https://localhost:8080/"
        }
      },
      "outputs": [
        {
          "output_type": "execute_result",
          "data": {
            "text/plain": [
              "torch.Size([5, 5, 3, 3])"
            ]
          },
          "metadata": {},
          "execution_count": 55
        }
      ],
      "source": [
        "model_cnn2.conv2.weight.shape"
      ]
    },
    {
      "cell_type": "code",
      "execution_count": 56,
      "metadata": {
        "id": "H6EPMkGix7Pn",
        "outputId": "fd197abe-125f-49e7-c468-b6a023df0c85",
        "colab": {
          "base_uri": "https://localhost:8080/",
          "height": 994
        }
      },
      "outputs": [
        {
          "output_type": "display_data",
          "data": {
            "text/plain": [
              "<Figure size 1200x1000 with 25 Axes>"
            ],
            "image/png": "[encoded data removed]"
          },
          "metadata": {}
        }
      ],
      "source": [
        "fig = arch_cnn2.visualize_filters('conv2')"
      ]
    },
    {
      "cell_type": "markdown",
      "metadata": {
        "id": "cMJroI7px7Pn"
      },
      "source": [
        "# Learning Rates"
      ]
    },
    {
      "cell_type": "markdown",
      "metadata": {
        "id": "BBmpTkw6x7Pn"
      },
      "source": [
        "## Finding LR"
      ]
    },
    {
      "cell_type": "markdown",
      "source": [
        "First, we need to define the boundaries for the test (``start_lr`` and ``end_lr``) and the number of iterations (``num_iter``) to move from one to the other. On top of that, we can choose to change how to make the increments: **linearly** or **exponentially**. Let’s build a higher-order function that takes all those arguments and returns another\n",
        "function, one that returns the multiplying factor given the current iteration number:"
      ],
      "metadata": {
        "id": "423mkf5J7XVd"
      }
    },
    {
      "cell_type": "code",
      "execution_count": 85,
      "metadata": {
        "id": "9NU3leyJx7Pn"
      },
      "outputs": [],
      "source": [
        "def make_lr_fn(start_lr, end_lr, num_iter, step_mode='exp'):\n",
        "    if step_mode == 'linear':\n",
        "        factor = (end_lr / start_lr - 1) / num_iter\n",
        "        def lr_fn(iteration):\n",
        "            return 1 + iteration * factor\n",
        "    else:\n",
        "        factor = (np.log(end_lr) - np.log(start_lr)) / num_iter\n",
        "        def lr_fn(iteration):\n",
        "            return np.exp(factor)**iteration\n",
        "    return lr_fn"
      ]
    },
    {
      "cell_type": "code",
      "execution_count": 103,
      "metadata": {
        "id": "ZYkBu5mCx7Pn"
      },
      "outputs": [],
      "source": [
        "start_lr = 0.01\n",
        "end_lr = 0.1\n",
        "num_iter = 10\n",
        "lr_fn = make_lr_fn(start_lr, end_lr,\n",
        "                   num_iter, step_mode='exp')"
      ]
    },
    {
      "cell_type": "code",
      "execution_count": 101,
      "metadata": {
        "id": "67t_lsw2x7Pn",
        "outputId": "e9b011a5-af28-4406-ccc9-424c9d68410f",
        "colab": {
          "base_uri": "https://localhost:8080/"
        }
      },
      "outputs": [
        {
          "output_type": "execute_result",
          "data": {
            "text/plain": [
              "array([ 1.        ,  1.25892541,  1.58489319,  1.99526231,  2.51188643,\n",
              "        3.16227766,  3.98107171,  5.01187234,  6.30957344,  7.94328235,\n",
              "       10.        ])"
            ]
          },
          "metadata": {},
          "execution_count": 101
        }
      ],
      "source": [
        "lr_fn(np.arange(num_iter + 1))"
      ]
    },
    {
      "cell_type": "code",
      "execution_count": 102,
      "metadata": {
        "id": "Q2DhcYjVx7Po",
        "outputId": "8c3c2910-04f6-4294-d943-fccac433e47c",
        "colab": {
          "base_uri": "https://localhost:8080/"
        }
      },
      "outputs": [
        {
          "output_type": "execute_result",
          "data": {
            "text/plain": [
              "array([0.01      , 0.01258925, 0.01584893, 0.01995262, 0.02511886,\n",
              "       0.03162278, 0.03981072, 0.05011872, 0.06309573, 0.07943282,\n",
              "       0.1       ])"
            ]
          },
          "metadata": {},
          "execution_count": 102
        }
      ],
      "source": [
        "start_lr * lr_fn(np.arange(num_iter + 1))"
      ]
    },
    {
      "cell_type": "code",
      "source": [
        "start_lr = 0.01\n",
        "end_lr = 0.1\n",
        "num_iter = 10\n",
        "lr_fn = make_lr_fn(start_lr, end_lr, num_iter, step_mode='linear')"
      ],
      "metadata": {
        "id": "rzTpGzwq-iAL"
      },
      "execution_count": 97,
      "outputs": []
    },
    {
      "cell_type": "code",
      "source": [
        "lr_fn(np.arange(num_iter + 1))"
      ],
      "metadata": {
        "colab": {
          "base_uri": "https://localhost:8080/"
        },
        "id": "DQsrZaSn-l-1",
        "outputId": "48fe3649-4f29-4f94-8448-07dfde8c8bd8"
      },
      "execution_count": 98,
      "outputs": [
        {
          "output_type": "execute_result",
          "data": {
            "text/plain": [
              "array([ 1. ,  1.9,  2.8,  3.7,  4.6,  5.5,  6.4,  7.3,  8.2,  9.1, 10. ])"
            ]
          },
          "metadata": {},
          "execution_count": 98
        }
      ]
    },
    {
      "cell_type": "code",
      "source": [
        "start_lr * lr_fn(np.arange(num_iter + 1))"
      ],
      "metadata": {
        "colab": {
          "base_uri": "https://localhost:8080/"
        },
        "id": "0S--lwB6-nvx",
        "outputId": "a6f2d26c-8e2d-4fb4-abd9-f860baa61225"
      },
      "execution_count": 99,
      "outputs": [
        {
          "output_type": "execute_result",
          "data": {
            "text/plain": [
              "array([0.01 , 0.019, 0.028, 0.037, 0.046, 0.055, 0.064, 0.073, 0.082,\n",
              "       0.091, 0.1  ])"
            ]
          },
          "metadata": {},
          "execution_count": 99
        }
      ]
    },
    {
      "cell_type": "code",
      "execution_count": 116,
      "metadata": {
        "id": "lu3yt7Zyx7Po"
      },
      "outputs": [],
      "source": [
        "dummy_model = CNN2(n_feature=5, p=0.3)\n",
        "dummy_optimizer = optim.Adam(dummy_model.parameters(), lr=start_lr)\n",
        "dummy_scheduler = LambdaLR(dummy_optimizer, lr_lambda=lr_fn)"
      ]
    },
    {
      "cell_type": "code",
      "execution_count": 117,
      "metadata": {
        "id": "cp86IgNix7Po"
      },
      "outputs": [],
      "source": [
        "dummy_optimizer.step()\n",
        "dummy_scheduler.step()"
      ]
    },
    {
      "cell_type": "code",
      "execution_count": 118,
      "metadata": {
        "id": "eLNtrx-ux7Po",
        "outputId": "73232fa4-3ea6-4ca1-8d94-e4a69aae381e",
        "colab": {
          "base_uri": "https://localhost:8080/"
        }
      },
      "outputs": [
        {
          "output_type": "execute_result",
          "data": {
            "text/plain": [
              "0.012589254117941673"
            ]
          },
          "metadata": {},
          "execution_count": 118
        }
      ],
      "source": [
        "dummy_scheduler.get_last_lr()[0]"
      ]
    },
    {
      "cell_type": "code",
      "execution_count": 119,
      "metadata": {
        "id": "NDv8LFD6x7Po"
      },
      "outputs": [],
      "source": [
        "torch.manual_seed(13)\n",
        "new_model = CNN2(n_feature=5, p=0.3)\n",
        "multi_loss_fn = nn.CrossEntropyLoss(reduction='mean')\n",
        "new_optimizer = optim.Adam(new_model.parameters(), lr=3e-4)"
      ]
    },
    {
      "cell_type": "code",
      "execution_count": 120,
      "metadata": {
        "id": "F2bk3lLVx7Po",
        "outputId": "01465975-9e6e-4f07-9be4-536bbc93ddb6",
        "colab": {
          "base_uri": "https://localhost:8080/",
          "height": 395
        }
      },
      "outputs": [
        {
          "output_type": "display_data",
          "data": {
            "text/plain": [
              "<Figure size 600x400 with 1 Axes>"
            ],
            "image/png": "[encoded data removed]"
          },
          "metadata": {}
        }
      ],
      "source": [
        "arch_new = Architecture(new_model, multi_loss_fn, new_optimizer)\n",
        "tracking, fig = arch_new.lr_range_test(train_loader, end_lr=1e-1, num_iter=100)"
      ]
    },
    {
      "cell_type": "code",
      "source": [
        "min_loss = min(tracking['loss'])\n",
        "min_loss_index = tracking['loss'].index(min_loss)\n",
        "corresponding_lr = tracking['lr'][min_loss_index]\n",
        "\n",
        "min_loss, corresponding_lr"
      ],
      "metadata": {
        "colab": {
          "base_uri": "https://localhost:8080/"
        },
        "id": "3c_YfttIioQ4",
        "outputId": "a197b607-0057-49f2-9a82-c527047644a2"
      },
      "execution_count": 121,
      "outputs": [
        {
          "output_type": "execute_result",
          "data": {
            "text/plain": [
              "(0.6091022460474141, 0.04434013138652989)"
            ]
          },
          "metadata": {},
          "execution_count": 121
        }
      ]
    },
    {
      "cell_type": "code",
      "execution_count": 122,
      "metadata": {
        "id": "hgO1PhuYx7Po"
      },
      "outputs": [],
      "source": [
        "new_optimizer = optim.Adam(new_model.parameters(), lr=0.005)\n",
        "arch_new.set_optimizer(new_optimizer)\n",
        "arch_new.set_loaders(train_loader, val_loader)\n",
        "arch_new.train(10)"
      ]
    },
    {
      "cell_type": "code",
      "execution_count": null,
      "metadata": {
        "id": "81k8t4Hkx7Pp"
      },
      "outputs": [],
      "source": [
        "# This plot wasn't included in the book\n",
        "fig = arch_new.plot_losses()"
      ]
    },
    {
      "cell_type": "markdown",
      "metadata": {
        "id": "2bTdnPglx7Pp"
      },
      "source": [
        "## LRFinder"
      ]
    },
    {
      "cell_type": "code",
      "source": [
        "!pip install --quiet torch-lr-finder"
      ],
      "metadata": {
        "colab": {
          "base_uri": "https://localhost:8080/"
        },
        "id": "b8uRCRBjnh5n",
        "outputId": "a5185b6f-3342-4850-ecf2-01e4caf53157"
      },
      "execution_count": 123,
      "outputs": [
        {
          "output_type": "stream",
          "name": "stdout",
          "text": [
            "\u001b[2K   \u001b[90m━━━━━━━━━━━━━━━━━━━━━━━━━━━━━━━━━━━━━━━━\u001b[0m \u001b[32m21.3/21.3 MB\u001b[0m \u001b[31m18.1 MB/s\u001b[0m eta \u001b[36m0:00:00\u001b[0m\n",
            "\u001b[?25h"
          ]
        }
      ]
    },
    {
      "cell_type": "code",
      "execution_count": 124,
      "metadata": {
        "id": "TFrv6HTyx7Pp",
        "colab": {
          "base_uri": "https://localhost:8080/"
        },
        "outputId": "55caac4c-6c6b-4998-985e-088521001814"
      },
      "outputs": [
        {
          "output_type": "stream",
          "name": "stderr",
          "text": [
            "/usr/local/lib/python3.10/dist-packages/torch_lr_finder/lr_finder.py:5: TqdmExperimentalWarning: Using `tqdm.autonotebook.tqdm` in notebook mode. Use `tqdm.tqdm` instead to force console mode (e.g. in jupyter console)\n",
            "  from tqdm.autonotebook import tqdm\n"
          ]
        }
      ],
      "source": [
        "from torch_lr_finder import LRFinder"
      ]
    },
    {
      "cell_type": "markdown",
      "source": [
        "Instead of calling a function directly, we need to create an instance of ``LRFinder`` first, using the typical model configuration objects (model,\n",
        "optimizer, loss function, and the device). Then, we can take the ``range_test()``\n",
        "method for a spin, providing familiar arguments to it: a data loader, the upper\n",
        "range for the learning rate, and the number of iterations. The ``reset()`` method restores the original states of both model and optimizer."
      ],
      "metadata": {
        "id": "whI_QZGfo1_o"
      }
    },
    {
      "cell_type": "code",
      "execution_count": 125,
      "metadata": {
        "id": "67-oWOrkx7Pp",
        "outputId": "33839161-a720-4912-fe5f-e910c233af67",
        "colab": {
          "referenced_widgets": [
            "711a732747eb49dc9d23e80db1ae8308",
            "3b642511aa3245b294cc644211058746",
            "c0d91ff493d8461f86a44d160bc88094",
            "5e64d4a1ebd6418bbaca755891e18449",
            "d95e8ece10cd4d0d8301f1ec837fe820",
            "42cbad0df67b438c95d5a036aca6b98b",
            "b37fa5a494a14e66b8fa978d4da0b2cc",
            "3f3cdc25623344118a786982f16732ee",
            "5d33c26a32e248ce86da7a6a025854c9",
            "aa0551107bd2446e87362bf08662d874",
            "dfe1f241c52947b4bad803ab9004a162"
          ],
          "base_uri": "https://localhost:8080/",
          "height": 479
        }
      },
      "outputs": [
        {
          "output_type": "display_data",
          "data": {
            "text/plain": [
              "  0%|          | 0/100 [00:00<?, ?it/s]"
            ],
            "application/vnd.jupyter.widget-view+json": {
              "version_major": 2,
              "version_minor": 0,
              "model_id": "711a732747eb49dc9d23e80db1ae8308"
            }
          },
          "metadata": {}
        },
        {
          "output_type": "stream",
          "name": "stdout",
          "text": [
            "Learning rate search finished. See the graph with {finder_name}.plot()\n",
            "LR suggestion: steepest gradient\n",
            "Suggested LR: 9.02E-03\n"
          ]
        },
        {
          "output_type": "display_data",
          "data": {
            "text/plain": [
              "<Figure size 600x400 with 1 Axes>"
            ],
            "image/png": "[encoded data removed]"
          },
          "metadata": {}
        }
      ],
      "source": [
        "fig, ax = plt.subplots(1, 1, figsize=(6, 4))\n",
        "\n",
        "torch.manual_seed(11)\n",
        "new_model = CNN2(n_feature=5, p=0.3)\n",
        "multi_loss_fn = nn.CrossEntropyLoss(reduction='mean')\n",
        "new_optimizer = optim.Adam(new_model.parameters(), lr=3e-4)\n",
        "device = 'cuda' if torch.cuda.is_available() else 'cpu'\n",
        "\n",
        "lr_finder = LRFinder(new_model, new_optimizer, multi_loss_fn, device=device)\n",
        "lr_finder.range_test(train_loader, end_lr=1e-1, num_iter=100)\n",
        "lr_finder.plot(ax=ax, log_lr=True)\n",
        "\n",
        "fig.tight_layout()\n",
        "lr_finder.reset()"
      ]
    },
    {
      "cell_type": "code",
      "source": [],
      "metadata": {
        "id": "k2n3sK29oAJX"
      },
      "execution_count": null,
      "outputs": []
    }
  ]
}