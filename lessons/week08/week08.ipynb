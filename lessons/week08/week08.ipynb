{
  "cells": [
    {
      "cell_type": "code",
      "execution_count": null,
      "metadata": {
        "id": "kTnpA365X7r9"
      },
      "outputs": [],
      "source": [
        "# Import standard libraries for randomness, deep copying, and numerical operations\n",
        "import random\n",
        "import numpy as np\n",
        "from copy import deepcopy\n",
        "\n",
        "# Import libraries for image processing and data manipulation\n",
        "from PIL import Image\n",
        "import pandas as pd\n",
        "\n",
        "# Import PyTorch core and utilities for deep learning\n",
        "import torch\n",
        "import torch.optim as optim  # Optimization algorithms\n",
        "import torch.nn as nn  # Neural network modules\n",
        "import torch.nn.functional as F  # Functional API for non-parametric operations\n",
        "\n",
        "# Import PyTorch utilities for data loading and transformations\n",
        "from torch.utils.data import DataLoader, Dataset, random_split, WeightedRandomSampler\n",
        "from torchvision.transforms import Compose, ToTensor, Normalize, ToPILImage, Resize\n",
        "\n",
        "# Import dataset handling and learning rate schedulers\n",
        "from torchvision.datasets import ImageFolder\n",
        "from torch.optim.lr_scheduler import StepLR, ReduceLROnPlateau, MultiStepLR, CyclicLR, LambdaLR\n",
        "\n",
        "# Import visualization and web utilities\n",
        "import matplotlib.pyplot as plt\n",
        "import requests\n",
        "import zipfile\n",
        "import os\n",
        "import errno\n",
        "\n",
        "# Set matplotlib style for better visuals\n",
        "plt.style.use('fivethirtyeight')"
      ]
    },
    {
      "cell_type": "markdown",
      "metadata": {
        "id": "h38OikK_-d4M"
      },
      "source": [
        "## Architecture class"
      ]
    },
    {
      "cell_type": "code",
      "execution_count": null,
      "metadata": {
        "id": "tYxCEnws8T7L"
      },
      "outputs": [],
      "source": [
        "class Architecture(object):\n",
        "    def __init__(self, model, loss_fn, optimizer):\n",
        "        # Here we define the attributes of our class\n",
        "\n",
        "        # We start by storing the arguments as attributes\n",
        "        # to use them later\n",
        "        self.model = model\n",
        "        self.loss_fn = loss_fn\n",
        "        self.optimizer = optimizer\n",
        "        self.device = 'cuda' if torch.cuda.is_available() else 'cpu'\n",
        "        # Let's send the model to the specified device right away\n",
        "        self.model.to(self.device)\n",
        "\n",
        "        # These attributes are defined here, but since they are\n",
        "        # not informed at the moment of creation, we keep them None\n",
        "        self.train_loader = None\n",
        "        self.val_loader = None\n",
        "\n",
        "        # These attributes are going to be computed internally\n",
        "        self.losses = []\n",
        "        self.val_losses = []\n",
        "        self.total_epochs = 0\n",
        "\n",
        "        # Creates the train_step function for our model,\n",
        "        # loss function and optimizer\n",
        "        # Note: there are NO ARGS there! It makes use of the class\n",
        "        # attributes directly\n",
        "        self.train_step_fn = self._make_train_step_fn()\n",
        "        # Creates the val_step function for our model and loss\n",
        "        self.val_step_fn = self._make_val_step_fn()\n",
        "\n",
        "        # for hook purposes\n",
        "        self.handles = {}\n",
        "        self.visualization = {}\n",
        "\n",
        "    def to(self, device):\n",
        "        # This method allows the user to specify a different device\n",
        "        # It sets the corresponding attribute (to be used later in\n",
        "        # the mini-batches) and sends the model to the device\n",
        "        try:\n",
        "            self.device = device\n",
        "            self.model.to(self.device)\n",
        "        except RuntimeError:\n",
        "            self.device = 'cuda' if torch.cuda.is_available() else 'cpu'\n",
        "            print(f\"Couldn't send it to {device}, sending it to {self.device} instead.\")\n",
        "            self.model.to(self.device)\n",
        "\n",
        "    def set_loaders(self, train_loader, val_loader=None):\n",
        "        # This method allows the user to define which train_loader (and val_loader, optionally) to use\n",
        "        # Both loaders are then assigned to attributes of the class\n",
        "        # So they can be referred to later\n",
        "        self.train_loader = train_loader\n",
        "        self.val_loader = val_loader\n",
        "\n",
        "    def _make_train_step_fn(self):\n",
        "        # This method does not need ARGS... it can refer to\n",
        "        # the attributes: self.model, self.loss_fn and self.optimizer\n",
        "\n",
        "        # Builds function that performs a step in the train loop\n",
        "        def perform_train_step_fn(x, y):\n",
        "            # Sets model to TRAIN mode\n",
        "            self.model.train()\n",
        "\n",
        "            # Step 1 - Computes our model's predicted output - forward pass\n",
        "            yhat = self.model(x)\n",
        "            # Step 2 - Computes the loss\n",
        "            loss = self.loss_fn(yhat, y)\n",
        "            # Step 3 - Computes gradients for both \"a\" and \"b\" parameters\n",
        "            loss.backward()\n",
        "            # Step 4 - Updates parameters using gradients and the learning rate\n",
        "            self.optimizer.step()\n",
        "            self.optimizer.zero_grad()\n",
        "\n",
        "            # Returns the loss\n",
        "            return loss.item()\n",
        "\n",
        "        # Returns the function that will be called inside the train loop\n",
        "        return perform_train_step_fn\n",
        "\n",
        "    def _make_val_step_fn(self):\n",
        "        # Builds function that performs a step in the validation loop\n",
        "        def perform_val_step_fn(x, y):\n",
        "            # Sets model to EVAL mode\n",
        "            self.model.eval()\n",
        "\n",
        "            # Step 1 - Computes our model's predicted output - forward pass\n",
        "            yhat = self.model(x)\n",
        "            # Step 2 - Computes the loss\n",
        "            loss = self.loss_fn(yhat, y)\n",
        "            # There is no need to compute Steps 3 and 4, since we don't update parameters during evaluation\n",
        "            return loss.item()\n",
        "\n",
        "        return perform_val_step_fn\n",
        "\n",
        "    def _mini_batch(self, validation=False):\n",
        "        # The mini-batch can be used with both loaders\n",
        "        # The argument `validation`defines which loader and\n",
        "        # corresponding step function is going to be used\n",
        "        if validation:\n",
        "            data_loader = self.val_loader\n",
        "            step_fn = self.val_step_fn\n",
        "        else:\n",
        "            data_loader = self.train_loader\n",
        "            step_fn = self.train_step_fn\n",
        "\n",
        "        if data_loader is None:\n",
        "            return None\n",
        "\n",
        "        # Once the data loader and step function, this is the same\n",
        "        # mini-batch loop we had before\n",
        "        mini_batch_losses = []\n",
        "        for x_batch, y_batch in data_loader:\n",
        "            x_batch = x_batch.to(self.device)\n",
        "            y_batch = y_batch.to(self.device)\n",
        "\n",
        "            mini_batch_loss = step_fn(x_batch, y_batch)\n",
        "            mini_batch_losses.append(mini_batch_loss)\n",
        "\n",
        "        loss = np.mean(mini_batch_losses)\n",
        "        return loss\n",
        "\n",
        "    # this function was updated in this class\n",
        "    def set_seed(self, seed=42):\n",
        "        torch.backends.cudnn.deterministic = True\n",
        "        torch.backends.cudnn.benchmark = False\n",
        "        torch.manual_seed(seed)\n",
        "        np.random.seed(seed)\n",
        "        random.seed(seed)\n",
        "        try:\n",
        "            self.train_loader.sampler.generator.manual_seed(seed)\n",
        "        except AttributeError:\n",
        "            pass\n",
        "\n",
        "    def train(self, n_epochs, seed=42):\n",
        "        # To ensure reproducibility of the training process\n",
        "        self.set_seed(seed)\n",
        "\n",
        "        for epoch in range(n_epochs):\n",
        "            # Keeps track of the numbers of epochs\n",
        "            # by updating the corresponding attribute\n",
        "            self.total_epochs += 1\n",
        "\n",
        "            # inner loop\n",
        "            # Performs training using mini-batches\n",
        "            loss = self._mini_batch(validation=False)\n",
        "            self.losses.append(loss)\n",
        "\n",
        "            # VALIDATION\n",
        "            # no gradients in validation!\n",
        "            with torch.no_grad():\n",
        "                # Performs evaluation using mini-batches\n",
        "                val_loss = self._mini_batch(validation=True)\n",
        "                self.val_losses.append(val_loss)\n",
        "\n",
        "    def save_checkpoint(self, filename):\n",
        "        # Builds dictionary with all elements for resuming training\n",
        "        checkpoint = {'epoch': self.total_epochs,\n",
        "                      'model_state_dict': self.model.state_dict(),\n",
        "                      'optimizer_state_dict': self.optimizer.state_dict(),\n",
        "                      'loss': self.losses,\n",
        "                      'val_loss': self.val_losses}\n",
        "\n",
        "        torch.save(checkpoint, filename)\n",
        "\n",
        "    def load_checkpoint(self, filename):\n",
        "        # Loads dictionary\n",
        "        checkpoint = torch.load(filename)\n",
        "\n",
        "        # Restore state for model and optimizer\n",
        "        self.model.load_state_dict(checkpoint['model_state_dict'])\n",
        "        self.optimizer.load_state_dict(checkpoint['optimizer_state_dict'])\n",
        "\n",
        "        self.total_epochs = checkpoint['epoch']\n",
        "        self.losses = checkpoint['loss']\n",
        "        self.val_losses = checkpoint['val_loss']\n",
        "\n",
        "        self.model.train() # always use TRAIN for resuming training\n",
        "\n",
        "    def predict(self, x):\n",
        "        # Set is to evaluation mode for predictions\n",
        "        self.model.eval()\n",
        "        # Takes aNumpy input and make it a float tensor\n",
        "        x_tensor = torch.as_tensor(x).float()\n",
        "        # Send input to device and uses model for prediction\n",
        "        y_hat_tensor = self.model(x_tensor.to(self.device))\n",
        "        # Set it back to train mode\n",
        "        self.model.train()\n",
        "        # Detaches it, brings it to CPU and back to Numpy\n",
        "        return y_hat_tensor.detach().cpu().numpy()\n",
        "\n",
        "    def count_parameters(self):\n",
        "      return sum(p.numel() for p in self.model.parameters() if p.requires_grad)\n",
        "\n",
        "    def plot_losses(self):\n",
        "        fig = plt.figure(figsize=(10, 4))\n",
        "        plt.plot(self.losses, label='Training Loss', c='b')\n",
        "        plt.plot(self.val_losses, label='Validation Loss', c='r')\n",
        "        plt.yscale('log')\n",
        "        plt.xlabel('Epochs')\n",
        "        plt.ylabel('Loss')\n",
        "        plt.legend()\n",
        "        plt.tight_layout()\n",
        "        return fig\n",
        "\n",
        "    @staticmethod\n",
        "    def _visualize_tensors(axs, x, y=None, yhat=None, layer_name='', title=None):\n",
        "        # The number of images is the number of subplots in a row\n",
        "        n_images = len(axs)\n",
        "        # Gets max and min values for scaling the grayscale\n",
        "        minv, maxv = np.min(x[:n_images]), np.max(x[:n_images])\n",
        "        # For each image\n",
        "        for j, image in enumerate(x[:n_images]):\n",
        "            ax = axs[j]\n",
        "            # Sets title, labels, and removes ticks\n",
        "            if title is not None:\n",
        "                ax.set_title(f'{title} #{j}', fontsize=12)\n",
        "            shp = np.atleast_2d(image).shape\n",
        "            ax.set_ylabel(\n",
        "                f'{layer_name}\\n{shp[0]}x{shp[1]}',\n",
        "                rotation=0, labelpad=40\n",
        "            )\n",
        "            xlabel1 = '' if y is None else f'\\nLabel: {y[j]}'\n",
        "            xlabel2 = '' if yhat is None else f'\\nPredicted: {yhat[j]}'\n",
        "            xlabel = f'{xlabel1}{xlabel2}'\n",
        "            if len(xlabel):\n",
        "                ax.set_xlabel(xlabel, fontsize=12)\n",
        "            ax.set_xticks([])\n",
        "            ax.set_yticks([])\n",
        "\n",
        "            # Plots weight as an image\n",
        "            ax.imshow(\n",
        "                np.atleast_2d(image.squeeze()),\n",
        "                cmap='gray',\n",
        "                vmin=minv,\n",
        "                vmax=maxv\n",
        "            )\n",
        "        return\n",
        "\n",
        "    def visualize_filters(self, layer_name, **kwargs):\n",
        "        try:\n",
        "            # Gets the layer object from the model\n",
        "            layer = self.model\n",
        "            for name in layer_name.split('.'):\n",
        "                layer = getattr(layer, name)\n",
        "            # We are only looking at filters for 2D convolutions\n",
        "            if isinstance(layer, nn.Conv2d):\n",
        "                # Takes the weight information\n",
        "                weights = layer.weight.data.cpu().numpy()\n",
        "                # weights -> (channels_out (filter), channels_in, H, W)\n",
        "                n_filters, n_channels, _, _ = weights.shape\n",
        "\n",
        "                # Builds a figure\n",
        "                size = (2 * n_channels + 2, 2 * n_filters)\n",
        "                fig, axes = plt.subplots(n_filters, n_channels,\n",
        "                                        figsize=size)\n",
        "                axes = np.atleast_2d(axes)\n",
        "                axes = axes.reshape(n_filters, n_channels)\n",
        "                # For each channel_out (filter)\n",
        "                for i in range(n_filters):\n",
        "                    Architecture._visualize_tensors(\n",
        "                        axes[i, :],\n",
        "                        weights[i],\n",
        "                        layer_name=f'Filter #{i}',\n",
        "                        title='Channel'\n",
        "                    )\n",
        "\n",
        "                for ax in axes.flat:\n",
        "                    ax.label_outer()\n",
        "\n",
        "                fig.tight_layout()\n",
        "                return fig\n",
        "        except AttributeError:\n",
        "            return\n",
        "\n",
        "    def attach_hooks(self, layers_to_hook, hook_fn=None):\n",
        "        # Clear any previous values\n",
        "        self.visualization = {}\n",
        "        # Creates the dictionary to map layer objects to their names\n",
        "        modules = list(self.model.named_modules())\n",
        "        layer_names = {layer: name for name, layer in modules[1:]}\n",
        "\n",
        "        if hook_fn is None:\n",
        "            # Hook function to be attached to the forward pass\n",
        "            def hook_fn(layer, inputs, outputs):\n",
        "                # Gets the layer name\n",
        "                name = layer_names[layer]\n",
        "                # Detaches outputs\n",
        "                values = outputs.detach().cpu().numpy()\n",
        "                # Since the hook function may be called multiple times\n",
        "                # for example, if we make predictions for multiple mini-batches\n",
        "                # it concatenates the results\n",
        "                if self.visualization[name] is None:\n",
        "                    self.visualization[name] = values\n",
        "                else:\n",
        "                    self.visualization[name] = np.concatenate([self.visualization[name], values])\n",
        "\n",
        "        for name, layer in modules:\n",
        "            # If the layer is in our list\n",
        "            if name in layers_to_hook:\n",
        "                # Initializes the corresponding key in the dictionary\n",
        "                self.visualization[name] = None\n",
        "                # Register the forward hook and keep the handle in another dict\n",
        "                self.handles[name] = layer.register_forward_hook(hook_fn)\n",
        "\n",
        "    def remove_hooks(self):\n",
        "        # Loops through all hooks and removes them\n",
        "        for handle in self.handles.values():\n",
        "            handle.remove()\n",
        "        # Clear the dict, as all hooks have been removed\n",
        "        self.handles = {}\n",
        "\n",
        "    def visualize_outputs(self, layers, n_images=10, y=None, yhat=None):\n",
        "        layers = filter(lambda l: l in self.visualization.keys(), layers)\n",
        "        layers = list(layers)\n",
        "        shapes = [self.visualization[layer].shape for layer in layers]\n",
        "        n_rows = [shape[1] if len(shape) == 4 else 1\n",
        "                  for shape in shapes]\n",
        "        total_rows = np.sum(n_rows)\n",
        "\n",
        "        fig, axes = plt.subplots(total_rows, n_images,\n",
        "                                figsize=(1.5*n_images, 1.5*total_rows))\n",
        "        axes = np.atleast_2d(axes).reshape(total_rows, n_images)\n",
        "\n",
        "        # Loops through the layers, one layer per row of subplots\n",
        "        row = 0\n",
        "        for i, layer in enumerate(layers):\n",
        "            start_row = row\n",
        "            # Takes the produced feature maps for that layer\n",
        "            output = self.visualization[layer]\n",
        "\n",
        "            is_vector = len(output.shape) == 2\n",
        "\n",
        "            for j in range(n_rows[i]):\n",
        "                Architecture._visualize_tensors(\n",
        "                    axes[row, :],\n",
        "                    output if is_vector else output[:, j].squeeze(),\n",
        "                    y,\n",
        "                    yhat,\n",
        "                    layer_name=layers[i] \\\n",
        "                              if is_vector \\\n",
        "                              else f'{layers[i]}\\nfil#{row-start_row}',\n",
        "                    title='Image' if (row == 0) else None\n",
        "                )\n",
        "                row += 1\n",
        "\n",
        "        for ax in axes.flat:\n",
        "            ax.label_outer()\n",
        "\n",
        "        plt.tight_layout()\n",
        "        return fig\n",
        "\n",
        "    def correct(self, x, y, threshold=.5):\n",
        "        self.model.eval()\n",
        "        yhat = self.model(x.to(self.device))\n",
        "        y = y.to(self.device)\n",
        "        self.model.train()\n",
        "\n",
        "        # We get the size of the batch and the number of classes\n",
        "        # (only 1, if it is binary)\n",
        "        n_samples, n_dims = yhat.shape\n",
        "        if n_dims > 1:\n",
        "            # In a multiclass classification, the biggest logit\n",
        "            # always wins, so we don't bother getting probabilities\n",
        "\n",
        "            # This is PyTorch's version of argmax,\n",
        "            # but it returns a tuple: (max value, index of max value)\n",
        "            _, predicted = torch.max(yhat, 1)\n",
        "        else:\n",
        "            n_dims += 1\n",
        "            # In binary classification, we NEED to check if the\n",
        "            # last layer is a sigmoid (and then it produces probs)\n",
        "            if isinstance(self.model, nn.Sequential) and \\\n",
        "              isinstance(self.model[-1], nn.Sigmoid):\n",
        "                predicted = (yhat > threshold).long()\n",
        "            # or something else (logits), which we need to convert\n",
        "            # using a sigmoid\n",
        "            else:\n",
        "                predicted = (F.sigmoid(yhat) > threshold).long()\n",
        "\n",
        "        # How many samples got classified correctly for each class\n",
        "        result = []\n",
        "        for c in range(n_dims):\n",
        "            n_class = (y == c).sum().item()\n",
        "            n_correct = (predicted[y == c] == c).sum().item()\n",
        "            result.append((n_correct, n_class))\n",
        "        return torch.tensor(result)\n",
        "\n",
        "\n",
        "    @staticmethod\n",
        "    def loader_apply(loader, func, reduce='sum'):\n",
        "        results = [func(x, y) for i, (x, y) in enumerate(loader)]\n",
        "        results = torch.stack(results, axis=0)\n",
        "\n",
        "        if reduce == 'sum':\n",
        "            results = results.sum(axis=0)\n",
        "        elif reduce == 'mean':\n",
        "            results = results.float().mean(axis=0)\n",
        "\n",
        "        return results\n",
        "\n",
        "    @staticmethod\n",
        "    def statistics_per_channel(images, labels):\n",
        "        # NCHW\n",
        "        n_samples, n_channels, n_height, n_weight = images.size()\n",
        "        # Flatten HW into a single dimension\n",
        "        flatten_per_channel = images.reshape(n_samples, n_channels, -1)\n",
        "\n",
        "        # Computes statistics of each image per channel\n",
        "        # Average pixel value per channel\n",
        "        # (n_samples, n_channels)\n",
        "        means = flatten_per_channel.mean(axis=2)\n",
        "        # Standard deviation of pixel values per channel\n",
        "        # (n_samples, n_channels)\n",
        "        stds = flatten_per_channel.std(axis=2)\n",
        "\n",
        "        # Adds up statistics of all images in a mini-batch\n",
        "        # (1, n_channels)\n",
        "        sum_means = means.sum(axis=0)\n",
        "        sum_stds = stds.sum(axis=0)\n",
        "        # Makes a tensor of shape (1, n_channels)\n",
        "        # with the number of samples in the mini-batch\n",
        "        n_samples = torch.tensor([n_samples]*n_channels).float()\n",
        "\n",
        "        # Stack the three tensors on top of one another\n",
        "        # (3, n_channels)\n",
        "        return torch.stack([n_samples, sum_means, sum_stds], axis=0)\n",
        "\n",
        "    @staticmethod\n",
        "    def make_normalizer(loader):\n",
        "        total_samples, total_means, total_stds = Architecture.loader_apply(loader, Architecture.statistics_per_channel)\n",
        "        norm_mean = total_means / total_samples\n",
        "        norm_std = total_stds / total_samples\n",
        "        return Normalize(mean=norm_mean, std=norm_std)\n",
        "\n",
        "    def lr_range_test(self, data_loader, end_lr, num_iter=100, step_mode='exp', alpha=0.05, ax=None):\n",
        "        # Since the test updates both model and optimizer we need to store\n",
        "        # their initial states to restore them in the end\n",
        "        previous_states = {'model': deepcopy(self.model.state_dict()),\n",
        "                          'optimizer': deepcopy(self.optimizer.state_dict())}\n",
        "        # Retrieves the learning rate set in the optimizer\n",
        "        start_lr = self.optimizer.state_dict()['param_groups'][0]['lr']\n",
        "\n",
        "        # Builds a custom function and corresponding scheduler\n",
        "        lr_fn = make_lr_fn(start_lr, end_lr, num_iter)\n",
        "        scheduler = LambdaLR(self.optimizer, lr_lambda=lr_fn)\n",
        "\n",
        "        # Variables for tracking results and iterations\n",
        "        tracking = {'loss': [], 'lr': []}\n",
        "        iteration = 0\n",
        "\n",
        "        # If there are more iterations than mini-batches in the data loader,\n",
        "        # it will have to loop over it more than once\n",
        "        while (iteration < num_iter):\n",
        "            # That's the typical mini-batch inner loop\n",
        "            for x_batch, y_batch in data_loader:\n",
        "                x_batch = x_batch.to(self.device)\n",
        "                y_batch = y_batch.to(self.device)\n",
        "                # Step 1\n",
        "                yhat = self.model(x_batch)\n",
        "                # Step 2\n",
        "                loss = self.loss_fn(yhat, y_batch)\n",
        "                # Step 3\n",
        "                loss.backward()\n",
        "\n",
        "                # Here we keep track of the losses (smoothed)\n",
        "                # and the learning rates\n",
        "                tracking['lr'].append(scheduler.get_last_lr()[0])\n",
        "                if iteration == 0:\n",
        "                    tracking['loss'].append(loss.item())\n",
        "                else:\n",
        "                    prev_loss = tracking['loss'][-1]\n",
        "                    smoothed_loss = alpha * loss.item() + (1-alpha) * prev_loss\n",
        "                    tracking['loss'].append(smoothed_loss)\n",
        "\n",
        "                iteration += 1\n",
        "                # Number of iterations reached\n",
        "                if iteration == num_iter:\n",
        "                    break\n",
        "\n",
        "                # Step 4\n",
        "                self.optimizer.step()\n",
        "                scheduler.step()\n",
        "                self.optimizer.zero_grad()\n",
        "\n",
        "        # Restores the original states\n",
        "        self.optimizer.load_state_dict(previous_states['optimizer'])\n",
        "        self.model.load_state_dict(previous_states['model'])\n",
        "\n",
        "        if ax is None:\n",
        "            fig, ax = plt.subplots(1, 1, figsize=(6, 4))\n",
        "        else:\n",
        "            fig = ax.get_figure()\n",
        "        ax.plot(tracking['lr'], tracking['loss'])\n",
        "        if step_mode == 'exp':\n",
        "            ax.set_xscale('log')\n",
        "        ax.set_xlabel('Learning Rate')\n",
        "        ax.set_ylabel('Loss')\n",
        "        fig.tight_layout()\n",
        "        return tracking, fig\n",
        "\n",
        "    def set_optimizer(self, optimizer):\n",
        "        self.optimizer = optimizer"
      ]
    },
    {
      "cell_type": "markdown",
      "metadata": {
        "id": "_Ht9VCubz7DU"
      },
      "source": [
        "# Data Generation"
      ]
    },
    {
      "cell_type": "markdown",
      "metadata": {
        "id": "14goKgXj0CwA"
      },
      "source": [
        ">This dataset was created by Laurence Moroney (lmoroney@gmail.com / [laurencemoroney.com](http://www.laurencemoroney.com)) and can be found in his site: [Rock Paper Scissors Dataset](https://laurencemoroney.com/datasets.html#rock-paper-scissors-dataset).\n",
        "\n",
        ">The dataset is licensed as Creative Commons (CC BY 2.0). No changes were made to the dataset."
      ]
    },
    {
      "cell_type": "code",
      "execution_count": null,
      "metadata": {
        "id": "UmK15XIdz8m6"
      },
      "outputs": [],
      "source": [
        "def download_rps(localfolder=''):\n",
        "    filenames = ['rps.zip', 'rps-test-set.zip']\n",
        "    for filename in filenames:\n",
        "        try:\n",
        "            os.mkdir(f'{localfolder}{filename[:-4]}')\n",
        "\n",
        "            localfile = f'{localfolder}{filename}'\n",
        "            # url = 'https://storage.googleapis.com/laurencemoroney-blog.appspot.com/{}'\n",
        "            # Updated from TFDS URL at\n",
        "            # https://github.com/tensorflow/datasets/blob/master/tensorflow_datasets/datasets/rock_paper_scissors/rock_paper_scissors_dataset_builder.py\n",
        "            url = 'https://storage.googleapis.com/download.tensorflow.org/data/{}'\n",
        "            r = requests.get(url.format(filename), allow_redirects=True)\n",
        "            open(localfile, 'wb').write(r.content)\n",
        "            with zipfile.ZipFile(localfile, 'r') as zip_ref:\n",
        "                zip_ref.extractall(localfolder)\n",
        "        except OSError as e:\n",
        "            if e.errno != errno.EEXIST:\n",
        "                raise\n",
        "            else:\n",
        "                print(f'{filename[:-4]} folder already exists!')"
      ]
    },
    {
      "cell_type": "code",
      "execution_count": null,
      "metadata": {
        "id": "UNtjcdYV0b44"
      },
      "outputs": [],
      "source": [
        "download_rps()"
      ]
    },
    {
      "cell_type": "markdown",
      "metadata": {
        "id": "R9wh98Ryx7Pd"
      },
      "source": [
        "# Data Preparation"
      ]
    },
    {
      "cell_type": "markdown",
      "metadata": {
        "id": "JPpGYgTYx7Pe"
      },
      "source": [
        "## ImageFolder"
      ]
    },
    {
      "cell_type": "code",
      "execution_count": null,
      "metadata": {
        "id": "usfX4Pymx7Pe"
      },
      "outputs": [],
      "source": [
        "# images are resized to 28x28 pixels\n",
        "# automatically transformed to the RGB color model by the PIL loader,\n",
        "# thus losing the alpha channel\n",
        "temp_transform = Compose([Resize(28), ToTensor()])\n",
        "temp_dataset = ImageFolder(root='rps', transform=temp_transform)"
      ]
    },
    {
      "cell_type": "code",
      "execution_count": null,
      "metadata": {
        "colab": {
          "base_uri": "https://localhost:8080/"
        },
        "id": "QKTSUQSSx7Pe",
        "outputId": "5d3d52d4-ac8f-46f8-ff44-9d57b8a49c70"
      },
      "outputs": [
        {
          "output_type": "execute_result",
          "data": {
            "text/plain": [
              "(torch.Size([3, 28, 28]), 0)"
            ]
          },
          "metadata": {},
          "execution_count": 13
        }
      ],
      "source": [
        "# the second element of this tuple is the label\n",
        "temp_dataset[0][0].shape, temp_dataset[0][1]"
      ]
    },
    {
      "cell_type": "code",
      "execution_count": null,
      "metadata": {
        "colab": {
          "base_uri": "https://localhost:8080/"
        },
        "id": "RGK-y5KAKymI",
        "outputId": "6aa7a9fa-2fd1-4c9b-cd51-f33720053699"
      },
      "outputs": [
        {
          "output_type": "execute_result",
          "data": {
            "text/plain": [
              "torch.Size([3, 28, 28])"
            ]
          },
          "metadata": {},
          "execution_count": 14
        }
      ],
      "source": [
        "# you have 2520 images\n",
        "temp_dataset[2519][0].shape"
      ]
    },
    {
      "cell_type": "markdown",
      "metadata": {
        "id": "DnqFv6gyx7Pe"
      },
      "source": [
        "## Standardization"
      ]
    },
    {
      "cell_type": "code",
      "execution_count": null,
      "metadata": {
        "id": "UgMwU7Spx7Pe"
      },
      "outputs": [],
      "source": [
        "temp_loader = DataLoader(temp_dataset, batch_size=16)"
      ]
    },
    {
      "cell_type": "code",
      "execution_count": null,
      "metadata": {
        "colab": {
          "base_uri": "https://localhost:8080/"
        },
        "id": "t-Eav2U_x7Pe",
        "outputId": "ed3ef820-061d-483d-e7dd-99883a099d00"
      },
      "outputs": [
        {
          "output_type": "execute_result",
          "data": {
            "text/plain": [
              "tensor([[16.0000, 16.0000, 16.0000],\n",
              "        [13.8748, 13.3048, 13.1962],\n",
              "        [ 3.0507,  3.8268,  3.9754]])"
            ]
          },
          "metadata": {},
          "execution_count": 16
        }
      ],
      "source": [
        "# Each column represents a channel\n",
        "# first row is the number of data points\n",
        "# second row is the the sum of mean values\n",
        "# third row is the sum of standard deviations\n",
        "first_images, first_labels = next(iter(temp_loader))\n",
        "Architecture.statistics_per_channel(first_images, first_labels)"
      ]
    },
    {
      "cell_type": "code",
      "execution_count": null,
      "metadata": {
        "colab": {
          "base_uri": "https://localhost:8080/"
        },
        "id": "XXu6vXn8x7Pf",
        "outputId": "8eab0fad-c62d-44d7-a317-7eb88441b376"
      },
      "outputs": [
        {
          "output_type": "execute_result",
          "data": {
            "text/plain": [
              "tensor([[2520.0000, 2520.0000, 2520.0000],\n",
              "        [2142.5356, 2070.0806, 2045.1444],\n",
              "        [ 526.3025,  633.0677,  669.9556]])"
            ]
          },
          "metadata": {},
          "execution_count": 17
        }
      ],
      "source": [
        "# We can leverage the loader_apply() method to get the sums for the whole dataset:\n",
        "results = Architecture.loader_apply(temp_loader, Architecture.statistics_per_channel)\n",
        "results"
      ]
    },
    {
      "cell_type": "code",
      "execution_count": null,
      "metadata": {
        "colab": {
          "base_uri": "https://localhost:8080/"
        },
        "id": "JK786LlevjjO",
        "outputId": "4514847f-4786-457e-ca8b-aec310858e74"
      },
      "outputs": [
        {
          "output_type": "execute_result",
          "data": {
            "text/plain": [
              "0.8502125396825397"
            ]
          },
          "metadata": {},
          "execution_count": 18
        }
      ],
      "source": [
        "2142.5356/2520"
      ]
    },
    {
      "cell_type": "code",
      "execution_count": null,
      "metadata": {
        "colab": {
          "base_uri": "https://localhost:8080/"
        },
        "id": "yulsHh6Fvtff",
        "outputId": "78ba891e-132c-4827-b740-1fac9169a737"
      },
      "outputs": [
        {
          "output_type": "execute_result",
          "data": {
            "text/plain": [
              "0.20885019841269842"
            ]
          },
          "metadata": {},
          "execution_count": 19
        }
      ],
      "source": [
        "526.3025/2520"
      ]
    },
    {
      "cell_type": "code",
      "execution_count": null,
      "metadata": {
        "colab": {
          "base_uri": "https://localhost:8080/"
        },
        "id": "eWfYfTQZx7Pf",
        "outputId": "51d84f15-5350-4dfd-95ec-ed0c9ac0320f"
      },
      "outputs": [
        {
          "output_type": "execute_result",
          "data": {
            "text/plain": [
              "Normalize(mean=tensor([0.8502, 0.8215, 0.8116]), std=tensor([0.2089, 0.2512, 0.2659]))"
            ]
          },
          "metadata": {},
          "execution_count": 20
        }
      ],
      "source": [
        "# we can compute the average mean value and the average standard deviation, per channel.\n",
        "# Better yet, let’s make it a method that takes a data loader and\n",
        "# returns an instance of the Normalize() transform\n",
        "normalizer = Architecture.make_normalizer(temp_loader)\n",
        "normalizer"
      ]
    },
    {
      "cell_type": "markdown",
      "metadata": {
        "id": "SVk-FutYwt00"
      },
      "source": [
        "> Remember that PyTorch converts the pixel values into the [0, 1] range. The average mean value of a pixel for the red (first) channel is 0.8502, while its average standard deviation is 0.2089."
      ]
    },
    {
      "cell_type": "markdown",
      "metadata": {
        "id": "pxBYRaX4xOfl"
      },
      "source": [
        ">> **IMPORTANT**: Always use the training set to compute statistics\n",
        "for standardization! This avoid data leakage!!!"
      ]
    },
    {
      "cell_type": "markdown",
      "metadata": {
        "id": "OewfD2eLx7Pf"
      },
      "source": [
        "## The Real Datasets"
      ]
    },
    {
      "cell_type": "code",
      "execution_count": null,
      "metadata": {
        "id": "hy5Gz8sgx7Pf"
      },
      "outputs": [],
      "source": [
        "composer = Compose([Resize(28),\n",
        "                    ToTensor(),\n",
        "                    normalizer])\n",
        "\n",
        "train_data = ImageFolder(root='rps', transform=composer)\n",
        "val_data = ImageFolder(root='rps-test-set', transform=composer)\n",
        "\n",
        "# Builds a loader of each set\n",
        "train_loader = DataLoader(train_data, batch_size=16, shuffle=True)\n",
        "val_loader = DataLoader(val_data, batch_size=16)"
      ]
    },
    {
      "cell_type": "code",
      "execution_count": null,
      "metadata": {
        "id": "CMKSojnWycbe"
      },
      "outputs": [],
      "source": [
        "def figure2(first_images, first_labels):\n",
        "    fig, axs = plt.subplots(1, 6, figsize=(12, 4))\n",
        "    titles = ['Paper', 'Rock', 'Scissors']\n",
        "    for i in range(6):\n",
        "        image, label = ToPILImage()(first_images[i]), first_labels[i]\n",
        "        axs[i].imshow(image)\n",
        "        axs[i].set_xticks([])\n",
        "        axs[i].set_yticks([])\n",
        "        axs[i].set_title(titles[label], fontsize=12)\n",
        "    fig.tight_layout()\n",
        "    return fig"
      ]
    },
    {
      "cell_type": "code",
      "execution_count": null,
      "metadata": {
        "colab": {
          "base_uri": "https://localhost:8080/",
          "height": 234
        },
        "id": "W9RgYxnAx7Pf",
        "outputId": "d479242a-8df8-4649-f2af-f6b7209419ba"
      },
      "outputs": [
        {
          "output_type": "display_data",
          "data": {
            "text/plain": [
              "<Figure size 1200x400 with 6 Axes>"
            ],
            "image/png": "[encoded data removed]"
          },
          "metadata": {}
        }
      ],
      "source": [
        "torch.manual_seed(88)\n",
        "first_images, first_labels = next(iter(train_loader))\n",
        "\n",
        "fig = figure2(first_images, first_labels)"
      ]
    },
    {
      "cell_type": "markdown",
      "metadata": {
        "id": "Tl0_Fj1mzXSr"
      },
      "source": [
        "There is nothing wrong with the colors, it is just the effect of the standardization\n",
        "of the pixel values."
      ]
    },
    {
      "cell_type": "markdown",
      "metadata": {
        "id": "hD_x04VMx7Pg"
      },
      "source": [
        "# Dropout"
      ]
    },
    {
      "cell_type": "code",
      "execution_count": null,
      "metadata": {
        "id": "XXh3noA5x7Pg"
      },
      "outputs": [],
      "source": [
        "dropping_model = nn.Sequential(nn.Dropout(p=0.5))"
      ]
    },
    {
      "cell_type": "code",
      "execution_count": null,
      "metadata": {
        "colab": {
          "base_uri": "https://localhost:8080/"
        },
        "id": "wdcWGZVSx7Pg",
        "outputId": "e2a76a07-069b-4eda-b407-8f065dec8ee1"
      },
      "outputs": [
        {
          "output_type": "execute_result",
          "data": {
            "text/plain": [
              "tensor([0.1000, 0.2000, 0.3000, 0.4000, 0.5000, 0.6000, 0.7000, 0.8000, 0.9000,\n",
              "        1.0000, 1.1000])"
            ]
          },
          "metadata": {},
          "execution_count": 25
        }
      ],
      "source": [
        "spaced_points = torch.linspace(.1, 1.1, 11)\n",
        "spaced_points"
      ]
    },
    {
      "cell_type": "code",
      "execution_count": null,
      "metadata": {
        "colab": {
          "base_uri": "https://localhost:8080/"
        },
        "id": "va4VDD9kx7Pg",
        "outputId": "02c6f31f-efe1-43c3-cca7-18e5e7e5adbd"
      },
      "outputs": [
        {
          "output_type": "execute_result",
          "data": {
            "text/plain": [
              "tensor([0.0000, 0.4000, 0.0000, 0.8000, 0.0000, 1.2000, 1.4000, 1.6000, 1.8000,\n",
              "        0.0000, 2.2000])"
            ]
          },
          "metadata": {},
          "execution_count": 26
        }
      ],
      "source": [
        "torch.manual_seed(44)\n",
        "\n",
        "dropping_model.train()\n",
        "output_train = dropping_model(spaced_points)\n",
        "output_train"
      ]
    },
    {
      "cell_type": "markdown",
      "metadata": {
        "id": "km9-weJAx7Pg"
      },
      "source": [
        "![](images/dropout_paper.png)"
      ]
    },
    {
      "cell_type": "code",
      "execution_count": null,
      "metadata": {
        "colab": {
          "base_uri": "https://localhost:8080/"
        },
        "id": "J9hlMdxIx7Pg",
        "outputId": "636b9285-17b7-417b-9d1a-908b0edf08b6"
      },
      "outputs": [
        {
          "output_type": "execute_result",
          "data": {
            "text/plain": [
              "tensor([0., 2., 0., 2., 0., 2., 2., 2., 2., 0., 2.])"
            ]
          },
          "metadata": {},
          "execution_count": 27
        }
      ],
      "source": [
        "output_train / spaced_points"
      ]
    },
    {
      "cell_type": "code",
      "execution_count": null,
      "metadata": {
        "colab": {
          "base_uri": "https://localhost:8080/"
        },
        "id": "1oIRNcxUx7Pg",
        "outputId": "79bcfecb-404e-46f3-af54-eab978a81b71"
      },
      "outputs": [
        {
          "output_type": "execute_result",
          "data": {
            "text/plain": [
              "tensor(9.4000)"
            ]
          },
          "metadata": {},
          "execution_count": 28
        }
      ],
      "source": [
        "F.linear(output_train, weight=torch.ones(11), bias=torch.tensor(0))"
      ]
    },
    {
      "cell_type": "code",
      "execution_count": null,
      "metadata": {
        "colab": {
          "base_uri": "https://localhost:8080/"
        },
        "id": "wGlYi6f4x7Pl",
        "outputId": "4e745389-74db-4a3b-b7d3-d3afba8e1640"
      },
      "outputs": [
        {
          "output_type": "execute_result",
          "data": {
            "text/plain": [
              "tensor([0.1000, 0.2000, 0.3000, 0.4000, 0.5000, 0.6000, 0.7000, 0.8000, 0.9000,\n",
              "        1.0000, 1.1000])"
            ]
          },
          "metadata": {},
          "execution_count": 29
        }
      ],
      "source": [
        "dropping_model.eval()\n",
        "output_eval = dropping_model(spaced_points)\n",
        "output_eval"
      ]
    },
    {
      "cell_type": "code",
      "execution_count": null,
      "metadata": {
        "colab": {
          "base_uri": "https://localhost:8080/"
        },
        "id": "OETSw5eex7Pl",
        "outputId": "84465c0f-fbc1-4d88-8151-84f36bfc3c24"
      },
      "outputs": [
        {
          "output_type": "execute_result",
          "data": {
            "text/plain": [
              "tensor(6.6000)"
            ]
          },
          "metadata": {},
          "execution_count": 30
        }
      ],
      "source": [
        "F.linear(output_eval, weight=torch.ones(11), bias=torch.tensor(0))"
      ]
    },
    {
      "cell_type": "code",
      "execution_count": null,
      "metadata": {
        "id": "Fc0p5QRYx7Pl"
      },
      "outputs": [],
      "source": [
        "torch.manual_seed(17)\n",
        "p = 0.5\n",
        "distrib_outputs = torch.tensor([F.linear(F.dropout(spaced_points, p=p),\n",
        "                                         weight=torch.ones(11), bias=torch.tensor(0))\n",
        "                                for _ in range(1000)])"
      ]
    },
    {
      "cell_type": "code",
      "execution_count": null,
      "metadata": {
        "id": "lA4M1GJ-nrc0"
      },
      "outputs": [],
      "source": [
        "def plot_dist(ax, distrib_outputs, p):\n",
        "    ax.hist(distrib_outputs, bins=np.linspace(0, 20, 21))\n",
        "    ax.set_xlabel('Sum of Adjusted Outputs')\n",
        "    ax.set_ylabel('# of Scenarios')\n",
        "    ax.set_title('p = {:.2f}'.format(p))\n",
        "    ax.set_ylim([0, 500])\n",
        "    mean_value = distrib_outputs.mean()\n",
        "    ax.plot([mean_value, mean_value], [0, 500], c='r', linestyle='--', label='Mean = {:.2f}'.format(mean_value))\n",
        "    ax.legend()"
      ]
    },
    {
      "cell_type": "code",
      "execution_count": null,
      "metadata": {
        "id": "4PdaeVRMnhiI"
      },
      "outputs": [],
      "source": [
        "def figure7(p, distrib_outputs):\n",
        "    fig, ax = plt.subplots(1, 1, figsize=(6, 4))\n",
        "    plot_dist(ax, distrib_outputs, p)\n",
        "    fig.tight_layout()\n",
        "    return fig"
      ]
    },
    {
      "cell_type": "code",
      "execution_count": null,
      "metadata": {
        "colab": {
          "base_uri": "https://localhost:8080/",
          "height": 395
        },
        "id": "sR84E6Axx7Pl",
        "outputId": "67cf2b96-09eb-4011-947a-6b9ea5b9b3a3",
        "scrolled": false
      },
      "outputs": [
        {
          "output_type": "display_data",
          "data": {
            "text/plain": [
              "<Figure size 600x400 with 1 Axes>"
            ],
            "image/png": "[encoded data removed]"
          },
          "metadata": {}
        }
      ],
      "source": [
        "fig = figure7(p, distrib_outputs)"
      ]
    },
    {
      "cell_type": "code",
      "execution_count": null,
      "metadata": {
        "id": "8cCEhlrwn69w"
      },
      "outputs": [],
      "source": [
        "def figure8(ps=(0.1, 0.3, 0.5, 0.9)):\n",
        "    spaced_points = torch.linspace(.1, 1.1, 11)\n",
        "    fig, axs = plt.subplots(1, 4, figsize=(15, 4))\n",
        "    for ax, p in zip(axs.flat, ps):\n",
        "        torch.manual_seed(17)\n",
        "        distrib_outputs = torch.tensor([F.linear(F.dropout(spaced_points, p=p),\n",
        "                                                 weight=torch.ones(11), bias=torch.tensor(0))\n",
        "                                        for _ in range(1000)])\n",
        "        plot_dist(ax, distrib_outputs, p)\n",
        "        ax.label_outer()\n",
        "    fig.tight_layout()\n",
        "    return fig"
      ]
    },
    {
      "cell_type": "markdown",
      "metadata": {
        "id": "zZbPZwW66Oi5"
      },
      "source": [
        "On the left, if there is barely any dropout (p=0.10), the sum of adjusted outputs is\n",
        "tightly distributed around the mean value. For more typical dropout probabilities\n",
        "(like 30% or 50%), the distribution may take some more extreme values.\n",
        "\n",
        "\n",
        "If we go to extremes, like a dropout probability of 90%, the distribution gets a bit\n",
        "degenerated, I would say—it is pretty much all over the place (and it has a lot of\n",
        "scenarios where everything gets dropped, hence the tall bar at zero)."
      ]
    },
    {
      "cell_type": "code",
      "execution_count": null,
      "metadata": {
        "colab": {
          "base_uri": "https://localhost:8080/",
          "height": 395
        },
        "id": "3D87xmNRx7Pl",
        "outputId": "60f4ca7e-8ef9-426b-ca30-796a11fe873e"
      },
      "outputs": [
        {
          "output_type": "display_data",
          "data": {
            "text/plain": [
              "<Figure size 1500x400 with 4 Axes>"
            ],
            "image/png": "[encoded data removed]"
          },
          "metadata": {}
        }
      ],
      "source": [
        "fig = figure8()"
      ]
    },
    {
      "cell_type": "markdown",
      "metadata": {
        "id": "dSfdkNqV6pk1"
      },
      "source": [
        "The variance of the distribution of outputs grows with the\n",
        "dropout probability.\n",
        "\n",
        "\n",
        "A higher dropout probability makes it harder for your model to\n",
        "learn—that’s what regularization does."
      ]
    },
    {
      "cell_type": "markdown",
      "metadata": {
        "id": "WpeoEL1qx7Pl"
      },
      "source": [
        "### Two-Dimensional Dropout"
      ]
    },
    {
      "cell_type": "code",
      "execution_count": null,
      "metadata": {
        "id": "795rXpRUIuUq"
      },
      "outputs": [],
      "source": [
        "def figure9(first_images, seed=17, p=.33):\n",
        "    torch.manual_seed(seed)\n",
        "    fig, axs = plt.subplots(1, 3, figsize=(12, 4))\n",
        "    axs[0].imshow(ToPILImage()(first_images[0]))\n",
        "    axs[0].set_title('Original Image')\n",
        "    axs[0].grid(False)\n",
        "    axs[0].set_xticks([])\n",
        "    axs[0].set_yticks([])\n",
        "    axs[1].imshow(ToPILImage()(F.dropout(first_images[:1], p=p)[0]))\n",
        "    axs[1].set_title('Regular Dropout')\n",
        "    axs[1].grid(False)\n",
        "    axs[1].set_xticks([])\n",
        "    axs[1].set_yticks([])\n",
        "    axs[2].imshow(ToPILImage()(F.dropout2d(first_images[:1], p=p)[0]))\n",
        "    axs[2].set_title('Two-Dimensional Dropout')\n",
        "    axs[2].grid(False)\n",
        "    axs[2].set_xticks([])\n",
        "    axs[2].set_yticks([])\n",
        "    fig.tight_layout()\n",
        "    return fig"
      ]
    },
    {
      "cell_type": "code",
      "execution_count": null,
      "metadata": {
        "colab": {
          "base_uri": "https://localhost:8080/",
          "height": 403
        },
        "id": "nP2fR4Q4x7Pl",
        "outputId": "3ea96f4d-efed-42a9-c0fe-b56d199ae8f1"
      },
      "outputs": [
        {
          "output_type": "display_data",
          "data": {
            "text/plain": [
              "<Figure size 1200x400 with 3 Axes>"
            ],
            "image/png": "[encoded data removed]"
          },
          "metadata": {}
        }
      ],
      "source": [
        "fig = figure9(first_images)"
      ]
    },
    {
      "cell_type": "markdown",
      "metadata": {
        "id": "Zp9hamqkx7Pg"
      },
      "source": [
        "# Fancier Model"
      ]
    },
    {
      "cell_type": "markdown",
      "metadata": {
        "id": "kj9Az9zIgs8l"
      },
      "source": [
        "Let’s leave the Sequential model aside for now and build a model class again. This\n",
        "time, our constructor method will take two arguments: ``n_filters`` and ``p``. We’ll use\n",
        "``n_filters`` as the number of output channels for both convolutional blocks of our\n",
        "model (yes, there are two now!). And, as you can see from the code below, we’ll use\n",
        "``p`` as the probability of **dropout**."
      ]
    },
    {
      "cell_type": "code",
      "execution_count": null,
      "metadata": {
        "id": "-8w4MPnpx7Pg"
      },
      "outputs": [],
      "source": [
        "class CNN2(nn.Module):\n",
        "    def __init__(self, n_feature, p=0.0):\n",
        "        super(CNN2, self).__init__()\n",
        "        self.n_feature = n_feature\n",
        "        self.p = p\n",
        "        # Creates the convolution layers\n",
        "        self.conv1 = nn.Conv2d(in_channels=3,\n",
        "                               out_channels=n_feature,\n",
        "                               kernel_size=3)\n",
        "        self.conv2 = nn.Conv2d(in_channels=n_feature,\n",
        "                               out_channels=n_feature,\n",
        "                               kernel_size=3)\n",
        "        # Creates the linear layers\n",
        "        # Where do this 5 * 5 come from?! Check it below\n",
        "        self.fc1 = nn.Linear(n_feature * 5 * 5, 50)\n",
        "        self.fc2 = nn.Linear(50, 3)\n",
        "        # Creates dropout layers\n",
        "        self.drop = nn.Dropout(self.p)\n",
        "\n",
        "    def featurizer(self, x):\n",
        "        # Featurizer\n",
        "        # First convolutional block\n",
        "        # 3@28x28 -> n_feature@26x26 -> n_feature@13x13\n",
        "        x = self.conv1(x)\n",
        "        x = F.relu(x)\n",
        "        x = F.max_pool2d(x, kernel_size=2)\n",
        "        # Second convolutional block\n",
        "        # n_feature * @13x13 -> n_feature@11x11 -> n_feature@5x5\n",
        "        x = self.conv2(x)\n",
        "        x = F.relu(x)\n",
        "        x = F.max_pool2d(x, kernel_size=2)\n",
        "        # Input dimension (n_feature@5x5)\n",
        "        # Output dimension (n_feature * 5 * 5)\n",
        "        x = nn.Flatten()(x)\n",
        "        return x\n",
        "\n",
        "    def classifier(self, x):\n",
        "        # Classifier\n",
        "        # Hidden Layer\n",
        "        # Input dimension (n_feature * 5 * 5)\n",
        "        # Output dimension (50)\n",
        "        if self.p > 0:\n",
        "            x = self.drop(x)\n",
        "        x = self.fc1(x)\n",
        "        x = F.relu(x)\n",
        "        # Output Layer\n",
        "        # Input dimension (50)\n",
        "        # Output dimension (3)\n",
        "        if self.p > 0:\n",
        "            x = self.drop(x)\n",
        "        x = self.fc2(x)\n",
        "        return x\n",
        "\n",
        "    def forward(self, x):\n",
        "        x = self.featurizer(x)\n",
        "        x = self.classifier(x)\n",
        "        return x"
      ]
    },
    {
      "cell_type": "markdown",
      "metadata": {
        "id": "yU9Sv3_rW_Uz"
      },
      "source": [
        "# Case Study"
      ]
    },
    {
      "cell_type": "markdown",
      "metadata": {
        "id": "JjwBhjA1x7Pl"
      },
      "source": [
        "## Model Configuration"
      ]
    },
    {
      "cell_type": "markdown",
      "metadata": {
        "id": "H8AnsR9RGCaN"
      },
      "source": [
        "The configuration part is short and straightforward:\n",
        "- We create a model,\n",
        "-  a loss function,\n",
        "- and an optimizer.\n",
        "\n",
        "The model will be an instance of our CNN2 class with five filters and a dropout\n",
        "probability of 30%.\n",
        "\n",
        "Our dataset has three classes, so we’re using\n",
        "``nn.CrossEntropyLoss()`` (which will take the three logits produced by our model)."
      ]
    },
    {
      "cell_type": "code",
      "execution_count": null,
      "metadata": {
        "id": "BkrMKNDex7Pl"
      },
      "outputs": [],
      "source": [
        "torch.manual_seed(13)\n",
        "\n",
        "# Model/Architecture\n",
        "model_cnn2 = CNN2(n_feature=5, p=0.3)\n",
        "\n",
        "# Loss function\n",
        "multi_loss_fn = nn.CrossEntropyLoss(reduction='mean')\n",
        "\n",
        "# Optimizer\n",
        "optimizer_cnn2 = optim.Adam(model_cnn2.parameters(), lr=3e-4)"
      ]
    },
    {
      "cell_type": "markdown",
      "metadata": {
        "id": "h67IlmE6Gg1E"
      },
      "source": [
        "> Adaptive moment estimation (Adam) uses adaptive learning\n",
        "rates, computing a learning rate for each parameter. Yes, you\n",
        "read it right: Each parameter has a learning rate to call its own!\n",
        "\n",
        "\n",
        "> If you dig into the state_dict() of an Adam optimizer, you’ll find\n",
        "tensors shaped like the parameters of every layer in your model\n",
        "that Adam will use to compute the corresponding learning rates.\n",
        "True story!"
      ]
    },
    {
      "cell_type": "code",
      "execution_count": null,
      "metadata": {
        "colab": {
          "base_uri": "https://localhost:8080/"
        },
        "id": "WCcNFhatLlF7",
        "outputId": "ee8bb430-4d6a-4344-9398-72f0db91a999"
      },
      "outputs": [
        {
          "output_type": "execute_result",
          "data": {
            "text/plain": [
              "{'state': {},\n",
              " 'param_groups': [{'lr': 0.0003,\n",
              "   'betas': (0.9, 0.999),\n",
              "   'eps': 1e-08,\n",
              "   'weight_decay': 0,\n",
              "   'amsgrad': False,\n",
              "   'maximize': False,\n",
              "   'foreach': None,\n",
              "   'capturable': False,\n",
              "   'differentiable': False,\n",
              "   'fused': None,\n",
              "   'params': [0, 1, 2, 3, 4, 5, 6, 7]}]}"
            ]
          },
          "metadata": {},
          "execution_count": 41
        }
      ],
      "source": [
        "optimizer_cnn2.state_dict()"
      ]
    },
    {
      "cell_type": "markdown",
      "metadata": {
        "id": "J_2-_imRx7Pl"
      },
      "source": [
        "## Model Training"
      ]
    },
    {
      "cell_type": "code",
      "execution_count": null,
      "metadata": {
        "id": "v23rWHLTx7Pl"
      },
      "outputs": [],
      "source": [
        "arch_cnn2 = Architecture(model_cnn2,\n",
        "                        multi_loss_fn,\n",
        "                        optimizer_cnn2)\n",
        "arch_cnn2.set_loaders(train_loader, val_loader)\n",
        "arch_cnn2.train(10)"
      ]
    },
    {
      "cell_type": "code",
      "execution_count": null,
      "metadata": {
        "colab": {
          "background_save": true
        },
        "id": "uz3dTBTkKfpJ",
        "outputId": "fe306edb-f2db-4dfa-8e3e-c6e576ede5e8"
      },
      "outputs": [
        {
          "data": {
            "text/plain": [
              "6823"
            ]
          },
          "execution_count": 37,
          "metadata": {},
          "output_type": "execute_result"
        }
      ],
      "source": [
        "arch_cnn2.count_parameters()"
      ]
    },
    {
      "cell_type": "code",
      "execution_count": null,
      "metadata": {
        "colab": {
          "background_save": true
        },
        "id": "dDSyJu6Rx7Pm",
        "outputId": "461e2597-14ab-4220-be57-af019d53241d"
      },
      "outputs": [
        {
          "data": {
            "image/png": "[encoded data removed]",
            "text/plain": [
              "<Figure size 1000x400 with 1 Axes>"
            ]
          },
          "metadata": {},
          "output_type": "display_data"
        }
      ],
      "source": [
        "fig = arch_cnn2.plot_losses()"
      ]
    },
    {
      "cell_type": "markdown",
      "metadata": {
        "id": "ot0FT1aAx7Pm"
      },
      "source": [
        "### Accuracy"
      ]
    },
    {
      "cell_type": "code",
      "execution_count": null,
      "metadata": {
        "colab": {
          "background_save": true
        },
        "id": "LRWhimcwx7Pm",
        "outputId": "bb1e0c28-08dd-49d9-825f-b2272178d087"
      },
      "outputs": [
        {
          "data": {
            "text/plain": [
              "tensor([[ 93, 124],\n",
              "        [119, 124],\n",
              "        [114, 124]])"
            ]
          },
          "execution_count": 39,
          "metadata": {},
          "output_type": "execute_result"
        }
      ],
      "source": [
        "Architecture.loader_apply(val_loader,\n",
        "                          arch_cnn2.correct)"
      ]
    },
    {
      "cell_type": "code",
      "execution_count": null,
      "metadata": {
        "colab": {
          "background_save": true
        },
        "id": "RN1LrRNuknlw",
        "outputId": "4e5d1d0a-b9ef-4333-c01a-33ffc61e920c"
      },
      "outputs": [
        {
          "data": {
            "text/plain": [
              "tensor([326, 372])"
            ]
          },
          "execution_count": 40,
          "metadata": {},
          "output_type": "execute_result"
        }
      ],
      "source": [
        "Architecture.loader_apply(val_loader,\n",
        "                          arch_cnn2.correct).sum(axis=0)"
      ]
    },
    {
      "cell_type": "code",
      "execution_count": null,
      "metadata": {
        "colab": {
          "background_save": true
        },
        "id": "jkiRae49lBQf",
        "outputId": "5a944575-8104-472e-bf4d-72ac7eb21871"
      },
      "outputs": [
        {
          "data": {
            "text/plain": [
              "0.8763440860215054"
            ]
          },
          "execution_count": 41,
          "metadata": {},
          "output_type": "execute_result"
        }
      ],
      "source": [
        "(lambda x: x[0].item() / x[1].item())(Architecture.loader_apply(val_loader,\n",
        "                                                                arch_cnn2.correct).sum(axis=0))"
      ]
    },
    {
      "cell_type": "markdown",
      "metadata": {
        "id": "B2ZUMxTjx7Pm"
      },
      "source": [
        "### Regularizing Effect"
      ]
    },
    {
      "cell_type": "code",
      "execution_count": null,
      "metadata": {
        "colab": {
          "background_save": true
        },
        "id": "IYzWhT5Ex7Pm"
      },
      "outputs": [],
      "source": [
        "torch.manual_seed(13)\n",
        "# Model Configuration\n",
        "model_cnn2_nodrop = CNN2(n_feature=5, p=0.0)\n",
        "multi_loss_fn = nn.CrossEntropyLoss(reduction='mean')\n",
        "optimizer_cnn2_nodrop = optim.Adam(model_cnn2_nodrop.parameters(), lr=3e-4)\n",
        "# Model Training\n",
        "arch_cnn2_nodrop = Architecture(model_cnn2_nodrop, multi_loss_fn, optimizer_cnn2_nodrop)\n",
        "arch_cnn2_nodrop.set_loaders(train_loader, val_loader)\n",
        "arch_cnn2_nodrop.train(10)"
      ]
    },
    {
      "cell_type": "code",
      "execution_count": null,
      "metadata": {
        "colab": {
          "background_save": true
        },
        "id": "7VM30IJOjK6e"
      },
      "outputs": [],
      "source": [
        "def figure11(losses, val_losses, losses_nodrop, val_losses_nodrop):\n",
        "    fig, axs = plt.subplots(1, 1, figsize=(10, 5))\n",
        "    axs.plot(losses, 'b', label='Training Losses - Dropout')\n",
        "    axs.plot(val_losses, 'r', label='Validation Losses - Dropout')\n",
        "    axs.plot(losses_nodrop, 'b--', label='Training Losses - No Dropout')\n",
        "    axs.plot(val_losses_nodrop, 'r--', label='Validation Losses - No Dropout')\n",
        "    plt.yscale('log')\n",
        "    plt.xlabel('Epochs')\n",
        "    plt.ylabel('Loss')\n",
        "    plt.title('Regularizing Effect')\n",
        "    fig.legend(loc='lower left')\n",
        "    fig.tight_layout()\n",
        "    return fig"
      ]
    },
    {
      "cell_type": "code",
      "execution_count": null,
      "metadata": {
        "colab": {
          "background_save": true
        },
        "id": "4bpE2wmLx7Pm",
        "outputId": "1cda7133-84e2-4616-e55e-b87f9868faa7"
      },
      "outputs": [
        {
          "data": {
            "image/png": "[encoded data removed]",
            "text/plain": [
              "<Figure size 1000x500 with 1 Axes>"
            ]
          },
          "metadata": {},
          "output_type": "display_data"
        }
      ],
      "source": [
        "fig = figure11(arch_cnn2.losses, arch_cnn2.val_losses, arch_cnn2_nodrop.losses, arch_cnn2_nodrop.val_losses)"
      ]
    },
    {
      "cell_type": "code",
      "execution_count": null,
      "metadata": {
        "colab": {
          "background_save": true
        },
        "id": "HQwHu31_x7Pm",
        "outputId": "3d18586b-07cb-4d30-9c87-7d3c1d941a46"
      },
      "outputs": [
        {
          "name": "stdout",
          "output_type": "stream",
          "text": [
            "tensor([2520, 2520]) tensor([292, 372])\n"
          ]
        }
      ],
      "source": [
        "print(\n",
        "    Architecture.loader_apply(train_loader, arch_cnn2_nodrop.correct).sum(axis=0),\n",
        "    Architecture.loader_apply(val_loader, arch_cnn2_nodrop.correct).sum(axis=0)\n",
        ")"
      ]
    },
    {
      "cell_type": "code",
      "execution_count": null,
      "metadata": {
        "colab": {
          "background_save": true
        },
        "id": "ZZ_qXhn7mCen",
        "outputId": "9bb8cc5a-cfa6-45fe-bf2c-3850e6e7d0a3"
      },
      "outputs": [
        {
          "name": "stdout",
          "output_type": "stream",
          "text": [
            "1.0 0.7849462365591398\n"
          ]
        }
      ],
      "source": [
        "print(\n",
        "    (lambda x: x[0].item() / x[1].item())(Architecture.loader_apply(train_loader, arch_cnn2_nodrop.correct).sum(axis=0)),\n",
        "    (lambda x: x[0].item() / x[1].item())(Architecture.loader_apply(val_loader, arch_cnn2_nodrop.correct).sum(axis=0))\n",
        ")"
      ]
    },
    {
      "cell_type": "code",
      "execution_count": null,
      "metadata": {
        "colab": {
          "background_save": true
        },
        "id": "C4OmbK88x7Pm",
        "outputId": "882d0336-c6ea-4bac-a2ca-a8373c8c33ab"
      },
      "outputs": [
        {
          "name": "stdout",
          "output_type": "stream",
          "text": [
            "tensor([2504, 2520]) tensor([326, 372])\n"
          ]
        }
      ],
      "source": [
        "print(\n",
        "    Architecture.loader_apply(train_loader, arch_cnn2.correct).sum(axis=0),\n",
        "    Architecture.loader_apply(val_loader, arch_cnn2.correct).sum(axis=0)\n",
        ")"
      ]
    },
    {
      "cell_type": "code",
      "execution_count": null,
      "metadata": {
        "colab": {
          "background_save": true
        },
        "id": "kjCSH3bymW5w",
        "outputId": "5bb20b5d-9770-4840-89da-8612b72fd7fb"
      },
      "outputs": [
        {
          "name": "stdout",
          "output_type": "stream",
          "text": [
            "0.9936507936507937 0.8763440860215054\n"
          ]
        }
      ],
      "source": [
        "print(\n",
        "    (lambda x: x[0].item() / x[1].item())(Architecture.loader_apply(train_loader, arch_cnn2.correct).sum(axis=0)),\n",
        "    (lambda x: x[0].item() / x[1].item())(Architecture.loader_apply(val_loader, arch_cnn2.correct).sum(axis=0))\n",
        ")"
      ]
    },
    {
      "cell_type": "markdown",
      "metadata": {
        "id": "_9tCbHGDx7Pm"
      },
      "source": [
        "### Visualizing Filters"
      ]
    },
    {
      "cell_type": "code",
      "execution_count": null,
      "metadata": {
        "colab": {
          "background_save": true
        },
        "id": "vH6OlkjKx7Pm",
        "outputId": "4521a976-5379-49e5-860b-26b7d082be6a"
      },
      "outputs": [
        {
          "data": {
            "text/plain": [
              "torch.Size([5, 3, 3, 3])"
            ]
          },
          "execution_count": 49,
          "metadata": {},
          "output_type": "execute_result"
        }
      ],
      "source": [
        "model_cnn2.conv1.weight.shape"
      ]
    },
    {
      "cell_type": "code",
      "execution_count": null,
      "metadata": {
        "colab": {
          "background_save": true
        },
        "id": "npjMerDKx7Pm",
        "outputId": "c4085482-d738-4794-d7e6-8e83d2033f0b"
      },
      "outputs": [
        {
          "data": {
            "image/png": "[encoded data removed]",
            "text/plain": [
              "<Figure size 800x1000 with 15 Axes>"
            ]
          },
          "metadata": {},
          "output_type": "display_data"
        }
      ],
      "source": [
        "fig = arch_cnn2.visualize_filters('conv1')"
      ]
    },
    {
      "cell_type": "code",
      "execution_count": null,
      "metadata": {
        "colab": {
          "background_save": true
        },
        "id": "t4wTDLadx7Pm",
        "outputId": "08331195-9773-4f3e-cb29-9ac1de51e7ae"
      },
      "outputs": [
        {
          "data": {
            "text/plain": [
              "torch.Size([5, 5, 3, 3])"
            ]
          },
          "execution_count": 51,
          "metadata": {},
          "output_type": "execute_result"
        }
      ],
      "source": [
        "model_cnn2.conv2.weight.shape"
      ]
    },
    {
      "cell_type": "code",
      "execution_count": null,
      "metadata": {
        "colab": {
          "background_save": true
        },
        "id": "H6EPMkGix7Pn",
        "outputId": "2f9c740c-35f6-4824-80af-48f8656ab2f0"
      },
      "outputs": [
        {
          "data": {
            "image/png": "[encoded data removed]",
            "text/plain": [
              "<Figure size 1200x1000 with 25 Axes>"
            ]
          },
          "metadata": {},
          "output_type": "display_data"
        }
      ],
      "source": [
        "fig = arch_cnn2.visualize_filters('conv2')"
      ]
    },
    {
      "cell_type": "markdown",
      "metadata": {
        "id": "cMJroI7px7Pn"
      },
      "source": [
        "# Learning Rates"
      ]
    },
    {
      "cell_type": "markdown",
      "metadata": {
        "id": "BBmpTkw6x7Pn"
      },
      "source": [
        "## Finding LR"
      ]
    },
    {
      "cell_type": "markdown",
      "metadata": {
        "id": "423mkf5J7XVd"
      },
      "source": [
        "First, we need to define the boundaries for the test (``start_lr`` and ``end_lr``) and the number of iterations (``num_iter``) to move from one to the other. On top of that, we can choose to change how to make the increments: **linearly** or **exponentially**. Let’s build a higher-order function that takes all those arguments and returns another\n",
        "function, one that returns the multiplying factor given the current iteration number:"
      ]
    },
    {
      "cell_type": "code",
      "execution_count": null,
      "metadata": {
        "id": "9NU3leyJx7Pn"
      },
      "outputs": [],
      "source": [
        "def make_lr_fn(start_lr, end_lr, num_iter, step_mode='exp'):\n",
        "    if step_mode == 'linear':\n",
        "        factor = (end_lr / start_lr - 1) / num_iter\n",
        "        def lr_fn(iteration):\n",
        "            return 1 + iteration * factor\n",
        "    else:\n",
        "        factor = (np.log(end_lr) - np.log(start_lr)) / num_iter\n",
        "        def lr_fn(iteration):\n",
        "            return np.exp(factor)**iteration\n",
        "    return lr_fn"
      ]
    },
    {
      "cell_type": "code",
      "execution_count": null,
      "metadata": {
        "id": "ZYkBu5mCx7Pn"
      },
      "outputs": [],
      "source": [
        "start_lr = 0.01\n",
        "end_lr = 0.1\n",
        "num_iter = 10\n",
        "lr_fn = make_lr_fn(start_lr, end_lr,\n",
        "                   num_iter, step_mode='exp')"
      ]
    },
    {
      "cell_type": "code",
      "execution_count": null,
      "metadata": {
        "colab": {
          "base_uri": "https://localhost:8080/"
        },
        "id": "67t_lsw2x7Pn",
        "outputId": "b00044dd-78e9-4253-a3f6-62efabd10372"
      },
      "outputs": [
        {
          "data": {
            "text/plain": [
              "array([ 1.        ,  1.25892541,  1.58489319,  1.99526231,  2.51188643,\n",
              "        3.16227766,  3.98107171,  5.01187234,  6.30957344,  7.94328235,\n",
              "       10.        ])"
            ]
          },
          "execution_count": 67,
          "metadata": {},
          "output_type": "execute_result"
        }
      ],
      "source": [
        "lr_fn(np.arange(num_iter + 1))"
      ]
    },
    {
      "cell_type": "code",
      "execution_count": null,
      "metadata": {
        "colab": {
          "base_uri": "https://localhost:8080/"
        },
        "id": "Q2DhcYjVx7Po",
        "outputId": "9d2c9183-804c-4e68-989e-840992e4fb49"
      },
      "outputs": [
        {
          "data": {
            "text/plain": [
              "array([0.01      , 0.01258925, 0.01584893, 0.01995262, 0.02511886,\n",
              "       0.03162278, 0.03981072, 0.05011872, 0.06309573, 0.07943282,\n",
              "       0.1       ])"
            ]
          },
          "execution_count": 68,
          "metadata": {},
          "output_type": "execute_result"
        }
      ],
      "source": [
        "start_lr * lr_fn(np.arange(num_iter + 1))"
      ]
    },
    {
      "cell_type": "code",
      "execution_count": null,
      "metadata": {
        "id": "rzTpGzwq-iAL"
      },
      "outputs": [],
      "source": [
        "start_lr = 0.01\n",
        "end_lr = 0.1\n",
        "num_iter = 10\n",
        "lr_fn = make_lr_fn(start_lr, end_lr, num_iter, step_mode='linear')"
      ]
    },
    {
      "cell_type": "code",
      "execution_count": null,
      "metadata": {
        "colab": {
          "base_uri": "https://localhost:8080/"
        },
        "id": "DQsrZaSn-l-1",
        "outputId": "425aa4c0-0161-4029-9f27-e92270ddadfa"
      },
      "outputs": [
        {
          "data": {
            "text/plain": [
              "array([ 1. ,  1.9,  2.8,  3.7,  4.6,  5.5,  6.4,  7.3,  8.2,  9.1, 10. ])"
            ]
          },
          "execution_count": 81,
          "metadata": {},
          "output_type": "execute_result"
        }
      ],
      "source": [
        "lr_fn(np.arange(num_iter + 1))"
      ]
    },
    {
      "cell_type": "code",
      "execution_count": null,
      "metadata": {
        "colab": {
          "base_uri": "https://localhost:8080/"
        },
        "id": "0S--lwB6-nvx",
        "outputId": "1c2a0b1b-f416-42b2-a27b-e71a33cb0a1a"
      },
      "outputs": [
        {
          "data": {
            "text/plain": [
              "array([0.01 , 0.019, 0.028, 0.037, 0.046, 0.055, 0.064, 0.073, 0.082,\n",
              "       0.091, 0.1  ])"
            ]
          },
          "execution_count": 82,
          "metadata": {},
          "output_type": "execute_result"
        }
      ],
      "source": [
        "start_lr * lr_fn(np.arange(num_iter + 1))"
      ]
    },
    {
      "cell_type": "code",
      "execution_count": null,
      "metadata": {
        "id": "lu3yt7Zyx7Po"
      },
      "outputs": [],
      "source": [
        "dummy_model = CNN2(n_feature=5, p=0.3)\n",
        "dummy_optimizer = optim.Adam(dummy_model.parameters(), lr=start_lr)\n",
        "dummy_scheduler = LambdaLR(dummy_optimizer, lr_lambda=lr_fn)"
      ]
    },
    {
      "cell_type": "code",
      "execution_count": null,
      "metadata": {
        "id": "cp86IgNix7Po"
      },
      "outputs": [],
      "source": [
        "dummy_optimizer.step()\n",
        "dummy_scheduler.step()"
      ]
    },
    {
      "cell_type": "code",
      "execution_count": null,
      "metadata": {
        "colab": {
          "base_uri": "https://localhost:8080/"
        },
        "id": "eLNtrx-ux7Po",
        "outputId": "86b8e358-ceba-4b98-bf22-51cdb8e1884a"
      },
      "outputs": [
        {
          "data": {
            "text/plain": [
              "0.019"
            ]
          },
          "execution_count": 85,
          "metadata": {},
          "output_type": "execute_result"
        }
      ],
      "source": [
        "dummy_scheduler.get_last_lr()[0]"
      ]
    },
    {
      "cell_type": "code",
      "execution_count": null,
      "metadata": {
        "id": "NDv8LFD6x7Po"
      },
      "outputs": [],
      "source": [
        "torch.manual_seed(13)\n",
        "new_model = CNN2(n_feature=5, p=0.3)\n",
        "multi_loss_fn = nn.CrossEntropyLoss(reduction='mean')\n",
        "new_optimizer = optim.Adam(new_model.parameters(), lr=3e-4)"
      ]
    },
    {
      "cell_type": "code",
      "execution_count": null,
      "metadata": {
        "colab": {
          "base_uri": "https://localhost:8080/",
          "height": 395
        },
        "id": "F2bk3lLVx7Po",
        "outputId": "30bbfb4a-831a-46a3-de30-393da7ee39ad"
      },
      "outputs": [
        {
          "data": {
            "image/png": "[encoded data removed]",
            "text/plain": [
              "<Figure size 600x400 with 1 Axes>"
            ]
          },
          "metadata": {},
          "output_type": "display_data"
        }
      ],
      "source": [
        "arch_new = Architecture(new_model, multi_loss_fn, new_optimizer)\n",
        "tracking, fig = arch_new.lr_range_test(train_loader, end_lr=1e-1, num_iter=100)"
      ]
    },
    {
      "cell_type": "code",
      "execution_count": null,
      "metadata": {
        "colab": {
          "base_uri": "https://localhost:8080/"
        },
        "id": "3c_YfttIioQ4",
        "outputId": "b9c72ab4-22e0-4c23-a5a5-d05d945ded05"
      },
      "outputs": [
        {
          "data": {
            "text/plain": [
              "(0.6091022460474141, 0.04434013138652989)"
            ]
          },
          "execution_count": 88,
          "metadata": {},
          "output_type": "execute_result"
        }
      ],
      "source": [
        "min_loss = min(tracking['loss'])\n",
        "min_loss_index = tracking['loss'].index(min_loss)\n",
        "corresponding_lr = tracking['lr'][min_loss_index]\n",
        "\n",
        "min_loss, corresponding_lr"
      ]
    },
    {
      "cell_type": "code",
      "execution_count": null,
      "metadata": {
        "id": "hgO1PhuYx7Po"
      },
      "outputs": [],
      "source": [
        "new_optimizer = optim.Adam(new_model.parameters(), lr=0.005)\n",
        "arch_new.set_optimizer(new_optimizer)\n",
        "arch_new.set_loaders(train_loader, val_loader)\n",
        "arch_new.train(10)"
      ]
    },
    {
      "cell_type": "code",
      "execution_count": null,
      "metadata": {
        "colab": {
          "base_uri": "https://localhost:8080/",
          "height": 395
        },
        "id": "81k8t4Hkx7Pp",
        "outputId": "8167cb0b-2117-4552-daf3-67934cf97779"
      },
      "outputs": [
        {
          "data": {
            "image/png": "[encoded data removed]",
            "text/plain": [
              "<Figure size 1000x400 with 1 Axes>"
            ]
          },
          "metadata": {},
          "output_type": "display_data"
        }
      ],
      "source": [
        "# This plot wasn't included in the book\n",
        "fig = arch_new.plot_losses()"
      ]
    },
    {
      "cell_type": "markdown",
      "metadata": {
        "id": "2bTdnPglx7Pp"
      },
      "source": [
        "## LRFinder"
      ]
    },
    {
      "cell_type": "code",
      "execution_count": null,
      "metadata": {
        "id": "b8uRCRBjnh5n"
      },
      "outputs": [],
      "source": [
        "!pip install --quiet torch-lr-finder"
      ]
    },
    {
      "cell_type": "code",
      "execution_count": null,
      "metadata": {
        "colab": {
          "base_uri": "https://localhost:8080/"
        },
        "id": "TFrv6HTyx7Pp",
        "outputId": "da3966e4-ff9a-4d7d-84a0-13664c04bcb1"
      },
      "outputs": [
        {
          "output_type": "stream",
          "name": "stderr",
          "text": [
            "/usr/local/lib/python3.10/dist-packages/torch_lr_finder/lr_finder.py:5: TqdmExperimentalWarning: Using `tqdm.autonotebook.tqdm` in notebook mode. Use `tqdm.tqdm` instead to force console mode (e.g. in jupyter console)\n",
            "  from tqdm.autonotebook import tqdm\n"
          ]
        }
      ],
      "source": [
        "from torch_lr_finder import LRFinder"
      ]
    },
    {
      "cell_type": "markdown",
      "metadata": {
        "id": "whI_QZGfo1_o"
      },
      "source": [
        "Instead of calling a function directly, we need to create an instance of ``LRFinder`` first, using the typical model configuration objects (model,\n",
        "optimizer, loss function, and the device). Then, we can take the ``range_test()``\n",
        "method for a spin, providing familiar arguments to it: a data loader, the upper\n",
        "range for the learning rate, and the number of iterations. The ``reset()`` method restores the original states of both model and optimizer."
      ]
    },
    {
      "cell_type": "code",
      "execution_count": null,
      "metadata": {
        "colab": {
          "base_uri": "https://localhost:8080/",
          "height": 479,
          "referenced_widgets": [
            "ed170b0effce4aedad70e26e76390310",
            "a3458de70d9d49988f0005738980f4e5",
            "716237232e194ae2b782cb2a832570d9",
            "f36c02dd3f014e5cb138a13aaddff25d",
            "cd293b6ee23441d88a2693b43784a80c",
            "05507efdcef84dd58122d1768d830e91",
            "63a28faf477247fda98cc959b1810789",
            "cd1e46b7fbba4972ba8b74585b9445e2",
            "67969fa11d7d433d93c5dd6a0c833f72",
            "e114ee6a2b694805aa390d3a498e09d3",
            "3e450e4550ce48bda9e5d8c741bd0c90"
          ]
        },
        "id": "67-oWOrkx7Pp",
        "outputId": "e6e973e2-c129-4d5c-aa0d-97b74aaa28f9"
      },
      "outputs": [
        {
          "output_type": "display_data",
          "data": {
            "text/plain": [
              "  0%|          | 0/100 [00:00<?, ?it/s]"
            ],
            "application/vnd.jupyter.widget-view+json": {
              "version_major": 2,
              "version_minor": 0,
              "model_id": "ed170b0effce4aedad70e26e76390310"
            }
          },
          "metadata": {}
        },
        {
          "output_type": "stream",
          "name": "stdout",
          "text": [
            "Learning rate search finished. See the graph with {finder_name}.plot()\n",
            "LR suggestion: steepest gradient\n",
            "Suggested LR: 9.02E-03\n"
          ]
        },
        {
          "output_type": "display_data",
          "data": {
            "text/plain": [
              "<Figure size 600x400 with 1 Axes>"
            ],
            "image/png": "[encoded data removed]"
          },
          "metadata": {}
        }
      ],
      "source": [
        "fig, ax = plt.subplots(1, 1, figsize=(6, 4))\n",
        "\n",
        "torch.manual_seed(11)\n",
        "new_model = CNN2(n_feature=5, p=0.3)\n",
        "multi_loss_fn = nn.CrossEntropyLoss(reduction='mean')\n",
        "new_optimizer = optim.Adam(new_model.parameters(), lr=3e-4)\n",
        "device = 'cuda' if torch.cuda.is_available() else 'cpu'\n",
        "\n",
        "lr_finder = LRFinder(new_model, new_optimizer, multi_loss_fn, device=device)\n",
        "lr_finder.range_test(train_loader, end_lr=1e-1, num_iter=100)\n",
        "lr_finder.plot(ax=ax, log_lr=True)\n",
        "\n",
        "fig.tight_layout()\n",
        "lr_finder.reset()"
      ]
    },
    {
      "cell_type": "markdown",
      "metadata": {
        "id": "DeACqx4aRiC_"
      },
      "source": [
        "## Adaptive Learning Rate"
      ]
    },
    {
      "cell_type": "markdown",
      "metadata": {
        "id": "mQldqVQqRiC_"
      },
      "source": [
        "#### Moving Average (MA)"
      ]
    },
    {
      "cell_type": "markdown",
      "metadata": {
        "id": "GpNc_py7RiDA"
      },
      "source": [
        "$$\n",
        "\\large\n",
        "\\text{MA}_t(\\text{periods}, x) = \\frac{1}{\\text{periods}}(x_t + x_{t-1} + \\ldots + x_{t-\\text{periods}+1})\n",
        "$$"
      ]
    },
    {
      "cell_type": "markdown",
      "metadata": {
        "id": "QpJSgrWFRiDA"
      },
      "source": [
        "$$\n",
        "\\large\n",
        "\\text{average age}_{\\text{MA}} = \\frac{1+2+\\cdots+\\text{periods}}{\\text{periods}} = \\frac{\\text{periods}+1}{2}\n",
        "$$"
      ]
    },
    {
      "cell_type": "code",
      "execution_count": null,
      "metadata": {
        "colab": {
          "base_uri": "https://localhost:8080/"
        },
        "id": "ThkOcL0duXh7",
        "outputId": "2621f79f-d4a0-4b6b-86ee-ac55153a86fc"
      },
      "outputs": [
        {
          "output_type": "stream",
          "name": "stdout",
          "text": [
            "[4.0, 6.0, 8.0, 10.0, 12.0, 14.0]\n"
          ]
        }
      ],
      "source": [
        "def moving_average(data, N):\n",
        "    return [sum(data[i:i+N])/N for i in range(len(data)-N+1)]\n",
        "\n",
        "data = [2, 4, 6, 8, 10, 12, 14, 16]\n",
        "N = 3\n",
        "\n",
        "ma_result = moving_average(data, N)\n",
        "print(ma_result)"
      ]
    },
    {
      "cell_type": "code",
      "execution_count": null,
      "metadata": {
        "colab": {
          "base_uri": "https://localhost:8080/"
        },
        "id": "dI_05S8w2-qC",
        "outputId": "935242cb-3567-4bb8-943a-7bb931a27df4"
      },
      "outputs": [
        {
          "output_type": "stream",
          "name": "stdout",
          "text": [
            "2.0\n"
          ]
        }
      ],
      "source": [
        "def average_age_ma(N):\n",
        "    return (N + 1) / 2\n",
        "\n",
        "N = 3\n",
        "average_age_result = average_age_ma(N)\n",
        "print(average_age_result)"
      ]
    },
    {
      "cell_type": "markdown",
      "metadata": {
        "id": "slhKEZiXRiDA"
      },
      "source": [
        "#### EWMA"
      ]
    },
    {
      "cell_type": "markdown",
      "metadata": {
        "id": "NeLSlgzARiDA"
      },
      "source": [
        "$$\n",
        "\\large\n",
        "\\begin{array}\n",
        "& \\text{EWMA}_t(\\alpha, x) = &\\alpha &x_t &+ &(1-\\alpha) &\\text{EWMA}_{t-1}(\\alpha, x)\n",
        "\\\\\n",
        "\\text{EWMA}_t(\\beta, x) = &(1-\\beta) &x_t &+ &\\beta &\\text{EWMA}_{t-1}(\\beta, x)\n",
        "\\end{array}\n",
        "$$"
      ]
    },
    {
      "cell_type": "markdown",
      "metadata": {
        "id": "yMpAvLX4RiDA"
      },
      "source": [
        "$$\n",
        "\\large\n",
        "\\begin{array}\n",
        "&\\text{EWMA}_t(\\alpha, x) &= &&\\alpha x_t &+& (1-\\alpha)\\ (\\alpha x_{t-1} &+& (1-\\alpha)\\ \\ \\text{EWMA}_{t-2}(\\alpha, x))\n",
        "\\\\\n",
        "&= &&\\alpha x_t &+& (1-\\alpha)\\ \\ \\alpha x_{t-1} &+& (1-\\alpha)^2 \\alpha x_{t-2} + \\ldots\n",
        "\\\\\n",
        "&= &\\ (1-\\alpha)^0& \\alpha x_{t-0} &+& (1-\\alpha)^1\\ \\alpha x_{t-1} &+& (1-\\alpha)^2 \\alpha x_{t-2} + \\ldots\n",
        "\\\\\n",
        "&= \\alpha& ((1-\\alpha)^0&\\ \\ x_{t-0} &+& (1-\\alpha)^1\\ \\ \\ x_{t-1} &+& (1-\\alpha)^2\\ \\ x_{t-2} + \\ldots)\n",
        "\\\\\n",
        "\\end{array}\n",
        "$$"
      ]
    },
    {
      "cell_type": "markdown",
      "metadata": {
        "id": "7H53DZ5DRiDA"
      },
      "source": [
        "$$\n",
        "\\large\n",
        "\\text{EWMA}_t(\\alpha, x) = \\alpha \\sum_{\\text{lag}=0}^{T-1}\\underbrace{(1-\\alpha)^{\\text{lag}}}_{\\text{weight}} x_{t-\\text{lag}}\n",
        "$$"
      ]
    },
    {
      "cell_type": "code",
      "execution_count": null,
      "metadata": {
        "id": "7WbY65zlvVm4"
      },
      "outputs": [],
      "source": [
        "def figure15(alpha=1/3, periods=5, steps=10):\n",
        "    t = np.arange(1, steps+1)\n",
        "    fig, ax = plt.subplots(1, 1, figsize=(6, 4))\n",
        "    ax.bar(t-1, alpha*(1-alpha)**(t-1), label='EWMA')\n",
        "    ax.bar(t-1, [1/periods]*periods + [0]*(10-periods), color='r', alpha=.3, label='MA')\n",
        "    ax.set_xticks(t-1)\n",
        "    ax.grid(False)\n",
        "    ax.set_xlabel('Lag')\n",
        "    ax.set_ylabel('Weight')\n",
        "    ax.set_title(r'$EWMA\\ \\alpha=\\frac{1}{3}$ vs MA (5 periods)')\n",
        "    ax.legend()\n",
        "    fig.tight_layout()\n",
        "    return fig"
      ]
    },
    {
      "cell_type": "code",
      "execution_count": null,
      "metadata": {
        "colab": {
          "base_uri": "https://localhost:8080/"
        },
        "id": "pf-wgaTdCpDh",
        "outputId": "4ebd8ab3-b8ea-45a3-9401-44dbffd1383a"
      },
      "outputs": [
        {
          "output_type": "execute_result",
          "data": {
            "text/plain": [
              "array([1, 2, 3, 4, 5])"
            ]
          },
          "metadata": {},
          "execution_count": 47
        }
      ],
      "source": [
        "t = np.arange(1, 5+1)\n",
        "t"
      ]
    },
    {
      "cell_type": "code",
      "execution_count": null,
      "metadata": {
        "colab": {
          "base_uri": "https://localhost:8080/"
        },
        "id": "C2y1EJQdC99i",
        "outputId": "180b08b2-9143-4b5b-f92f-719e39cc42a7"
      },
      "outputs": [
        {
          "output_type": "execute_result",
          "data": {
            "text/plain": [
              "array([0.33333333, 0.22222222, 0.14814815, 0.09876543, 0.06584362])"
            ]
          },
          "metadata": {},
          "execution_count": 49
        }
      ],
      "source": [
        "alpha = 1/3\n",
        "weight = alpha*(1-alpha)**(t-1)\n",
        "weight"
      ]
    },
    {
      "cell_type": "code",
      "execution_count": null,
      "metadata": {
        "colab": {
          "base_uri": "https://localhost:8080/"
        },
        "id": "qzkHEk6EEFyL",
        "outputId": "e2f21fda-6709-47c4-fa85-2ed95cb295ce"
      },
      "outputs": [
        {
          "output_type": "execute_result",
          "data": {
            "text/plain": [
              "1.946502057613169"
            ]
          },
          "metadata": {},
          "execution_count": 50
        }
      ],
      "source": [
        "sum(t*weight)"
      ]
    },
    {
      "cell_type": "code",
      "execution_count": null,
      "metadata": {
        "colab": {
          "base_uri": "https://localhost:8080/"
        },
        "id": "HsDIsaxvDJpj",
        "outputId": "89789970-2dce-4246-e70f-9dd064b8f7d6"
      },
      "outputs": [
        {
          "output_type": "execute_result",
          "data": {
            "text/plain": [
              "0.6488340192043897"
            ]
          },
          "metadata": {},
          "execution_count": 51
        }
      ],
      "source": [
        "alpha*sum(t*weight)"
      ]
    },
    {
      "cell_type": "code",
      "execution_count": null,
      "metadata": {
        "colab": {
          "base_uri": "https://localhost:8080/",
          "height": 395
        },
        "id": "a5BoaOyvRiDA",
        "outputId": "df0c35da-a29d-405c-b24f-41910715ad8c"
      },
      "outputs": [
        {
          "output_type": "display_data",
          "data": {
            "text/plain": [
              "<Figure size 600x400 with 1 Axes>"
            ],
            "image/png": "[encoded data removed]"
          },
          "metadata": {}
        }
      ],
      "source": [
        "fig = figure15()"
      ]
    },
    {
      "cell_type": "markdown",
      "metadata": {
        "id": "5yIHMccpRiDA"
      },
      "source": [
        "$$\n",
        "\\large\n",
        "\\text{average age}_{\\text{EWMA}} = \\alpha \\sum_{\\text{lag}=0}^{T-1}(1-\\alpha)^{\\text{lag}} (\\text{lag}+1) \\approx \\frac{1}{\\alpha}\n",
        "$$"
      ]
    },
    {
      "cell_type": "code",
      "execution_count": null,
      "metadata": {
        "colab": {
          "base_uri": "https://localhost:8080/"
        },
        "id": "rtQokXBTRiDA",
        "outputId": "95069c31-5acd-493c-a041-3fef0265e0c2"
      },
      "outputs": [
        {
          "output_type": "execute_result",
          "data": {
            "text/plain": [
              "3.0"
            ]
          },
          "metadata": {},
          "execution_count": 53
        }
      ],
      "source": [
        "alpha = 1/3; T = 93\n",
        "t = np.arange(1, T + 1)\n",
        "age = alpha * sum((1 - alpha)**(t - 1) * t)\n",
        "age"
      ]
    },
    {
      "cell_type": "markdown",
      "metadata": {
        "id": "b5OoIGZqRiDA"
      },
      "source": [
        "$$\n",
        "\\large\n",
        "\\text{average age} = \\frac{\\text{periods} + 1}{2} = \\frac{1}{\\alpha} \\implies \\alpha = \\frac{2}{\\text{periods}+1};\\ \\text{periods} = \\frac{2}{\\alpha}-1\n",
        "$$"
      ]
    },
    {
      "cell_type": "code",
      "execution_count": null,
      "metadata": {
        "id": "cl-i-HdaRiDA"
      },
      "outputs": [],
      "source": [
        "def EWMA(past_value, current_value, alpha):\n",
        "    return (1 - alpha) * past_value + alpha * current_value"
      ]
    },
    {
      "cell_type": "code",
      "execution_count": null,
      "metadata": {
        "id": "67CwEoRHRiDA"
      },
      "outputs": [],
      "source": [
        "def calc_ewma(values, period):\n",
        "    alpha = 2 / (period + 1)\n",
        "    result = []\n",
        "    for v in values:\n",
        "        try:\n",
        "            prev_value = result[-1]\n",
        "        except IndexError:\n",
        "            prev_value = 0\n",
        "\n",
        "        new_value = EWMA(prev_value, v, alpha)\n",
        "        result.append(new_value)\n",
        "    return np.array(result)"
      ]
    },
    {
      "cell_type": "markdown",
      "metadata": {
        "id": "8bTtbvo8RiDA"
      },
      "source": [
        "$$\n",
        "\\large \\text{Bias Corrected EWMA}_t(x, \\beta) = \\frac{1}{1 - \\beta^t}\\text{EWMA}_t(x, \\beta)\n",
        "$$"
      ]
    },
    {
      "cell_type": "code",
      "execution_count": null,
      "metadata": {
        "id": "6rhBpSNzRiDA"
      },
      "outputs": [],
      "source": [
        "def correction(averaged_value, beta, steps):\n",
        "    return averaged_value / (1 - (beta ** steps))"
      ]
    },
    {
      "cell_type": "code",
      "execution_count": null,
      "metadata": {
        "id": "PT1QzF4rRiDB"
      },
      "outputs": [],
      "source": [
        "def calc_corrected_ewma(values, period):\n",
        "    ewma = calc_ewma(values, period)\n",
        "\n",
        "    alpha = 2 / (period + 1)\n",
        "    beta = 1 - alpha\n",
        "\n",
        "    result = []\n",
        "    for step, v in enumerate(ewma):\n",
        "        adj_value = correction(v, beta, step + 1)\n",
        "        result.append(adj_value)\n",
        "\n",
        "    return np.array(result)"
      ]
    },
    {
      "cell_type": "code",
      "execution_count": null,
      "metadata": {
        "id": "EBAl3-jUgNy9"
      },
      "outputs": [],
      "source": [
        "def ma_vs_ewma(values, periods=19):\n",
        "    ma19 = pd.Series(values).rolling(min_periods=0, window=periods).mean()\n",
        "    fig, ax = plt.subplots(1, 1, figsize=(6, 4))\n",
        "    ax.plot(values, c='k', label='Temperatures')\n",
        "    ax.plot(ma19, c='k', linestyle='--', label='MA')\n",
        "    ax.plot(calc_ewma(values, periods), c='r', linestyle='--', label='EWMA)')\n",
        "    ax.plot(calc_corrected_ewma(values, periods), c='r', linestyle='-', label='Bias-corrected EWMA')\n",
        "    ax.set_title('MA vs EWMA')\n",
        "    ax.set_ylabel('Temperature')\n",
        "    ax.set_xlabel('Days')\n",
        "    ax.legend(fontsize=12)\n",
        "    fig.tight_layout()\n",
        "    return fig"
      ]
    },
    {
      "cell_type": "code",
      "execution_count": null,
      "metadata": {
        "colab": {
          "base_uri": "https://localhost:8080/",
          "height": 395
        },
        "id": "5YM6D4bqRiDB",
        "outputId": "3f1c0c9f-d2f1-4fa4-ccc0-248a5117727f"
      },
      "outputs": [
        {
          "output_type": "display_data",
          "data": {
            "text/plain": [
              "<Figure size 600x400 with 1 Axes>"
            ],
            "image/png": "[encoded data removed]"
          },
          "metadata": {}
        }
      ],
      "source": [
        "temperatures = np.array([5, 11, 15, 6, 5, 3, 3, 0, 0, 3, 4, 2, 1,\n",
        "    -1, -2, 2, 2, -2, -1, -1, 3, 4, -1, 2, 6, 4, 9, 11, 9, -2])\n",
        "\n",
        "fig = ma_vs_ewma(temperatures, periods=19)"
      ]
    },
    {
      "cell_type": "markdown",
      "metadata": {
        "id": "MGSv2oCfRiDB"
      },
      "source": [
        "#### EWMA Meets Gradients"
      ]
    },
    {
      "cell_type": "markdown",
      "metadata": {
        "id": "XATej8jQRiDB"
      },
      "source": [
        "$$\n",
        "\\large \\text{adapted-gradient}_t = \\frac{\\text{Bias Corrected EWMA}_t(\\beta_1, \\text{gradients})}{\\sqrt{\\text{Bias Corrected EWMA}_t(\\beta_2, \\text{gradients}^2)}+\\epsilon}\n",
        "$$"
      ]
    },
    {
      "cell_type": "markdown",
      "metadata": {
        "id": "sp-LFOAzRiDB"
      },
      "source": [
        "$$\n",
        "\\Large\n",
        "\\begin{aligned}\n",
        "\\ \\text{SGD}: &\\text{param}_t = \\text{param}_{t-1} - \\eta\\ \\text{gradient}_t\n",
        "\\\\\n",
        "\\text{Adam}: &\\text{param}_t = \\text{param}_{t-1} - \\eta\\ \\text{adapted gradient}_t\n",
        "\\end{aligned}\n",
        "$$"
      ]
    }
  ],
  "metadata": {
    "colab": {
      "toc_visible": true,
      "provenance": []
    },
    "kernelspec": {
      "display_name": "Python 3",
      "name": "python3"
    },
    "language_info": {
      "name": "python"
    },
    "widgets": {
      "application/vnd.jupyter.widget-state+json": {
        "ed170b0effce4aedad70e26e76390310": {
          "model_module": "@jupyter-widgets/controls",
          "model_name": "HBoxModel",
          "model_module_version": "1.5.0",
          "state": {
            "_dom_classes": [],
            "_model_module": "@jupyter-widgets/controls",
            "_model_module_version": "1.5.0",
            "_model_name": "HBoxModel",
            "_view_count": null,
            "_view_module": "@jupyter-widgets/controls",
            "_view_module_version": "1.5.0",
            "_view_name": "HBoxView",
            "box_style": "",
            "children": [
              "IPY_MODEL_a3458de70d9d49988f0005738980f4e5",
              "IPY_MODEL_716237232e194ae2b782cb2a832570d9",
              "IPY_MODEL_f36c02dd3f014e5cb138a13aaddff25d"
            ],
            "layout": "IPY_MODEL_cd293b6ee23441d88a2693b43784a80c"
          }
        },
        "a3458de70d9d49988f0005738980f4e5": {
          "model_module": "@jupyter-widgets/controls",
          "model_name": "HTMLModel",
          "model_module_version": "1.5.0",
          "state": {
            "_dom_classes": [],
            "_model_module": "@jupyter-widgets/controls",
            "_model_module_version": "1.5.0",
            "_model_name": "HTMLModel",
            "_view_count": null,
            "_view_module": "@jupyter-widgets/controls",
            "_view_module_version": "1.5.0",
            "_view_name": "HTMLView",
            "description": "",
            "description_tooltip": null,
            "layout": "IPY_MODEL_05507efdcef84dd58122d1768d830e91",
            "placeholder": "​",
            "style": "IPY_MODEL_63a28faf477247fda98cc959b1810789",
            "value": "100%"
          }
        },
        "716237232e194ae2b782cb2a832570d9": {
          "model_module": "@jupyter-widgets/controls",
          "model_name": "FloatProgressModel",
          "model_module_version": "1.5.0",
          "state": {
            "_dom_classes": [],
            "_model_module": "@jupyter-widgets/controls",
            "_model_module_version": "1.5.0",
            "_model_name": "FloatProgressModel",
            "_view_count": null,
            "_view_module": "@jupyter-widgets/controls",
            "_view_module_version": "1.5.0",
            "_view_name": "ProgressView",
            "bar_style": "success",
            "description": "",
            "description_tooltip": null,
            "layout": "IPY_MODEL_cd1e46b7fbba4972ba8b74585b9445e2",
            "max": 100,
            "min": 0,
            "orientation": "horizontal",
            "style": "IPY_MODEL_67969fa11d7d433d93c5dd6a0c833f72",
            "value": 100
          }
        },
        "f36c02dd3f014e5cb138a13aaddff25d": {
          "model_module": "@jupyter-widgets/controls",
          "model_name": "HTMLModel",
          "model_module_version": "1.5.0",
          "state": {
            "_dom_classes": [],
            "_model_module": "@jupyter-widgets/controls",
            "_model_module_version": "1.5.0",
            "_model_name": "HTMLModel",
            "_view_count": null,
            "_view_module": "@jupyter-widgets/controls",
            "_view_module_version": "1.5.0",
            "_view_name": "HTMLView",
            "description": "",
            "description_tooltip": null,
            "layout": "IPY_MODEL_e114ee6a2b694805aa390d3a498e09d3",
            "placeholder": "​",
            "style": "IPY_MODEL_3e450e4550ce48bda9e5d8c741bd0c90",
            "value": " 100/100 [00:10&lt;00:00, 11.31it/s]"
          }
        },
        "cd293b6ee23441d88a2693b43784a80c": {
          "model_module": "@jupyter-widgets/base",
          "model_name": "LayoutModel",
          "model_module_version": "1.2.0",
          "state": {
            "_model_module": "@jupyter-widgets/base",
            "_model_module_version": "1.2.0",
            "_model_name": "LayoutModel",
            "_view_count": null,
            "_view_module": "@jupyter-widgets/base",
            "_view_module_version": "1.2.0",
            "_view_name": "LayoutView",
            "align_content": null,
            "align_items": null,
            "align_self": null,
            "border": null,
            "bottom": null,
            "display": null,
            "flex": null,
            "flex_flow": null,
            "grid_area": null,
            "grid_auto_columns": null,
            "grid_auto_flow": null,
            "grid_auto_rows": null,
            "grid_column": null,
            "grid_gap": null,
            "grid_row": null,
            "grid_template_areas": null,
            "grid_template_columns": null,
            "grid_template_rows": null,
            "height": null,
            "justify_content": null,
            "justify_items": null,
            "left": null,
            "margin": null,
            "max_height": null,
            "max_width": null,
            "min_height": null,
            "min_width": null,
            "object_fit": null,
            "object_position": null,
            "order": null,
            "overflow": null,
            "overflow_x": null,
            "overflow_y": null,
            "padding": null,
            "right": null,
            "top": null,
            "visibility": null,
            "width": null
          }
        },
        "05507efdcef84dd58122d1768d830e91": {
          "model_module": "@jupyter-widgets/base",
          "model_name": "LayoutModel",
          "model_module_version": "1.2.0",
          "state": {
            "_model_module": "@jupyter-widgets/base",
            "_model_module_version": "1.2.0",
            "_model_name": "LayoutModel",
            "_view_count": null,
            "_view_module": "@jupyter-widgets/base",
            "_view_module_version": "1.2.0",
            "_view_name": "LayoutView",
            "align_content": null,
            "align_items": null,
            "align_self": null,
            "border": null,
            "bottom": null,
            "display": null,
            "flex": null,
            "flex_flow": null,
            "grid_area": null,
            "grid_auto_columns": null,
            "grid_auto_flow": null,
            "grid_auto_rows": null,
            "grid_column": null,
            "grid_gap": null,
            "grid_row": null,
            "grid_template_areas": null,
            "grid_template_columns": null,
            "grid_template_rows": null,
            "height": null,
            "justify_content": null,
            "justify_items": null,
            "left": null,
            "margin": null,
            "max_height": null,
            "max_width": null,
            "min_height": null,
            "min_width": null,
            "object_fit": null,
            "object_position": null,
            "order": null,
            "overflow": null,
            "overflow_x": null,
            "overflow_y": null,
            "padding": null,
            "right": null,
            "top": null,
            "visibility": null,
            "width": null
          }
        },
        "63a28faf477247fda98cc959b1810789": {
          "model_module": "@jupyter-widgets/controls",
          "model_name": "DescriptionStyleModel",
          "model_module_version": "1.5.0",
          "state": {
            "_model_module": "@jupyter-widgets/controls",
            "_model_module_version": "1.5.0",
            "_model_name": "DescriptionStyleModel",
            "_view_count": null,
            "_view_module": "@jupyter-widgets/base",
            "_view_module_version": "1.2.0",
            "_view_name": "StyleView",
            "description_width": ""
          }
        },
        "cd1e46b7fbba4972ba8b74585b9445e2": {
          "model_module": "@jupyter-widgets/base",
          "model_name": "LayoutModel",
          "model_module_version": "1.2.0",
          "state": {
            "_model_module": "@jupyter-widgets/base",
            "_model_module_version": "1.2.0",
            "_model_name": "LayoutModel",
            "_view_count": null,
            "_view_module": "@jupyter-widgets/base",
            "_view_module_version": "1.2.0",
            "_view_name": "LayoutView",
            "align_content": null,
            "align_items": null,
            "align_self": null,
            "border": null,
            "bottom": null,
            "display": null,
            "flex": null,
            "flex_flow": null,
            "grid_area": null,
            "grid_auto_columns": null,
            "grid_auto_flow": null,
            "grid_auto_rows": null,
            "grid_column": null,
            "grid_gap": null,
            "grid_row": null,
            "grid_template_areas": null,
            "grid_template_columns": null,
            "grid_template_rows": null,
            "height": null,
            "justify_content": null,
            "justify_items": null,
            "left": null,
            "margin": null,
            "max_height": null,
            "max_width": null,
            "min_height": null,
            "min_width": null,
            "object_fit": null,
            "object_position": null,
            "order": null,
            "overflow": null,
            "overflow_x": null,
            "overflow_y": null,
            "padding": null,
            "right": null,
            "top": null,
            "visibility": null,
            "width": null
          }
        },
        "67969fa11d7d433d93c5dd6a0c833f72": {
          "model_module": "@jupyter-widgets/controls",
          "model_name": "ProgressStyleModel",
          "model_module_version": "1.5.0",
          "state": {
            "_model_module": "@jupyter-widgets/controls",
            "_model_module_version": "1.5.0",
            "_model_name": "ProgressStyleModel",
            "_view_count": null,
            "_view_module": "@jupyter-widgets/base",
            "_view_module_version": "1.2.0",
            "_view_name": "StyleView",
            "bar_color": null,
            "description_width": ""
          }
        },
        "e114ee6a2b694805aa390d3a498e09d3": {
          "model_module": "@jupyter-widgets/base",
          "model_name": "LayoutModel",
          "model_module_version": "1.2.0",
          "state": {
            "_model_module": "@jupyter-widgets/base",
            "_model_module_version": "1.2.0",
            "_model_name": "LayoutModel",
            "_view_count": null,
            "_view_module": "@jupyter-widgets/base",
            "_view_module_version": "1.2.0",
            "_view_name": "LayoutView",
            "align_content": null,
            "align_items": null,
            "align_self": null,
            "border": null,
            "bottom": null,
            "display": null,
            "flex": null,
            "flex_flow": null,
            "grid_area": null,
            "grid_auto_columns": null,
            "grid_auto_flow": null,
            "grid_auto_rows": null,
            "grid_column": null,
            "grid_gap": null,
            "grid_row": null,
            "grid_template_areas": null,
            "grid_template_columns": null,
            "grid_template_rows": null,
            "height": null,
            "justify_content": null,
            "justify_items": null,
            "left": null,
            "margin": null,
            "max_height": null,
            "max_width": null,
            "min_height": null,
            "min_width": null,
            "object_fit": null,
            "object_position": null,
            "order": null,
            "overflow": null,
            "overflow_x": null,
            "overflow_y": null,
            "padding": null,
            "right": null,
            "top": null,
            "visibility": null,
            "width": null
          }
        },
        "3e450e4550ce48bda9e5d8c741bd0c90": {
          "model_module": "@jupyter-widgets/controls",
          "model_name": "DescriptionStyleModel",
          "model_module_version": "1.5.0",
          "state": {
            "_model_module": "@jupyter-widgets/controls",
            "_model_module_version": "1.5.0",
            "_model_name": "DescriptionStyleModel",
            "_view_count": null,
            "_view_module": "@jupyter-widgets/base",
            "_view_module_version": "1.2.0",
            "_view_name": "StyleView",
            "description_width": ""
          }
        }
      }
    }
  },
  "nbformat": 4,
  "nbformat_minor": 0
}