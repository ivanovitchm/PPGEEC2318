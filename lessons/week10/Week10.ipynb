{
  "nbformat": 4,
  "nbformat_minor": 0,
  "metadata": {
    "colab": {
      "provenance": [],
      "toc_visible": true,
      "machine_shape": "hm",
      "gpuType": "L4"
    },
    "kernelspec": {
      "name": "python3",
      "display_name": "Python 3"
    },
    "language_info": {
      "name": "python"
    },
    "accelerator": "GPU"
  },
  "cells": [
    {
      "cell_type": "code",
      "execution_count": 1,
      "metadata": {
        "id": "uwiopVpCe9OW"
      },
      "outputs": [],
      "source": [
        "import random\n",
        "import numpy as np\n",
        "from PIL import Image\n",
        "\n",
        "import torch\n",
        "import torch.optim as optim\n",
        "import torch.nn as nn\n",
        "import torch.nn.functional as F\n",
        "\n",
        "from torch.utils.data import DataLoader, Dataset\n",
        "from torchvision.transforms.v2 import Compose, Normalize, ToPILImage, Resize, ToDtype\n",
        "\n",
        "from torch.utils.data import random_split, WeightedRandomSampler\n",
        "\n",
        "import matplotlib.pyplot as plt\n",
        "plt.style.use('fivethirtyeight')"
      ]
    },
    {
      "cell_type": "markdown",
      "source": [
        "## Architecture class"
      ],
      "metadata": {
        "id": "h38OikK_-d4M"
      }
    },
    {
      "cell_type": "code",
      "source": [
        "class Architecture(object):\n",
        "    def __init__(self, model, loss_fn, optimizer):\n",
        "        # Here we define the attributes of our class\n",
        "\n",
        "        # We start by storing the arguments as attributes\n",
        "        # to use them later\n",
        "        self.model = model\n",
        "        self.loss_fn = loss_fn\n",
        "        self.optimizer = optimizer\n",
        "        self.device = 'cuda' if torch.cuda.is_available() else 'cpu'\n",
        "        # Let's send the model to the specified device right away\n",
        "        self.model.to(self.device)\n",
        "\n",
        "        # These attributes are defined here, but since they are\n",
        "        # not informed at the moment of creation, we keep them None\n",
        "        self.train_loader = None\n",
        "        self.val_loader = None\n",
        "\n",
        "        # These attributes are going to be computed internally\n",
        "        self.losses = []\n",
        "        self.val_losses = []\n",
        "        self.total_epochs = 0\n",
        "\n",
        "        # Creates the train_step function for our model,\n",
        "        # loss function and optimizer\n",
        "        # Note: there are NO ARGS there! It makes use of the class\n",
        "        # attributes directly\n",
        "        self.train_step_fn = self._make_train_step_fn()\n",
        "        # Creates the val_step function for our model and loss\n",
        "        self.val_step_fn = self._make_val_step_fn()\n",
        "\n",
        "        # for hook purposes\n",
        "        self.handles = {}\n",
        "        self.visualization = {}\n",
        "\n",
        "    def to(self, device):\n",
        "        # This method allows the user to specify a different device\n",
        "        # It sets the corresponding attribute (to be used later in\n",
        "        # the mini-batches) and sends the model to the device\n",
        "        try:\n",
        "            self.device = device\n",
        "            self.model.to(self.device)\n",
        "        except RuntimeError:\n",
        "            self.device = 'cuda' if torch.cuda.is_available() else 'cpu'\n",
        "            print(f\"Couldn't send it to {device}, sending it to {self.device} instead.\")\n",
        "            self.model.to(self.device)\n",
        "\n",
        "    def set_loaders(self, train_loader, val_loader=None):\n",
        "        # This method allows the user to define which train_loader (and val_loader, optionally) to use\n",
        "        # Both loaders are then assigned to attributes of the class\n",
        "        # So they can be referred to later\n",
        "        self.train_loader = train_loader\n",
        "        self.val_loader = val_loader\n",
        "\n",
        "    def _make_train_step_fn(self):\n",
        "        # This method does not need ARGS... it can refer to\n",
        "        # the attributes: self.model, self.loss_fn and self.optimizer\n",
        "\n",
        "        # Builds function that performs a step in the train loop\n",
        "        def perform_train_step_fn(x, y):\n",
        "            # Sets model to TRAIN mode\n",
        "            self.model.train()\n",
        "\n",
        "            # Step 1 - Computes our model's predicted output - forward pass\n",
        "            yhat = self.model(x)\n",
        "            # Step 2 - Computes the loss\n",
        "            loss = self.loss_fn(yhat, y)\n",
        "            # Step 3 - Computes gradients for both \"a\" and \"b\" parameters\n",
        "            loss.backward()\n",
        "            # Step 4 - Updates parameters using gradients and the learning rate\n",
        "            self.optimizer.step()\n",
        "            self.optimizer.zero_grad()\n",
        "\n",
        "            # Returns the loss\n",
        "            return loss.item()\n",
        "\n",
        "        # Returns the function that will be called inside the train loop\n",
        "        return perform_train_step_fn\n",
        "\n",
        "    def _make_val_step_fn(self):\n",
        "        # Builds function that performs a step in the validation loop\n",
        "        def perform_val_step_fn(x, y):\n",
        "            # Sets model to EVAL mode\n",
        "            self.model.eval()\n",
        "\n",
        "            # Step 1 - Computes our model's predicted output - forward pass\n",
        "            yhat = self.model(x)\n",
        "            # Step 2 - Computes the loss\n",
        "            loss = self.loss_fn(yhat, y)\n",
        "            # There is no need to compute Steps 3 and 4, since we don't update parameters during evaluation\n",
        "            return loss.item()\n",
        "\n",
        "        return perform_val_step_fn\n",
        "\n",
        "    def _mini_batch(self, validation=False):\n",
        "        # The mini-batch can be used with both loaders\n",
        "        # The argument `validation`defines which loader and\n",
        "        # corresponding step function is going to be used\n",
        "        if validation:\n",
        "            data_loader = self.val_loader\n",
        "            step_fn = self.val_step_fn\n",
        "        else:\n",
        "            data_loader = self.train_loader\n",
        "            step_fn = self.train_step_fn\n",
        "\n",
        "        if data_loader is None:\n",
        "            return None\n",
        "\n",
        "        # Once the data loader and step function, this is the same\n",
        "        # mini-batch loop we had before\n",
        "        mini_batch_losses = []\n",
        "        for x_batch, y_batch in data_loader:\n",
        "            x_batch = x_batch.to(self.device)\n",
        "            y_batch = y_batch.to(self.device)\n",
        "\n",
        "            mini_batch_loss = step_fn(x_batch, y_batch)\n",
        "            mini_batch_losses.append(mini_batch_loss)\n",
        "\n",
        "        loss = np.mean(mini_batch_losses)\n",
        "        return loss\n",
        "\n",
        "    # this function was updated in this class\n",
        "    def set_seed(self, seed=42):\n",
        "        torch.backends.cudnn.deterministic = True\n",
        "        torch.backends.cudnn.benchmark = False\n",
        "        torch.manual_seed(seed)\n",
        "        np.random.seed(seed)\n",
        "        random.seed(seed)\n",
        "        try:\n",
        "            self.train_loader.sampler.generator.manual_seed(seed)\n",
        "        except AttributeError:\n",
        "            pass\n",
        "\n",
        "    def train(self, n_epochs, seed=42):\n",
        "        # To ensure reproducibility of the training process\n",
        "        self.set_seed(seed)\n",
        "\n",
        "        for epoch in range(n_epochs):\n",
        "            # Keeps track of the numbers of epochs\n",
        "            # by updating the corresponding attribute\n",
        "            self.total_epochs += 1\n",
        "\n",
        "            # inner loop\n",
        "            # Performs training using mini-batches\n",
        "            loss = self._mini_batch(validation=False)\n",
        "            self.losses.append(loss)\n",
        "\n",
        "            # VALIDATION\n",
        "            # no gradients in validation!\n",
        "            with torch.no_grad():\n",
        "                # Performs evaluation using mini-batches\n",
        "                val_loss = self._mini_batch(validation=True)\n",
        "                self.val_losses.append(val_loss)\n",
        "\n",
        "    def save_checkpoint(self, filename):\n",
        "        # Builds dictionary with all elements for resuming training\n",
        "        checkpoint = {'epoch': self.total_epochs,\n",
        "                      'model_state_dict': self.model.state_dict(),\n",
        "                      'optimizer_state_dict': self.optimizer.state_dict(),\n",
        "                      'loss': self.losses,\n",
        "                      'val_loss': self.val_losses}\n",
        "\n",
        "        torch.save(checkpoint, filename)\n",
        "\n",
        "    def load_checkpoint(self, filename):\n",
        "        # Loads dictionary\n",
        "        checkpoint = torch.load(filename)\n",
        "\n",
        "        # Restore state for model and optimizer\n",
        "        self.model.load_state_dict(checkpoint['model_state_dict'])\n",
        "        self.optimizer.load_state_dict(checkpoint['optimizer_state_dict'])\n",
        "\n",
        "        self.total_epochs = checkpoint['epoch']\n",
        "        self.losses = checkpoint['loss']\n",
        "        self.val_losses = checkpoint['val_loss']\n",
        "\n",
        "        self.model.train() # always use TRAIN for resuming training\n",
        "\n",
        "    def predict(self, x):\n",
        "        # Set is to evaluation mode for predictions\n",
        "        self.model.eval()\n",
        "        # Takes aNumpy input and make it a float tensor\n",
        "        x_tensor = torch.as_tensor(x).float()\n",
        "        # Send input to device and uses model for prediction\n",
        "        y_hat_tensor = self.model(x_tensor.to(self.device))\n",
        "        # Set it back to train mode\n",
        "        self.model.train()\n",
        "        # Detaches it, brings it to CPU and back to Numpy\n",
        "        return y_hat_tensor.detach().cpu().numpy()\n",
        "\n",
        "    def count_parameters(self):\n",
        "      return sum(p.numel() for p in self.model.parameters() if p.requires_grad)\n",
        "\n",
        "    def plot_losses(self):\n",
        "        fig = plt.figure(figsize=(10, 4))\n",
        "        plt.plot(self.losses, label='Training Loss', c='b')\n",
        "        plt.plot(self.val_losses, label='Validation Loss', c='r')\n",
        "        plt.yscale('log')\n",
        "        plt.xlabel('Epochs')\n",
        "        plt.ylabel('Loss')\n",
        "        plt.legend()\n",
        "        plt.tight_layout()\n",
        "        return fig\n",
        "\n",
        "    @staticmethod\n",
        "    def _visualize_tensors(axs, x, y=None, yhat=None, layer_name='', title=None):\n",
        "        # The number of images is the number of subplots in a row\n",
        "        n_images = len(axs)\n",
        "        # Gets max and min values for scaling the grayscale\n",
        "        minv, maxv = np.min(x[:n_images]), np.max(x[:n_images])\n",
        "        # For each image\n",
        "        for j, image in enumerate(x[:n_images]):\n",
        "            ax = axs[j]\n",
        "            # Sets title, labels, and removes ticks\n",
        "            if title is not None:\n",
        "                ax.set_title(f'{title} #{j}', fontsize=12)\n",
        "            shp = np.atleast_2d(image).shape\n",
        "            ax.set_ylabel(\n",
        "                f'{layer_name}\\n{shp[0]}x{shp[1]}',\n",
        "                rotation=0, labelpad=40\n",
        "            )\n",
        "            xlabel1 = '' if y is None else f'\\nLabel: {y[j]}'\n",
        "            xlabel2 = '' if yhat is None else f'\\nPredicted: {yhat[j]}'\n",
        "            xlabel = f'{xlabel1}{xlabel2}'\n",
        "            if len(xlabel):\n",
        "                ax.set_xlabel(xlabel, fontsize=12)\n",
        "            ax.set_xticks([])\n",
        "            ax.set_yticks([])\n",
        "\n",
        "            # Plots weight as an image\n",
        "            ax.imshow(\n",
        "                np.atleast_2d(image.squeeze()),\n",
        "                cmap='gray',\n",
        "                vmin=minv,\n",
        "                vmax=maxv\n",
        "            )\n",
        "        return\n",
        "\n",
        "    def visualize_filters(self, layer_name, **kwargs):\n",
        "        try:\n",
        "            # Gets the layer object from the model\n",
        "            layer = self.model\n",
        "            for name in layer_name.split('.'):\n",
        "                layer = getattr(layer, name)\n",
        "            # We are only looking at filters for 2D convolutions\n",
        "            if isinstance(layer, nn.Conv2d):\n",
        "                # Takes the weight information\n",
        "                weights = layer.weight.data.cpu().numpy()\n",
        "                # weights -> (channels_out (filter), channels_in, H, W)\n",
        "                n_filters, n_channels, _, _ = weights.shape\n",
        "\n",
        "                # Builds a figure\n",
        "                size = (2 * n_channels + 2, 2 * n_filters)\n",
        "                fig, axes = plt.subplots(n_filters, n_channels,\n",
        "                                        figsize=size)\n",
        "                axes = np.atleast_2d(axes)\n",
        "                axes = axes.reshape(n_filters, n_channels)\n",
        "                # For each channel_out (filter)\n",
        "                for i in range(n_filters):\n",
        "                    Architecture._visualize_tensors(\n",
        "                        axes[i, :],\n",
        "                        weights[i],\n",
        "                        layer_name=f'Filter #{i}',\n",
        "                        title='Channel'\n",
        "                    )\n",
        "\n",
        "                for ax in axes.flat:\n",
        "                    ax.label_outer()\n",
        "\n",
        "                fig.tight_layout()\n",
        "                return fig\n",
        "        except AttributeError:\n",
        "            return\n",
        "\n",
        "    def attach_hooks(self, layers_to_hook, hook_fn=None):\n",
        "        # Clear any previous values\n",
        "        self.visualization = {}\n",
        "        # Creates the dictionary to map layer objects to their names\n",
        "        modules = list(self.model.named_modules())\n",
        "        layer_names = {layer: name for name, layer in modules[1:]}\n",
        "\n",
        "        if hook_fn is None:\n",
        "            # Hook function to be attached to the forward pass\n",
        "            def hook_fn(layer, inputs, outputs):\n",
        "                # Gets the layer name\n",
        "                name = layer_names[layer]\n",
        "                # Detaches outputs\n",
        "                values = outputs.detach().cpu().numpy()\n",
        "                # Since the hook function may be called multiple times\n",
        "                # for example, if we make predictions for multiple mini-batches\n",
        "                # it concatenates the results\n",
        "                if self.visualization[name] is None:\n",
        "                    self.visualization[name] = values\n",
        "                else:\n",
        "                    self.visualization[name] = np.concatenate([self.visualization[name], values])\n",
        "\n",
        "        for name, layer in modules:\n",
        "            # If the layer is in our list\n",
        "            if name in layers_to_hook:\n",
        "                # Initializes the corresponding key in the dictionary\n",
        "                self.visualization[name] = None\n",
        "                # Register the forward hook and keep the handle in another dict\n",
        "                self.handles[name] = layer.register_forward_hook(hook_fn)\n",
        "\n",
        "    def remove_hooks(self):\n",
        "        # Loops through all hooks and removes them\n",
        "        for handle in self.handles.values():\n",
        "            handle.remove()\n",
        "        # Clear the dict, as all hooks have been removed\n",
        "        self.handles = {}\n",
        "\n",
        "    def visualize_outputs(self, layers, n_images=10, y=None, yhat=None):\n",
        "        layers = filter(lambda l: l in self.visualization.keys(), layers)\n",
        "        layers = list(layers)\n",
        "        shapes = [self.visualization[layer].shape for layer in layers]\n",
        "        n_rows = [shape[1] if len(shape) == 4 else 1\n",
        "                  for shape in shapes]\n",
        "        total_rows = np.sum(n_rows)\n",
        "\n",
        "        fig, axes = plt.subplots(total_rows, n_images,\n",
        "                                figsize=(1.5*n_images, 1.5*total_rows))\n",
        "        axes = np.atleast_2d(axes).reshape(total_rows, n_images)\n",
        "\n",
        "        # Loops through the layers, one layer per row of subplots\n",
        "        row = 0\n",
        "        for i, layer in enumerate(layers):\n",
        "            start_row = row\n",
        "            # Takes the produced feature maps for that layer\n",
        "            output = self.visualization[layer]\n",
        "\n",
        "            is_vector = len(output.shape) == 2\n",
        "\n",
        "            for j in range(n_rows[i]):\n",
        "                Architecture._visualize_tensors(\n",
        "                    axes[row, :],\n",
        "                    output if is_vector else output[:, j].squeeze(),\n",
        "                    y,\n",
        "                    yhat,\n",
        "                    layer_name=layers[i] \\\n",
        "                              if is_vector \\\n",
        "                              else f'{layers[i]}\\nfil#{row-start_row}',\n",
        "                    title='Image' if (row == 0) else None\n",
        "                )\n",
        "                row += 1\n",
        "\n",
        "        for ax in axes.flat:\n",
        "            ax.label_outer()\n",
        "\n",
        "        plt.tight_layout()\n",
        "        return fig\n",
        "\n",
        "    def correct(self, x, y, threshold=.5):\n",
        "        self.model.eval()\n",
        "        yhat = self.model(x.to(self.device))\n",
        "        y = y.to(self.device)\n",
        "        self.model.train()\n",
        "\n",
        "        # We get the size of the batch and the number of classes\n",
        "        # (only 1, if it is binary)\n",
        "        n_samples, n_dims = yhat.shape\n",
        "        if n_dims > 1:\n",
        "            # In a multiclass classification, the biggest logit\n",
        "            # always wins, so we don't bother getting probabilities\n",
        "\n",
        "            # This is PyTorch's version of argmax,\n",
        "            # but it returns a tuple: (max value, index of max value)\n",
        "            _, predicted = torch.max(yhat, 1)\n",
        "        else:\n",
        "            n_dims += 1\n",
        "            # In binary classification, we NEED to check if the\n",
        "            # last layer is a sigmoid (and then it produces probs)\n",
        "            if isinstance(self.model, nn.Sequential) and \\\n",
        "              isinstance(self.model[-1], nn.Sigmoid):\n",
        "                predicted = (yhat > threshold).long()\n",
        "            # or something else (logits), which we need to convert\n",
        "            # using a sigmoid\n",
        "            else:\n",
        "                predicted = (F.sigmoid(yhat) > threshold).long()\n",
        "\n",
        "        # How many samples got classified correctly for each class\n",
        "        result = []\n",
        "        for c in range(n_dims):\n",
        "            n_class = (y == c).sum().item()\n",
        "            n_correct = (predicted[y == c] == c).sum().item()\n",
        "            result.append((n_correct, n_class))\n",
        "        return torch.tensor(result)\n",
        "\n",
        "\n",
        "    @staticmethod\n",
        "    def loader_apply(loader, func, reduce='sum'):\n",
        "        results = [func(x, y) for i, (x, y) in enumerate(loader)]\n",
        "        results = torch.stack(results, axis=0)\n",
        "\n",
        "        if reduce == 'sum':\n",
        "            results = results.sum(axis=0)\n",
        "        elif reduce == 'mean':\n",
        "            results = results.float().mean(axis=0)\n",
        "\n",
        "        return results"
      ],
      "metadata": {
        "id": "tYxCEnws8T7L"
      },
      "execution_count": 26,
      "outputs": []
    },
    {
      "cell_type": "markdown",
      "source": [
        "# Convolving in Pytorch"
      ],
      "metadata": {
        "id": "3ghQUkXsJgcn"
      }
    },
    {
      "cell_type": "code",
      "source": [
        "import numpy as np\n",
        "\n",
        "random_array = np.random.rand(1, 3, 6, 6)\n",
        "image = torch.as_tensor(random_array).float()\n",
        "\n",
        "conv_multiple = nn.Conv2d(in_channels=3, out_channels=2,\n",
        "                          kernel_size=3, stride=1, padding=0)\n",
        "fm = conv_multiple(image)"
      ],
      "metadata": {
        "id": "wKBnl8GeLIPH"
      },
      "execution_count": 3,
      "outputs": []
    },
    {
      "cell_type": "code",
      "source": [
        "fm.shape"
      ],
      "metadata": {
        "colab": {
          "base_uri": "https://localhost:8080/"
        },
        "id": "-P9I4Xb4MWVR",
        "outputId": "be7fe006-c169-4b8d-fb5d-bc57f433319c"
      },
      "execution_count": 4,
      "outputs": [
        {
          "output_type": "execute_result",
          "data": {
            "text/plain": [
              "torch.Size([1, 2, 4, 4])"
            ]
          },
          "metadata": {},
          "execution_count": 4
        }
      ]
    },
    {
      "cell_type": "code",
      "source": [
        "conv_multiple.weight.shape"
      ],
      "metadata": {
        "colab": {
          "base_uri": "https://localhost:8080/"
        },
        "id": "i415NR02MXZ8",
        "outputId": "7397438c-15e9-4876-913d-d85114ff37e6"
      },
      "execution_count": 5,
      "outputs": [
        {
          "output_type": "execute_result",
          "data": {
            "text/plain": [
              "torch.Size([2, 3, 3, 3])"
            ]
          },
          "metadata": {},
          "execution_count": 5
        }
      ]
    },
    {
      "cell_type": "code",
      "source": [
        "conv_multiple.bias.shape"
      ],
      "metadata": {
        "colab": {
          "base_uri": "https://localhost:8080/"
        },
        "id": "GMrWn7CTMf2i",
        "outputId": "0fb07a89-14bd-48bb-e212-dc84202abbde"
      },
      "execution_count": 6,
      "outputs": [
        {
          "output_type": "execute_result",
          "data": {
            "text/plain": [
              "torch.Size([2])"
            ]
          },
          "metadata": {},
          "execution_count": 6
        }
      ]
    },
    {
      "cell_type": "markdown",
      "source": [
        "## Activation Function"
      ],
      "metadata": {
        "id": "DgITtx7Odi0y"
      }
    },
    {
      "cell_type": "code",
      "source": [
        "fm = np.array([[[[-10,3,5,0],\n",
        "                    [4,-3,3,-3],\n",
        "                    [1,0,20,4],\n",
        "                    [5,6,-10,9]]]])\n",
        "\n",
        "tensor = torch.tensor(fm).float()\n",
        "\n",
        "# Apply ReLU function\n",
        "relu = nn.ReLU()\n",
        "relu(tensor)"
      ],
      "metadata": {
        "colab": {
          "base_uri": "https://localhost:8080/"
        },
        "id": "EB0BYM809Of_",
        "outputId": "bd9dba79-857d-4538-d958-9a3dcdaed79a"
      },
      "execution_count": 7,
      "outputs": [
        {
          "output_type": "execute_result",
          "data": {
            "text/plain": [
              "tensor([[[[ 0.,  3.,  5.,  0.],\n",
              "          [ 4.,  0.,  3.,  0.],\n",
              "          [ 1.,  0., 20.,  4.],\n",
              "          [ 5.,  6.,  0.,  9.]]]])"
            ]
          },
          "metadata": {},
          "execution_count": 7
        }
      ]
    },
    {
      "cell_type": "markdown",
      "source": [
        "## Pooling layer"
      ],
      "metadata": {
        "id": "Ao6luOLBhRzx"
      }
    },
    {
      "cell_type": "code",
      "source": [
        "pool_data = np.array([[[[181,237,170,223],\n",
        "                      [229,181,89,108],\n",
        "                      [109,93,48,66],\n",
        "                      [158,21,71,14]]]])\n",
        "\n",
        "tensor = torch.tensor(pool_data).float()\n",
        "tensor.shape"
      ],
      "metadata": {
        "colab": {
          "base_uri": "https://localhost:8080/"
        },
        "id": "My6EhqXohTEt",
        "outputId": "80430ba0-a6cf-49cd-a254-bb4cdb09bc3b"
      },
      "execution_count": 8,
      "outputs": [
        {
          "output_type": "execute_result",
          "data": {
            "text/plain": [
              "torch.Size([1, 1, 4, 4])"
            ]
          },
          "metadata": {},
          "execution_count": 8
        }
      ]
    },
    {
      "cell_type": "code",
      "source": [
        "maxpool = nn.MaxPool2d(kernel_size=2,stride=1)\n",
        "pooled = maxpool(tensor)"
      ],
      "metadata": {
        "id": "DGGx0-S4-EHq"
      },
      "execution_count": 9,
      "outputs": []
    },
    {
      "cell_type": "code",
      "source": [
        "pooled.shape"
      ],
      "metadata": {
        "colab": {
          "base_uri": "https://localhost:8080/"
        },
        "id": "QfJE5Ncd_Fga",
        "outputId": "7f294b9d-a985-44ed-d95a-9a523af17db7"
      },
      "execution_count": 10,
      "outputs": [
        {
          "output_type": "execute_result",
          "data": {
            "text/plain": [
              "torch.Size([1, 1, 3, 3])"
            ]
          },
          "metadata": {},
          "execution_count": 10
        }
      ]
    },
    {
      "cell_type": "code",
      "source": [
        "pooled"
      ],
      "metadata": {
        "colab": {
          "base_uri": "https://localhost:8080/"
        },
        "id": "u2OoH7cMAA14",
        "outputId": "27e86092-c476-41cf-f8ac-fbbde3e99a95"
      },
      "execution_count": 11,
      "outputs": [
        {
          "output_type": "execute_result",
          "data": {
            "text/plain": [
              "tensor([[[[237., 237., 223.],\n",
              "          [229., 181., 108.],\n",
              "          [158.,  93.,  71.]]]])"
            ]
          },
          "metadata": {},
          "execution_count": 11
        }
      ]
    },
    {
      "cell_type": "markdown",
      "source": [
        "## Flattening"
      ],
      "metadata": {
        "id": "gD-tvp6yU-2Z"
      }
    },
    {
      "cell_type": "code",
      "source": [
        "flattened = nn.Flatten()\n",
        "flattened(pooled)"
      ],
      "metadata": {
        "colab": {
          "base_uri": "https://localhost:8080/"
        },
        "id": "B7ckk8UVVC9Z",
        "outputId": "eb5e5e69-2d93-4e4e-d6ec-93443adb4815"
      },
      "execution_count": 12,
      "outputs": [
        {
          "output_type": "execute_result",
          "data": {
            "text/plain": [
              "tensor([[237., 237., 223., 229., 181., 108., 158.,  93.,  71.]])"
            ]
          },
          "metadata": {},
          "execution_count": 12
        }
      ]
    },
    {
      "cell_type": "markdown",
      "metadata": {
        "id": "EGZHy2zalWA5"
      },
      "source": [
        "## LeNet5"
      ]
    },
    {
      "cell_type": "markdown",
      "metadata": {
        "id": "tp53_PjclWA5"
      },
      "source": [
        "*Source: Generated using Alexander Lenail's [NN-SVG](http://alexlenail.me/NN-SVG/) and adapted by the author. For more details, see LeCun, Y., et al (1998).  [Gradient-based learning applied to document recognition](http://yann.lecun.com/exdb/publis/pdf/lecun-01a.pdf). Proceedings of the IEEE,86(11), 2278–2324*"
      ]
    },
    {
      "cell_type": "code",
      "execution_count": 13,
      "metadata": {
        "id": "6GHtB_vYlWA5"
      },
      "outputs": [],
      "source": [
        "lenet = nn.Sequential()\n",
        "\n",
        "# Featurizer\n",
        "# Block 1: 1@28x28 -> 6@28x28 -> 6@14x14\n",
        "lenet.add_module('C1', nn.Conv2d(in_channels=1, out_channels=6, kernel_size=5, padding=2))\n",
        "lenet.add_module('func1', nn.ReLU())\n",
        "lenet.add_module('S2', nn.MaxPool2d(kernel_size=2))\n",
        "# Block 2: 6@14x14 -> 16@10x10 -> 16@5x5\n",
        "lenet.add_module('C3', nn.Conv2d(in_channels=6, out_channels=16, kernel_size=5))\n",
        "lenet.add_module('func2', nn.ReLU())\n",
        "lenet.add_module('S4', nn.MaxPool2d(kernel_size=2))\n",
        "# Block 3: 16@5x5 -> 120@1x1\n",
        "lenet.add_module('C5', nn.Conv2d(in_channels=16, out_channels=120, kernel_size=5))\n",
        "lenet.add_module('func2', nn.ReLU())\n",
        "# Flattening\n",
        "lenet.add_module('flatten', nn.Flatten())\n",
        "\n",
        "# Classification\n",
        "# Hidden Layer\n",
        "lenet.add_module('F6', nn.Linear(in_features=120, out_features=84))\n",
        "lenet.add_module('func3', nn.ReLU())\n",
        "# Output Layer\n",
        "lenet.add_module('OUTPUT', nn.Linear(in_features=84, out_features=10))"
      ]
    },
    {
      "cell_type": "code",
      "source": [
        "# Function to count parameters\n",
        "def count_parameters(model):\n",
        "    return sum(p.numel() for p in model.parameters() if p.requires_grad)"
      ],
      "metadata": {
        "collapsed": true,
        "id": "OOEWHWTvvmim"
      },
      "execution_count": 14,
      "outputs": []
    },
    {
      "cell_type": "code",
      "source": [
        "count_parameters(lenet)"
      ],
      "metadata": {
        "colab": {
          "base_uri": "https://localhost:8080/"
        },
        "id": "fU-8v7RMsZQG",
        "outputId": "fd3689d6-f8e9-4422-bd82-cb9ac73c1fc9"
      },
      "execution_count": 15,
      "outputs": [
        {
          "output_type": "execute_result",
          "data": {
            "text/plain": [
              "61706"
            ]
          },
          "metadata": {},
          "execution_count": 15
        }
      ]
    },
    {
      "cell_type": "code",
      "source": [
        "for p in lenet.parameters():\n",
        "  if p.requires_grad:\n",
        "    print(p.numel())"
      ],
      "metadata": {
        "colab": {
          "base_uri": "https://localhost:8080/"
        },
        "id": "7tEPk6gNwcey",
        "outputId": "c22e9d28-cd64-4d54-b78b-473f6305c1d5"
      },
      "execution_count": 16,
      "outputs": [
        {
          "output_type": "stream",
          "name": "stdout",
          "text": [
            "150\n",
            "6\n",
            "2400\n",
            "16\n",
            "48000\n",
            "120\n",
            "10080\n",
            "84\n",
            "840\n",
            "10\n"
          ]
        }
      ]
    },
    {
      "cell_type": "markdown",
      "source": [
        "# A Multiclass Classification Problem"
      ],
      "metadata": {
        "id": "S-_oweFnkBVV"
      }
    },
    {
      "cell_type": "markdown",
      "source": [
        "## Data generation"
      ],
      "metadata": {
        "id": "Yk5zxUX_kDPI"
      }
    },
    {
      "cell_type": "code",
      "source": [
        "def gen_img(start, target, fill=1, img_size=10):\n",
        "    # Generates empty image\n",
        "    img = np.zeros((img_size, img_size), dtype=float)\n",
        "\n",
        "    start_row, start_col = None, None\n",
        "\n",
        "    if start > 0:\n",
        "        start_row = start\n",
        "    else:\n",
        "        start_col = np.abs(start)\n",
        "\n",
        "    if target == 0:\n",
        "        if start_row is None:\n",
        "            img[:, start_col] = fill\n",
        "        else:\n",
        "            img[start_row, :] = fill\n",
        "    else:\n",
        "        if start_col == 0:\n",
        "            start_col = 1\n",
        "\n",
        "        if target == 1:\n",
        "            if start_row is not None:\n",
        "                up = (range(start_row, -1, -1),\n",
        "                      range(0, start_row + 1))\n",
        "            else:\n",
        "                up = (range(img_size - 1, start_col - 1, -1),\n",
        "                      range(start_col, img_size))\n",
        "            img[up] = fill\n",
        "        else:\n",
        "            if start_row is not None:\n",
        "                down = (range(start_row, img_size, 1),\n",
        "                        range(0, img_size - start_row))\n",
        "            else:\n",
        "                down = (range(0, img_size - 1 - start_col + 1),\n",
        "                        range(start_col, img_size))\n",
        "            img[down] = fill\n",
        "\n",
        "    return 255 * img.reshape(1, img_size, img_size)"
      ],
      "metadata": {
        "id": "8j8vBfFSkNwH"
      },
      "execution_count": 17,
      "outputs": []
    },
    {
      "cell_type": "code",
      "source": [
        "def generate_dataset(img_size=10, n_images=100, binary=True, seed=17):\n",
        "    np.random.seed(seed)\n",
        "\n",
        "    starts = np.random.randint(-(img_size - 1), img_size, size=(n_images,))\n",
        "    targets = np.random.randint(0, 3, size=(n_images,))\n",
        "\n",
        "    images = np.array([gen_img(s, t, img_size=img_size)\n",
        "                       for s, t in zip(starts, targets)], dtype=np.uint8)\n",
        "\n",
        "    if binary:\n",
        "        targets = (targets > 0).astype(int)\n",
        "\n",
        "    return images, targets"
      ],
      "metadata": {
        "id": "q4lnenIt65vU"
      },
      "execution_count": 18,
      "outputs": []
    },
    {
      "cell_type": "code",
      "source": [
        "def plot_images(images, targets, n_plot=30):\n",
        "    n_rows = n_plot // 10 + ((n_plot % 10) > 0)\n",
        "    fig, axes = plt.subplots(n_rows, 10, figsize=(15, 1.5 * n_rows))\n",
        "    axes = np.atleast_2d(axes)\n",
        "\n",
        "    for i, (image, target) in enumerate(zip(images[:n_plot], targets[:n_plot])):\n",
        "        row, col = i // 10, i % 10\n",
        "        ax = axes[row, col]\n",
        "        ax.set_title('#{} - Label:{}'.format(i, target), {'size': 12})\n",
        "        # plot filter channel in grayscale\n",
        "        ax.imshow(image.squeeze(), cmap='gray', vmin=0, vmax=1)\n",
        "\n",
        "    for ax in axes.flat:\n",
        "        ax.set_xticks([])\n",
        "        ax.set_yticks([])\n",
        "        ax.label_outer()\n",
        "\n",
        "    plt.tight_layout()\n",
        "    return fig"
      ],
      "metadata": {
        "id": "w3wnjDnEmYrm"
      },
      "execution_count": 19,
      "outputs": []
    },
    {
      "cell_type": "code",
      "source": [
        "images, labels = generate_dataset(img_size=10, n_images=1000, binary=False, seed=17)"
      ],
      "metadata": {
        "id": "E2bzSK2PkOpc"
      },
      "execution_count": 20,
      "outputs": []
    },
    {
      "cell_type": "code",
      "source": [
        "images.shape"
      ],
      "metadata": {
        "colab": {
          "base_uri": "https://localhost:8080/"
        },
        "id": "lqv_58IEwuMw",
        "outputId": "3c90b373-1527-42e7-c5fb-d8ba528cf0a8"
      },
      "execution_count": 21,
      "outputs": [
        {
          "output_type": "execute_result",
          "data": {
            "text/plain": [
              "(1000, 1, 10, 10)"
            ]
          },
          "metadata": {},
          "execution_count": 21
        }
      ]
    },
    {
      "cell_type": "code",
      "source": [
        "labels.shape"
      ],
      "metadata": {
        "colab": {
          "base_uri": "https://localhost:8080/"
        },
        "id": "FkBzEaKCwxKn",
        "outputId": "c4251015-4096-4ab9-e020-95793cb9ed2c"
      },
      "execution_count": 22,
      "outputs": [
        {
          "output_type": "execute_result",
          "data": {
            "text/plain": [
              "(1000,)"
            ]
          },
          "metadata": {},
          "execution_count": 22
        }
      ]
    },
    {
      "cell_type": "code",
      "source": [
        "fig = plot_images(images, labels, n_plot=30)"
      ],
      "metadata": {
        "colab": {
          "base_uri": "https://localhost:8080/",
          "height": 276
        },
        "id": "RIJwU5fAkUhJ",
        "outputId": "1ad6f4ee-2216-4594-de70-d96336b2a663"
      },
      "execution_count": 23,
      "outputs": [
        {
          "output_type": "display_data",
          "data": {
            "text/plain": [
              "<Figure size 1500x450 with 30 Axes>"
            ],
            "image/png": "[encoded data removed]"
          },
          "metadata": {}
        }
      ]
    },
    {
      "cell_type": "markdown",
      "source": [
        "## Data Preparation"
      ],
      "metadata": {
        "id": "3os-HS7C0trI"
      }
    },
    {
      "cell_type": "code",
      "execution_count": 27,
      "metadata": {
        "id": "wiFaNs_YlWA6"
      },
      "outputs": [],
      "source": [
        "class TransformedTensorDataset(Dataset):\n",
        "    def __init__(self, x, y, transform=None):\n",
        "        self.x = x\n",
        "        self.y = y\n",
        "        self.transform = transform\n",
        "\n",
        "    def __getitem__(self, index):\n",
        "        x = self.x[index]\n",
        "\n",
        "        if self.transform:\n",
        "            x = self.transform(x)\n",
        "\n",
        "        return x, self.y[index]\n",
        "\n",
        "    def __len__(self):\n",
        "        return len(self.x)"
      ]
    },
    {
      "cell_type": "code",
      "source": [
        "def index_splitter(n, splits, seed=13):\n",
        "    idx = torch.arange(n)\n",
        "    # Makes the split argument a tensor\n",
        "    splits_tensor = torch.as_tensor(splits)\n",
        "    total = splits_tensor.sum().float()\n",
        "    # If the total does not add up to one\n",
        "    # divide every number by the total\n",
        "    if not total.isclose(torch.ones(1)[0]):\n",
        "        splits_tensor = splits_tensor / total\n",
        "    # Uses PyTorch random_split to split the indices\n",
        "    torch.manual_seed(seed)\n",
        "    return random_split(idx, splits_tensor)\n",
        "\n",
        "def make_balanced_sampler(y):\n",
        "    # Computes weights for compensating imbalanced classes\n",
        "    classes, counts = y.unique(return_counts=True)\n",
        "    weights = 1.0 / counts.float()\n",
        "    sample_weights = weights[y.squeeze().long()]\n",
        "    # Builds sampler with compute weights\n",
        "    generator = torch.Generator()\n",
        "    sampler = WeightedRandomSampler(\n",
        "        weights=sample_weights,\n",
        "        num_samples=len(sample_weights),\n",
        "        generator=generator,\n",
        "        replacement=True\n",
        "    )\n",
        "    return sampler"
      ],
      "metadata": {
        "id": "AwPWek8195hG"
      },
      "execution_count": 24,
      "outputs": []
    },
    {
      "cell_type": "code",
      "execution_count": 28,
      "metadata": {
        "id": "giu8AP3ZlWA6"
      },
      "outputs": [],
      "source": [
        "# Builds tensors from numpy arrays BEFORE split\n",
        "# Modifies the scale of pixel values from [0, 255] to [0, 1]\n",
        "x_tensor = torch.as_tensor(images / 255).float()\n",
        "y_tensor = torch.as_tensor(labels).long()\n",
        "\n",
        "# Uses index_splitter to generate indices for training and\n",
        "# validation sets\n",
        "train_idx, val_idx = index_splitter(len(x_tensor), [80, 20])\n",
        "# Uses indices to perform the split\n",
        "x_train_tensor = x_tensor[train_idx]\n",
        "y_train_tensor = y_tensor[train_idx]\n",
        "x_val_tensor = x_tensor[val_idx]\n",
        "y_val_tensor = y_tensor[val_idx]\n",
        "\n",
        "# We're not doing any data augmentation now\n",
        "train_composer = Compose([Normalize(mean=(.5,), std=(.5,))])\n",
        "val_composer = Compose([Normalize(mean=(.5,), std=(.5,))])\n",
        "\n",
        "# Uses custom dataset to apply composed transforms to each set\n",
        "train_dataset = TransformedTensorDataset(x_train_tensor, y_train_tensor, transform=train_composer)\n",
        "val_dataset = TransformedTensorDataset(x_val_tensor, y_val_tensor, transform=val_composer)\n",
        "\n",
        "# Builds a weighted random sampler to handle imbalanced classes\n",
        "sampler = make_balanced_sampler(y_train_tensor)\n",
        "\n",
        "# Uses sampler in the training set to get a balanced data loader\n",
        "train_loader = DataLoader(dataset=train_dataset, batch_size=16, sampler=sampler)\n",
        "val_loader = DataLoader(dataset=val_dataset, batch_size=16)"
      ]
    },
    {
      "cell_type": "markdown",
      "source": [
        "## Loss"
      ],
      "metadata": {
        "id": "U0Xdafp9HQVn"
      }
    },
    {
      "cell_type": "markdown",
      "source": [
        "### Softmax"
      ],
      "metadata": {
        "id": "TGuwUSnbHTAA"
      }
    },
    {
      "cell_type": "markdown",
      "source": [
        "The Softmax function transforms logits (the outputs of the network before the activation function) into probabilities. For an input with \\( C \\) classes, the Softmax function is defined as:\n",
        "\n",
        "$\n",
        "\\text{Softmax}(z_i) = \\frac{e^{z_i}}{\\sum_{j=1}^{C} e^{z_j}}\n",
        "$\n",
        "\n",
        "where \\( z_i \\) is the logit for class \\( i \\) and \\( C \\) is the number of classes.\n"
      ],
      "metadata": {
        "id": "zu1bVTMCCYfP"
      }
    },
    {
      "cell_type": "markdown",
      "metadata": {
        "id": "wMZiAucslWA6"
      },
      "source": [
        "$$\n",
        "\\Large\n",
        "\\begin{array}\n",
        "& z & = \\text{logit}(p) & = \\text{log odds ratio }(p) & = \\text{log}\\left(\\frac{p}{1-p}\\right)\n",
        "\\\\\n",
        "e^z & = e^{\\text{logit}(p)} & = \\text{odds ratio }(p) & = \\left(\\frac{p}{1-p}\\right)\n",
        "\\end{array}\n",
        "$$"
      ]
    },
    {
      "cell_type": "markdown",
      "metadata": {
        "id": "r0_svAx4lWA6"
      },
      "source": [
        "$$\n",
        "\\Large\n",
        "\\text{softmax}(z_i) = \\frac{e^{z_i}}{\\sum_{c=0}^{C-1}{e^{z_c}}}\n",
        "$$"
      ]
    },
    {
      "cell_type": "markdown",
      "metadata": {
        "id": "PTQVCaQHlWA6"
      },
      "source": [
        "$$\n",
        "\\Large\n",
        "\\text{softmax}(z) = \\left[\\frac{e^{z_0}}{e^{z_0}+e^{z_1}+e^{z_2}},\\frac{e^{z_1}}{e^{z_0}+e^{z_1}+e^{z_2}},\\frac{e^{z_2}}{e^{z_0}+e^{z_1}+e^{z_2}}\\right]\n",
        "$$"
      ]
    },
    {
      "cell_type": "code",
      "execution_count": 29,
      "metadata": {
        "id": "qJEyACmVlWA6"
      },
      "outputs": [],
      "source": [
        "logits = torch.tensor([ 1.3863,  0.0000, -0.6931])"
      ]
    },
    {
      "cell_type": "code",
      "execution_count": 30,
      "metadata": {
        "id": "zxJ-9QPElWA7",
        "outputId": "f66e13da-1d55-400c-c482-0ba943b89610",
        "colab": {
          "base_uri": "https://localhost:8080/"
        }
      },
      "outputs": [
        {
          "output_type": "execute_result",
          "data": {
            "text/plain": [
              "tensor([4.0000, 1.0000, 0.5000])"
            ]
          },
          "metadata": {},
          "execution_count": 30
        }
      ],
      "source": [
        "odds_ratios = torch.exp(logits)\n",
        "odds_ratios"
      ]
    },
    {
      "cell_type": "code",
      "execution_count": 31,
      "metadata": {
        "id": "aZ4J7ltJlWA7",
        "outputId": "9cea1cbf-8be9-4c7a-d6d5-f64d92f883a4",
        "colab": {
          "base_uri": "https://localhost:8080/"
        }
      },
      "outputs": [
        {
          "output_type": "execute_result",
          "data": {
            "text/plain": [
              "tensor([0.7273, 0.1818, 0.0909])"
            ]
          },
          "metadata": {},
          "execution_count": 31
        }
      ],
      "source": [
        "softmaxed = odds_ratios / odds_ratios.sum()\n",
        "softmaxed"
      ]
    },
    {
      "cell_type": "code",
      "execution_count": 32,
      "metadata": {
        "id": "CNwauDJ-lWA7",
        "outputId": "4ba536c1-6d0a-48cc-ebc4-c1b3f663435f",
        "colab": {
          "base_uri": "https://localhost:8080/"
        }
      },
      "outputs": [
        {
          "output_type": "execute_result",
          "data": {
            "text/plain": [
              "tensor([0.7273, 0.1818, 0.0909])"
            ]
          },
          "metadata": {},
          "execution_count": 32
        }
      ],
      "source": [
        "nn.Softmax(dim=-1)(logits)"
      ]
    },
    {
      "cell_type": "markdown",
      "source": [
        "### CrossEntropy Loss"
      ],
      "metadata": {
        "id": "6MtjjuROBXd0"
      }
    },
    {
      "cell_type": "markdown",
      "source": [
        "Cross-entropy measures the discrepancy between the true class distribution (p) and the predicted distribution (q). The formula for cross-entropy is:\n",
        "\n",
        "$\\displaystyle\n",
        "H(p, q) = -\\sum_{i=0}^{C-1} p_i \\log(q_i)\n",
        "$\n",
        "\n",
        "For classification problems, $(p_i)$ is 1 for the correct class and 0 for the other classes (one-hot encoding).\n",
        "\n",
        "\n",
        "**Combining Softmax and Cross-Entropy**\n",
        "\n",
        "For simplicity, consider the correct class as $(y)$. The predicted probability for the correct class $(q_y)$ using Softmax is:\n",
        "\n",
        "$\\displaystyle\n",
        "q_y = \\frac{e^{z_y}}{\\sum_{j=0}^{C-1} e^{z_j}}\n",
        "$\n",
        "\n",
        "Inserting this into the cross-entropy formula, where $(p_y = 1)$ and $(p_i = 0)$ for $(i \\neq y)$:\n",
        "\n",
        "$\\displaystyle\n",
        "\\text{Loss} = -\\log(q_y) = -\\log\\left(\\frac{e^{z_y}}{\\sum_{j=0}^{C-1} e^{z_j}}\\right)\n",
        "$\n",
        "\n",
        "**Simplifying the Formula**\n",
        "\n",
        "We can now simplify this expression:\n",
        "\n",
        "$\\displaystyle\n",
        "\\text{Loss} = -\\log\\left(\\frac{e^{z_y}}{\\sum_{j=0}^{C-1} e^{z_j}}\\right)\n",
        "$\n",
        "\n",
        "Applying the logarithm property $\\displaystyle( \\log\\left(\\frac{a}{b}\\right) = \\log(a) - \\log(b) )$:\n",
        "\n",
        "$\\displaystyle\n",
        "\\text{Loss} = -\\left(\\log(e^{z_y}) - \\log\\left(\\sum_{j=0}^{C-1} e^{z_j}\\right)\\right)\n",
        "$\n",
        "\n",
        "Since $\\displaystyle( \\log(e^{z_y}) = z_y )$:\n",
        "\n",
        "$\\displaystyle\n",
        "\\text{Loss} = -z_y + \\log\\left(\\sum_{j=1}^{C} e^{z_j}\\right)\n",
        "$"
      ],
      "metadata": {
        "id": "QZ2CVz8TCmhr"
      }
    },
    {
      "cell_type": "code",
      "source": [
        "import torch\n",
        "\n",
        "# Definindo a semente e criando os logits e labels\n",
        "torch.manual_seed(11)\n",
        "dummy_logits = torch.randn((5, 3))\n",
        "dummy_labels = torch.tensor([0, 0, 1, 2, 1])\n",
        "\n",
        "# Função Softmax\n",
        "def softmax(logits):\n",
        "    exp_logits = torch.exp(logits)\n",
        "    sum_exp_logits = torch.sum(exp_logits, dim=1, keepdim=True)\n",
        "    return exp_logits / sum_exp_logits\n",
        "\n",
        "# Aplicando a função Softmax aos logits\n",
        "probabilities = softmax(dummy_logits)"
      ],
      "metadata": {
        "id": "tgoTkLVRwOe6"
      },
      "execution_count": 33,
      "outputs": []
    },
    {
      "cell_type": "code",
      "source": [
        "probabilities"
      ],
      "metadata": {
        "colab": {
          "base_uri": "https://localhost:8080/"
        },
        "id": "g0smxFuZsH7b",
        "outputId": "109958ea-199a-4054-a309-394ca3bc5f91"
      },
      "execution_count": 34,
      "outputs": [
        {
          "output_type": "execute_result",
          "data": {
            "text/plain": [
              "tensor([[0.2181, 0.7301, 0.0518],\n",
              "        [0.1664, 0.3663, 0.4673],\n",
              "        [0.2861, 0.3629, 0.3510],\n",
              "        [0.0686, 0.8010, 0.1305],\n",
              "        [0.3421, 0.1481, 0.5098]])"
            ]
          },
          "metadata": {},
          "execution_count": 34
        }
      ]
    },
    {
      "cell_type": "code",
      "source": [
        "dummy_logits"
      ],
      "metadata": {
        "colab": {
          "base_uri": "https://localhost:8080/"
        },
        "id": "pyxWR-e-sOCT",
        "outputId": "ff6068c7-fa2d-4cb2-8c13-9a0ee270641f"
      },
      "execution_count": 35,
      "outputs": [
        {
          "output_type": "execute_result",
          "data": {
            "text/plain": [
              "tensor([[ 0.7376,  1.9459, -0.6995],\n",
              "        [-1.3023, -0.5133, -0.2696],\n",
              "        [ 0.2462,  0.4839,  0.4504],\n",
              "        [-0.9568,  1.5012, -0.3136],\n",
              "        [-0.2343, -1.0713,  0.1648]])"
            ]
          },
          "metadata": {},
          "execution_count": 35
        }
      ]
    },
    {
      "cell_type": "code",
      "source": [
        "# Calculating cross-entropy manually\n",
        "def cross_entropy_loss(probabilities, labels):\n",
        "    # Getting the probabilities of the correct classes\n",
        "    correct_class_probs = probabilities[range(len(labels)), labels]\n",
        "    # Calculating the cross-entropy loss\n",
        "    loss = -torch.log(correct_class_probs)\n",
        "    return torch.mean(loss)"
      ],
      "metadata": {
        "id": "IPT0hlLUsAb0"
      },
      "execution_count": 36,
      "outputs": []
    },
    {
      "cell_type": "code",
      "source": [
        "# Calculating the loss\n",
        "loss = cross_entropy_loss(probabilities, dummy_labels)\n",
        "\n",
        "print(\"\\nLoss:\")\n",
        "print(loss.item())"
      ],
      "metadata": {
        "colab": {
          "base_uri": "https://localhost:8080/"
        },
        "id": "yjBVbrbOu76m",
        "outputId": "9bfa50e8-7236-4ca3-d517-688401e20850"
      },
      "execution_count": 37,
      "outputs": [
        {
          "output_type": "stream",
          "name": "stdout",
          "text": [
            "\n",
            "Loss:\n",
            "1.6552671194076538\n"
          ]
        }
      ]
    },
    {
      "cell_type": "code",
      "source": [
        "torch.manual_seed(11)\n",
        "dummy_logits = torch.randn((5, 3))\n",
        "dummy_labels = torch.tensor([0, 0, 1, 2, 1])\n",
        "\n",
        "loss_fn = nn.CrossEntropyLoss()\n",
        "loss_fn(dummy_logits, dummy_labels)"
      ],
      "metadata": {
        "colab": {
          "base_uri": "https://localhost:8080/"
        },
        "id": "rc9a3B4pIRxT",
        "outputId": "46e6318a-0f9e-4880-f104-5751bf3682a7"
      },
      "execution_count": 38,
      "outputs": [
        {
          "output_type": "execute_result",
          "data": {
            "text/plain": [
              "tensor(1.6553)"
            ]
          },
          "metadata": {},
          "execution_count": 38
        }
      ]
    },
    {
      "cell_type": "markdown",
      "source": [
        "## Model V1"
      ],
      "metadata": {
        "id": "r1jy2B25dC_t"
      }
    },
    {
      "cell_type": "markdown",
      "source": [
        "### Configuration"
      ],
      "metadata": {
        "id": "7s3pmEB9ob2B"
      }
    },
    {
      "cell_type": "code",
      "source": [
        "torch.manual_seed(13)\n",
        "model_cnn1 = nn.Sequential()\n",
        "\n",
        "# Featurizer\n",
        "# Block 1: 1@10x10 -> n_channels@8x8 -> n_channels@4x4\n",
        "n_channels = 1\n",
        "model_cnn1.add_module('conv1', nn.Conv2d(in_channels=1, out_channels=n_channels, kernel_size=3))\n",
        "model_cnn1.add_module('relu1', nn.ReLU())\n",
        "model_cnn1.add_module('maxp1', nn.MaxPool2d(kernel_size=2))\n",
        "# Flattening: n_channels * 4 * 4\n",
        "model_cnn1.add_module('flatten', nn.Flatten())"
      ],
      "metadata": {
        "id": "dyfdDC3sdEsR"
      },
      "execution_count": 39,
      "outputs": []
    },
    {
      "cell_type": "code",
      "source": [
        "# Classification\n",
        "# Hidden Layer\n",
        "model_cnn1.add_module('fc1', nn.Linear(in_features=n_channels*4*4, out_features=10))\n",
        "model_cnn1.add_module('relu2', nn.ReLU())\n",
        "# Output Layer\n",
        "model_cnn1.add_module('fc2', nn.Linear(in_features=10, out_features=3))"
      ],
      "metadata": {
        "id": "DCXFZA97BvLl"
      },
      "execution_count": 41,
      "outputs": []
    },
    {
      "cell_type": "markdown",
      "source": [
        "### Training"
      ],
      "metadata": {
        "id": "2Zy9q9vJodty"
      }
    },
    {
      "cell_type": "code",
      "source": [
        "lr = 0.1\n",
        "multi_loss_fn = nn.CrossEntropyLoss(reduction='mean')\n",
        "optimizer_cnn1 = optim.SGD(model_cnn1.parameters(), lr=lr)"
      ],
      "metadata": {
        "id": "mUEirRA8oHZy"
      },
      "execution_count": 42,
      "outputs": []
    },
    {
      "cell_type": "code",
      "source": [
        "arch_cnn1 = Architecture(model_cnn1, multi_loss_fn, optimizer_cnn1)\n",
        "arch_cnn1.set_loaders(train_loader, val_loader)"
      ],
      "metadata": {
        "id": "o4gg91thojCJ"
      },
      "execution_count": 43,
      "outputs": []
    },
    {
      "cell_type": "code",
      "source": [
        "arch_cnn1.train(20)"
      ],
      "metadata": {
        "id": "VhEtWjxmrXUD"
      },
      "execution_count": 44,
      "outputs": []
    },
    {
      "cell_type": "code",
      "source": [
        "fig = arch_cnn1.plot_losses()"
      ],
      "metadata": {
        "colab": {
          "base_uri": "https://localhost:8080/",
          "height": 359
        },
        "id": "K0Q80U0Krcdc",
        "outputId": "f68767b5-4335-47e1-f02a-a20d59711a2c"
      },
      "execution_count": 46,
      "outputs": [
        {
          "output_type": "display_data",
          "data": {
            "text/plain": [
              "<Figure size 1000x400 with 1 Axes>"
            ],
            "image/png": "[encoded data removed]"
          },
          "metadata": {}
        }
      ]
    },
    {
      "cell_type": "markdown",
      "source": [
        "### Visualizing Filters"
      ],
      "metadata": {
        "id": "L69O2i6L_e3d"
      }
    },
    {
      "cell_type": "code",
      "source": [
        "weights_filter = model_cnn1.conv1.weight.data.cpu().numpy()\n",
        "weights_filter"
      ],
      "metadata": {
        "colab": {
          "base_uri": "https://localhost:8080/"
        },
        "id": "5gJwrJ_PropS",
        "outputId": "9ba277dd-d643-4227-e6bb-b77273b743e3"
      },
      "execution_count": 47,
      "outputs": [
        {
          "output_type": "execute_result",
          "data": {
            "text/plain": [
              "array([[[[-0.98543113, -0.62264746,  0.12176603],\n",
              "         [-0.87226605, -1.0364404 ,  0.77272683],\n",
              "         [ 0.12097283,  1.0189984 ,  2.0316062 ]]]], dtype=float32)"
            ]
          },
          "metadata": {},
          "execution_count": 47
        }
      ]
    },
    {
      "cell_type": "code",
      "source": [
        "weights_filter.shape"
      ],
      "metadata": {
        "colab": {
          "base_uri": "https://localhost:8080/"
        },
        "id": "yhMavLItTrrZ",
        "outputId": "fff74f8b-a6f7-4268-af86-2ef7e35ccc6c"
      },
      "execution_count": 48,
      "outputs": [
        {
          "output_type": "execute_result",
          "data": {
            "text/plain": [
              "(1, 1, 3, 3)"
            ]
          },
          "metadata": {},
          "execution_count": 48
        }
      ]
    },
    {
      "cell_type": "code",
      "source": [
        "fig = arch_cnn1.visualize_filters('conv1', cmap='gray')"
      ],
      "metadata": {
        "colab": {
          "base_uri": "https://localhost:8080/",
          "height": 195
        },
        "id": "OJiiDzvMUHtW",
        "outputId": "ab7add1c-85ed-4578-a5e2-55238b55a0ee"
      },
      "execution_count": 70,
      "outputs": [
        {
          "output_type": "display_data",
          "data": {
            "text/plain": [
              "<Figure size 400x200 with 1 Axes>"
            ],
            "image/png": "[encoded data removed]"
          },
          "metadata": {}
        }
      ]
    },
    {
      "cell_type": "markdown",
      "source": [
        "To really understand the effect this filter has on each image, we need to visualize the intermediate values produced by our model, namely, the output of each and\n",
        "every layer!"
      ],
      "metadata": {
        "id": "oabeV8wEGeab"
      }
    },
    {
      "cell_type": "markdown",
      "source": [
        "### Hooks"
      ],
      "metadata": {
        "id": "wlCtdfkaPNJU"
      }
    },
    {
      "cell_type": "markdown",
      "source": [
        "A **hook** is simply a way to force a model to execute a function either after its\n",
        "**forward pass** or after its **backward pass**. Hence, there are forward hooks and\n",
        "backward hooks."
      ],
      "metadata": {
        "id": "Hgq1HPA1QIjD"
      }
    },
    {
      "cell_type": "code",
      "source": [
        "# Create a simple linear model with one input and one output\n",
        "dummy_model = nn.Linear(1, 1)\n",
        "\n",
        "# Create an empty list to store hook information\n",
        "dummy_list = []\n",
        "\n",
        "# Define the hook function\n",
        "# This function will be called during the forward pass of the network\n",
        "# The function receives three parameters:\n",
        "# - layer: the current layer where the hook is registered\n",
        "# - inputs: the input to the layer\n",
        "# - outputs: the output from the layer\n",
        "def dummy_hook(layer, inputs, outputs):\n",
        "    # Append a tuple containing the layer, the input, and the output to the dummy_list\n",
        "    dummy_list.append((layer, inputs, outputs))\n",
        "\n",
        "# Register the hook to the model's layer\n",
        "# During the model's execution, the hook function will be called\n",
        "handle = dummy_model.register_forward_hook(dummy_hook)\n",
        "\n",
        "# Now, whenever the dummy_model layer is executed, the dummy_hook function will be called\n",
        "# and the layer, input, and output will be added to dummy_list"
      ],
      "metadata": {
        "id": "6NPK9wSUQ9fQ"
      },
      "execution_count": 71,
      "outputs": []
    },
    {
      "cell_type": "code",
      "execution_count": 72,
      "metadata": {
        "id": "xQo3ikwNlWA8",
        "outputId": "f624fa33-a104-409d-ab2b-7f5b8c999f7d",
        "colab": {
          "base_uri": "https://localhost:8080/"
        }
      },
      "outputs": [
        {
          "output_type": "execute_result",
          "data": {
            "text/plain": [
              "tensor([-0.6054], grad_fn=<ViewBackward0>)"
            ]
          },
          "metadata": {},
          "execution_count": 72
        }
      ],
      "source": [
        "dummy_x = torch.tensor([0.3])\n",
        "dummy_model(dummy_x)"
      ]
    },
    {
      "cell_type": "code",
      "execution_count": 73,
      "metadata": {
        "id": "udMffvHxlWA8",
        "outputId": "1cb6cd32-57f8-4929-b1a1-6f5ac7e55c6f",
        "colab": {
          "base_uri": "https://localhost:8080/"
        }
      },
      "outputs": [
        {
          "output_type": "execute_result",
          "data": {
            "text/plain": [
              "[(Linear(in_features=1, out_features=1, bias=True),\n",
              "  (tensor([0.3000]),),\n",
              "  tensor([-0.6054], grad_fn=<ViewBackward0>))]"
            ]
          },
          "metadata": {},
          "execution_count": 73
        }
      ],
      "source": [
        "dummy_list"
      ]
    },
    {
      "cell_type": "markdown",
      "source": [
        "If you call the model once\n",
        "again, it will append yet another tuple to the list, and so on and so forth. This hook\n",
        "is going to be hooked to our model until it is explicitly removed (hence the need to\n",
        "keep the handles). To remove a hook, you can simply call its **remove()** method:"
      ],
      "metadata": {
        "id": "8eS97KhPR67C"
      }
    },
    {
      "cell_type": "code",
      "execution_count": 74,
      "metadata": {
        "id": "b4bHuecrlWA9"
      },
      "outputs": [],
      "source": [
        "handle.remove()"
      ]
    },
    {
      "cell_type": "markdown",
      "source": [
        "And the hook goes bye-bye! But we did not lose the collected information, since\n",
        "our variable, dummy_list, was defined outside the hook function."
      ],
      "metadata": {
        "id": "onXZvDe9SLb7"
      }
    },
    {
      "cell_type": "code",
      "source": [
        "import torch  # Import the necessary module from PyTorch\n",
        "\n",
        "# Create a dummy input tensor with a value of 0.3\n",
        "dummy_x = torch.tensor([0.3])\n",
        "\n",
        "# Pass the dummy input through the dummy_model\n",
        "dummy_model(dummy_x)\n",
        "# Output of the model, which is a tensor with a value and a gradient function\n",
        "# tensor([-0.2450], grad_fn=<ViewBackward0>)\n",
        "\n",
        "# Check the dummy_list to see the stored hook information\n",
        "dummy_list\n",
        "# The list contains a tuple with:\n",
        "# - The Linear layer used in the dummy_model\n",
        "# - The input tensor passed to the layer (dummy_x)\n",
        "# - The output tensor from the layer with a gradient function\n",
        "# [(Linear(in_features=1, out_features=1, bias=True),\n",
        "#   (tensor([0.3000]),),\n",
        "#   tensor([-0.2450], grad_fn=<ViewBackward0>))]\n",
        "\n",
        "# Remove the hook from the model\n",
        "handle.remove()"
      ],
      "metadata": {
        "id": "JQPKwuGUSMGK"
      },
      "execution_count": 75,
      "outputs": []
    },
    {
      "cell_type": "code",
      "execution_count": 76,
      "metadata": {
        "id": "tCXzeBLWlWA9"
      },
      "outputs": [],
      "source": [
        "arch_cnn1.attach_hooks(layers_to_hook=['conv1', 'relu1',\n",
        "                                       'maxp1', 'flatten',\n",
        "                                       'fc1', 'relu2', 'fc2'])"
      ]
    },
    {
      "cell_type": "code",
      "execution_count": 77,
      "metadata": {
        "id": "6iAKclValWA9"
      },
      "outputs": [],
      "source": [
        "images_batch, labels_batch = next(iter(val_loader))\n",
        "logits = arch_cnn1.predict(images_batch)"
      ]
    },
    {
      "cell_type": "code",
      "source": [
        "logits"
      ],
      "metadata": {
        "colab": {
          "base_uri": "https://localhost:8080/"
        },
        "id": "sx-77omJYPck",
        "outputId": "9a351c5b-5575-4620-b49f-8b0a3039444b"
      },
      "execution_count": 78,
      "outputs": [
        {
          "output_type": "execute_result",
          "data": {
            "text/plain": [
              "array([[ -0.7025167 ,  -0.88686275,   1.2460043 ],\n",
              "       [ -0.7023481 ,  -0.88708615,   1.2460485 ],\n",
              "       [ -0.7022598 ,  -0.88731825,   1.2461419 ],\n",
              "       [  8.937834  ,   1.8824315 ,  -6.2809005 ],\n",
              "       [  7.0694046 ,   0.0285826 ,  -6.4076877 ],\n",
              "       [  8.937834  ,   1.8824315 ,  -6.2809005 ],\n",
              "       [ -0.7022598 ,  -0.88731825,   1.2461419 ],\n",
              "       [ -0.7022598 ,  -0.88731825,   1.2461419 ],\n",
              "       [ -0.7022598 ,  -0.88731825,   1.2461419 ],\n",
              "       [  0.69231856,   6.4882727 ,  -5.576466  ],\n",
              "       [  9.938673  ,   3.1870468 , -11.1746235 ],\n",
              "       [ -0.2380904 ,   4.372193  ,  -3.1215951 ],\n",
              "       [ -0.7022598 ,  -0.88731825,   1.2461419 ],\n",
              "       [  1.3014423 ,   8.419593  ,  -7.7523694 ],\n",
              "       [ -0.70248806,  -0.8868166 ,   1.2459629 ],\n",
              "       [  9.361308  ,   2.4471712 , -10.740905  ]], dtype=float32)"
            ]
          },
          "metadata": {},
          "execution_count": 78
        }
      ]
    },
    {
      "cell_type": "code",
      "execution_count": 79,
      "metadata": {
        "id": "OwcKogJelWA9"
      },
      "outputs": [],
      "source": [
        "arch_cnn1.remove_hooks()"
      ]
    },
    {
      "cell_type": "code",
      "execution_count": 80,
      "metadata": {
        "id": "g2iXWWtDlWA9",
        "outputId": "bd15eef9-fa84-4711-bcbb-5254fa10df9d",
        "colab": {
          "base_uri": "https://localhost:8080/"
        }
      },
      "outputs": [
        {
          "output_type": "execute_result",
          "data": {
            "text/plain": [
              "array([2, 2, 2, 0, 0, 0, 2, 2, 2, 1, 0, 1, 2, 1, 2, 0])"
            ]
          },
          "metadata": {},
          "execution_count": 80
        }
      ],
      "source": [
        "predicted = np.argmax(logits, 1)\n",
        "predicted"
      ]
    },
    {
      "cell_type": "markdown",
      "source": [
        "### Visualizing Feature Maps"
      ],
      "metadata": {
        "id": "76XOQ4e8aE4m"
      }
    },
    {
      "cell_type": "code",
      "source": [
        "fig = plot_images(images_batch.squeeze(),\n",
        "                  labels_batch.squeeze(),\n",
        "                  n_plot=10)"
      ],
      "metadata": {
        "colab": {
          "base_uri": "https://localhost:8080/",
          "height": 98
        },
        "id": "Vhl2j1p8Yd6Y",
        "outputId": "b6a19f4e-79a6-42e4-d3b3-b2b566cd94b2"
      },
      "execution_count": 81,
      "outputs": [
        {
          "output_type": "display_data",
          "data": {
            "text/plain": [
              "<Figure size 1500x150 with 10 Axes>"
            ],
            "image/png": "[encoded data removed]"
          },
          "metadata": {}
        }
      ]
    },
    {
      "cell_type": "code",
      "source": [
        "featurizer_layers = ['conv1', 'relu1',\n",
        "                     'maxp1', 'flatten']\n",
        "\n",
        "# with plt.style.context('seaborn-white'):\n",
        "with plt.style.context('seaborn-v0_8-white'):\n",
        "    fig = arch_cnn1.visualize_outputs(featurizer_layers)"
      ],
      "metadata": {
        "colab": {
          "base_uri": "https://localhost:8080/",
          "height": 329
        },
        "id": "mtMUqYZ2aOep",
        "outputId": "3f4447ac-2e40-48ec-804e-63b30e65efb7"
      },
      "execution_count": 82,
      "outputs": [
        {
          "output_type": "display_data",
          "data": {
            "text/plain": [
              "<Figure size 1500x600 with 40 Axes>"
            ],
            "image/png": "[encoded data removed]"
          },
          "metadata": {}
        }
      ]
    },
    {
      "cell_type": "markdown",
      "source": [
        "### Visualizing Classifier Layers\n"
      ],
      "metadata": {
        "id": "poPRy8NLgs9c"
      }
    },
    {
      "cell_type": "code",
      "source": [
        "classifier_layers = ['fc1', 'relu2', 'fc2']\n",
        "\n",
        "with plt.style.context('seaborn-v0_8-white'):\n",
        "    fig = arch_cnn1.visualize_outputs(classifier_layers, y=labels_batch, yhat=predicted)"
      ],
      "metadata": {
        "colab": {
          "base_uri": "https://localhost:8080/",
          "height": 222
        },
        "id": "ozccCVXcgxJv",
        "outputId": "b1b2c463-8cce-4d0d-bf55-8751e9564978"
      },
      "execution_count": 83,
      "outputs": [
        {
          "output_type": "display_data",
          "data": {
            "text/plain": [
              "<Figure size 1500x450 with 30 Axes>"
            ],
            "image/png": "[encoded data removed]"
          },
          "metadata": {}
        }
      ]
    },
    {
      "cell_type": "markdown",
      "source": [
        "### Accucary"
      ],
      "metadata": {
        "id": "WzR0lqk3CTmF"
      }
    },
    {
      "cell_type": "markdown",
      "source": [
        "So, there are only two wrong predictions, both for class #0 (parallel lines), corresponding to images #6 and #8, as we’ve already seen in the previous section."
      ],
      "metadata": {
        "id": "aEX3qLb0ChpA"
      }
    },
    {
      "cell_type": "code",
      "source": [
        "arch_cnn1.correct(images_batch,\n",
        "                  labels_batch)"
      ],
      "metadata": {
        "colab": {
          "base_uri": "https://localhost:8080/"
        },
        "id": "xMm8as_hgz44",
        "outputId": "39fa3787-c523-4d2f-b891-4a63971009a2"
      },
      "execution_count": 84,
      "outputs": [
        {
          "output_type": "execute_result",
          "data": {
            "text/plain": [
              "tensor([[5, 7],\n",
              "        [3, 3],\n",
              "        [6, 6]])"
            ]
          },
          "metadata": {},
          "execution_count": 84
        }
      ]
    },
    {
      "cell_type": "code",
      "source": [
        "## Loader Apply\n",
        "Architecture.loader_apply(arch_cnn1.val_loader,\n",
        "                          arch_cnn1.correct)"
      ],
      "metadata": {
        "colab": {
          "base_uri": "https://localhost:8080/"
        },
        "id": "WZ3-v4i6CcGL",
        "outputId": "528b14f2-348f-4d1a-b91e-eefa6bcb0619"
      },
      "execution_count": 85,
      "outputs": [
        {
          "output_type": "execute_result",
          "data": {
            "text/plain": [
              "tensor([[59, 67],\n",
              "        [55, 62],\n",
              "        [71, 71]])"
            ]
          },
          "metadata": {},
          "execution_count": 85
        }
      ]
    },
    {
      "cell_type": "markdown",
      "metadata": {
        "id": "Ea2KKD45lWA-"
      },
      "source": [
        "# Putting It All Together"
      ]
    },
    {
      "cell_type": "markdown",
      "metadata": {
        "id": "g7WtX5g_lWA-"
      },
      "source": [
        "## Data Preparation"
      ]
    },
    {
      "cell_type": "code",
      "execution_count": 86,
      "metadata": {
        "id": "-pYrvCXFlWA-"
      },
      "outputs": [],
      "source": [
        "# Builds tensors from numpy arrays BEFORE split\n",
        "# Modifies the scale of pixel values from [0, 255] to [0, 1]\n",
        "x_tensor = torch.as_tensor(images / 255).float()\n",
        "y_tensor = torch.as_tensor(labels).long()\n",
        "\n",
        "# Uses index_splitter to generate indices for training and\n",
        "# validation sets\n",
        "train_idx, val_idx = index_splitter(len(x_tensor), [80, 20])\n",
        "# Uses indices to perform the split\n",
        "x_train_tensor = x_tensor[train_idx]\n",
        "y_train_tensor = y_tensor[train_idx]\n",
        "x_val_tensor = x_tensor[val_idx]\n",
        "y_val_tensor = y_tensor[val_idx]\n",
        "\n",
        "# We're not doing any data augmentation now\n",
        "train_composer = Compose([Normalize(mean=(.5,), std=(.5,))])\n",
        "val_composer = Compose([Normalize(mean=(.5,), std=(.5,))])\n",
        "\n",
        "# Uses custom dataset to apply composed transforms to each set\n",
        "train_dataset = TransformedTensorDataset(x_train_tensor, y_train_tensor, transform=train_composer)\n",
        "val_dataset = TransformedTensorDataset(x_val_tensor, y_val_tensor, transform=val_composer)\n",
        "\n",
        "# Builds a weighted random sampler to handle imbalanced classes\n",
        "sampler = make_balanced_sampler(y_train_tensor)\n",
        "\n",
        "# Uses sampler in the training set to get a balanced data loader\n",
        "train_loader = DataLoader(dataset=train_dataset, batch_size=16, sampler=sampler)\n",
        "val_loader = DataLoader(dataset=val_dataset, batch_size=16)"
      ]
    },
    {
      "cell_type": "markdown",
      "metadata": {
        "id": "nbaO1665lWA-"
      },
      "source": [
        "## Model Configuration"
      ]
    },
    {
      "cell_type": "code",
      "execution_count": 87,
      "metadata": {
        "id": "-TUU8n2AlWA-"
      },
      "outputs": [],
      "source": [
        "torch.manual_seed(13)\n",
        "model_cnn1 = nn.Sequential()\n",
        "\n",
        "# Featurizer\n",
        "# Block 1: 1@10x10 -> n_channels@8x8 -> n_channels@4x4\n",
        "n_channels = 1\n",
        "model_cnn1.add_module('conv1', nn.Conv2d(in_channels=1, out_channels=n_channels, kernel_size=3))\n",
        "model_cnn1.add_module('relu1', nn.ReLU())\n",
        "model_cnn1.add_module('maxp1', nn.MaxPool2d(kernel_size=2))\n",
        "# Flattening: n_channels * 4 * 4\n",
        "model_cnn1.add_module('flatten', nn.Flatten())\n",
        "\n",
        "# Classification\n",
        "# Hidden Layer\n",
        "model_cnn1.add_module('fc1', nn.Linear(in_features=n_channels*4*4, out_features=10))\n",
        "model_cnn1.add_module('relu2', nn.ReLU())\n",
        "# Output Layer\n",
        "model_cnn1.add_module('fc2', nn.Linear(in_features=10, out_features=3))\n",
        "\n",
        "lr = 0.1\n",
        "multi_loss_fn = nn.CrossEntropyLoss(reduction='mean')\n",
        "optimizer_cnn1 = optim.SGD(model_cnn1.parameters(), lr=lr)"
      ]
    },
    {
      "cell_type": "markdown",
      "metadata": {
        "id": "xbnordAGlWA-"
      },
      "source": [
        "## Model Training"
      ]
    },
    {
      "cell_type": "code",
      "execution_count": 88,
      "metadata": {
        "id": "AOWbaRn7lWA-"
      },
      "outputs": [],
      "source": [
        "arch_cnn1 = Architecture(model_cnn1, multi_loss_fn, optimizer_cnn1)\n",
        "arch_cnn1.set_loaders(train_loader, val_loader)\n",
        "arch_cnn1.train(20)"
      ]
    },
    {
      "cell_type": "markdown",
      "metadata": {
        "id": "80rs_y2vlWA-"
      },
      "source": [
        "## Visualizing Filters"
      ]
    },
    {
      "cell_type": "code",
      "execution_count": 89,
      "metadata": {
        "id": "6r4pVBmYlWA-",
        "outputId": "bec2e8e5-5b8b-4c0f-d68d-6ac95ec12900",
        "colab": {
          "base_uri": "https://localhost:8080/",
          "height": 195
        }
      },
      "outputs": [
        {
          "output_type": "display_data",
          "data": {
            "text/plain": [
              "<Figure size 400x200 with 1 Axes>"
            ],
            "image/png": "[encoded data removed]"
          },
          "metadata": {}
        }
      ],
      "source": [
        "fig_filters = arch_cnn1.visualize_filters('conv1', cmap='gray')"
      ]
    },
    {
      "cell_type": "markdown",
      "metadata": {
        "id": "XX_jlK5ElWA-"
      },
      "source": [
        "## Capturing Outputs"
      ]
    },
    {
      "cell_type": "code",
      "execution_count": 90,
      "metadata": {
        "id": "x7Q_QRPRlWA-"
      },
      "outputs": [],
      "source": [
        "featurizer_layers = ['conv1', 'relu1', 'maxp1', 'flatten']\n",
        "classifier_layers = ['fc1', 'relu2', 'fc2']\n",
        "\n",
        "arch_cnn1.attach_hooks(layers_to_hook=featurizer_layers + classifier_layers)\n",
        "\n",
        "images_batch, labels_batch = next(iter(val_loader))\n",
        "logits = arch_cnn1.predict(images_batch)\n",
        "predicted = np.argmax(logits, 1)\n",
        "\n",
        "arch_cnn1.remove_hooks()"
      ]
    },
    {
      "cell_type": "markdown",
      "metadata": {
        "id": "2raUtBu2lWA-"
      },
      "source": [
        "## Visualizing Feature Maps"
      ]
    },
    {
      "cell_type": "code",
      "execution_count": 92,
      "metadata": {
        "scrolled": false,
        "id": "uN3mG_Z2lWA-",
        "outputId": "36e8cd27-11d5-4a71-ce46-0bdec84aa37d",
        "colab": {
          "base_uri": "https://localhost:8080/",
          "height": 535
        }
      },
      "outputs": [
        {
          "output_type": "display_data",
          "data": {
            "text/plain": [
              "<Figure size 1500x600 with 40 Axes>"
            ],
            "image/png": "[encoded data removed]"
          },
          "metadata": {}
        },
        {
          "output_type": "display_data",
          "data": {
            "text/plain": [
              "<Figure size 1500x450 with 30 Axes>"
            ],
            "image/png": "[encoded data removed]"
          },
          "metadata": {}
        }
      ],
      "source": [
        "with plt.style.context('seaborn-v0_8-white'):\n",
        "    fig_maps1 = arch_cnn1.visualize_outputs(featurizer_layers)\n",
        "    fig_maps2 = arch_cnn1.visualize_outputs(classifier_layers, y=labels_batch, yhat=predicted)"
      ]
    },
    {
      "cell_type": "markdown",
      "metadata": {
        "id": "LHUD4y_PlWA-"
      },
      "source": [
        "## Accuracy"
      ]
    },
    {
      "cell_type": "code",
      "execution_count": 93,
      "metadata": {
        "id": "wmCe9FiXlWA-",
        "outputId": "6405d297-0030-4444-ac13-72b9fc10fe60",
        "colab": {
          "base_uri": "https://localhost:8080/"
        }
      },
      "outputs": [
        {
          "output_type": "execute_result",
          "data": {
            "text/plain": [
              "tensor([[59, 67],\n",
              "        [55, 62],\n",
              "        [71, 71]])"
            ]
          },
          "metadata": {},
          "execution_count": 93
        }
      ],
      "source": [
        "Architecture.loader_apply(arch_cnn1.val_loader, arch_cnn1.correct)"
      ]
    },
    {
      "cell_type": "code",
      "source": [],
      "metadata": {
        "id": "3y3qiMYqIXKG"
      },
      "execution_count": null,
      "outputs": []
    }
  ]
}